{
 "cells": [
  {
   "cell_type": "code",
   "execution_count": 145,
   "metadata": {},
   "outputs": [],
   "source": [
    "# set the matplotlib backend so figures can be saved in the background\n",
    "#TODO: cleanup, lint\n",
    "import matplotlib\n",
    "matplotlib.use(\"Agg\")\n",
    " \n",
    "import pathlib\n",
    "from pathlib import Path\n",
    "import matplotlib.pyplot as plot\n",
    "import librosa\n",
    "import keras\n",
    "from keras.layers import Activation, Dense, Dropout, Conv2D, \\\n",
    "                         Flatten, MaxPooling2D\n",
    "from keras.callbacks import EarlyStopping, ModelCheckpoint\n",
    "    \n",
    "# import the necessary packages\n",
    "from musicrec.vgg import VGGNet\n",
    "from sklearn.preprocessing import LabelBinarizer\n",
    "from sklearn.model_selection import train_test_split\n",
    "from sklearn.metrics import classification_report\n",
    "from sklearn.metrics import confusion_matrix\n",
    "from numpy import argmax\n",
    "from sklearn.preprocessing import LabelEncoder\n",
    "from sklearn.preprocessing import OneHotEncoder\n",
    "from keras.preprocessing.image import ImageDataGenerator\n",
    "from keras.optimizers import SGD\n",
    "from keras import regularizers\n",
    "from imutils import paths\n",
    "import matplotlib.pyplot as plt\n",
    "import numpy as np\n",
    "import argparse\n",
    "import random\n",
    "from datetime import datetime\n",
    "import pickle\n",
    "import cv2\n",
    "import os\n",
    "import sys\n",
    "import tensorflow as tf\n",
    "import pickle\n",
    "import json\n",
    "import re\n",
    "\n",
    "from keras.models import Sequential\n",
    "\n",
    "import warnings\n",
    "\n",
    "#env parameters\n",
    "warnings.filterwarnings('ignore')\n",
    "os.environ['TF_CPP_MIN_LOG_LEVEL'] = '2' "
   ]
  },
  {
   "cell_type": "code",
   "execution_count": 146,
   "metadata": {},
   "outputs": [],
   "source": [
    "# Paramters\n",
    "data_folder = Path(\"../../../audio/testfiles/GTZAN/genres/\")\n",
    "output_root = './../../../models/'\n",
    "output_folder = Path('./output/cvnn.model')\n",
    "output_model = output_root + '/cnn_dong_model_weights.h5'\n",
    "output_architecture = output_root + '/cnn_dong_model_architecture.json'\n",
    "output_whole = output_root + 'cnn_dong_model_whole.h5'\n",
    "output_best_model = output_root + 'best_model.h5'\n",
    "output_label = output_root + 'label.pkl'\n",
    "output_test_paths = output_root + 'test_paths.pkl'\n",
    "spectogram_folder = Path(\"./img_data/\")\n",
    "# Duration of songsnippet in seconds\n",
    "duration = 2.97\n",
    "start_offset = 3\n",
    "# Matplotlib colormap for spectogram\n",
    "spectogram_cmap = 'binary' \n",
    "# Predefined list of genres\n",
    "pred_genres = 'blues classical country disco hiphop jazz metal pop reggae rock'.split() \n",
    "epochs = 400\n",
    "num_segments = 2\n",
    "\n",
    "es_patience = 10\n",
    "return_train_and_test = 1\n",
    "\n",
    "# parameters\n",
    "sr = 22050 # if sampling rate is different, resample it to this\n",
    "\n",
    "# parameters for calculating spectrogram in mel scale\n",
    "fmax = 1500 # maximum frequency considered\n",
    "fft_window_points = 512\n",
    "fft_window_dur = fft_window_points * 1.0 / sr # 23ms windows\n",
    "hop_size = int(fft_window_points/ 2) # 50% overlap between consecutive frames\n",
    "n_mels = 64\n",
    "\n",
    "# segment duration\n",
    "num_fft_windows = 256 # num fft windows per music segment\n",
    "segment_in_points = num_fft_windows * 255 # number of data points that ensure the spectrogram has size: 64 * 256\n",
    "segment_dur = segment_in_points * 1.0 / sr\n",
    "\n",
    "num_genres=10\n",
    "input_shape=(64, 256, 1)\n",
    "\n",
    "randomseed = 11\n",
    "#randomseed = datetime.now()\n",
    "# Seed for RNG\n",
    "random.seed(randomseed)\n"
   ]
  },
  {
   "cell_type": "code",
   "execution_count": 147,
   "metadata": {},
   "outputs": [],
   "source": [
    "#Get directories of all songs\n",
    "songs = []\n",
    "genres = []\n",
    "\n",
    "for g in data_folder.iterdir():\n",
    "    genres.append(g.name)\n",
    "    for i in g.iterdir():\n",
    "        songs.append(i)"
   ]
  },
  {
   "cell_type": "code",
   "execution_count": 148,
   "metadata": {},
   "outputs": [],
   "source": [
    "mel_specs = []  \n",
    "labels = []\n",
    "\n",
    "#loading with different numbers of segements for data-augmentation\n",
    "#!Initialize \"spectograms\" before running\n",
    "def load_specs(data = songs, num_segments = 1):\n",
    "    for song in data:\n",
    "        offset = start_offset\n",
    "        for i in range(num_segments):\n",
    "            y, sr = librosa.load(song, mono=True, offset=offset, duration=duration)\n",
    "            m_sp = librosa.feature.melspectrogram(y=y, sr=sr, n_fft=fft_window_points,\n",
    "                                                  hop_length=hop_size, n_mels=n_mels,\n",
    "                                                  fmax=fmax)\n",
    "        #if m_sp.shape != (128, 128): continue\n",
    "            mel_specs.append([m_sp])\n",
    "            label = song.parts[-2]\n",
    "            labels.append(label)\n",
    "            spectograms.append( (m_sp, label, song, offset, duration) )\n",
    "            offset = offset + duration/2\n",
    "        input_shape = m_sp.shape + (1,)"
   ]
  },
  {
   "cell_type": "code",
   "execution_count": null,
   "metadata": {},
   "outputs": [
    {
     "name": "stdout",
     "output_type": "stream",
     "text": [
      "[PosixPath('../../../audio/testfiles/GTZAN/genres/blues/blues.00011.wav'), PosixPath('../../../audio/testfiles/GTZAN/genres/blues/blues.00064.wav'), PosixPath('../../../audio/testfiles/GTZAN/genres/country/country.00009.wav'), PosixPath('../../../audio/testfiles/GTZAN/genres/disco/disco.00091.wav'), PosixPath('../../../audio/testfiles/GTZAN/genres/classical/classical.00099.wav'), PosixPath('../../../audio/testfiles/GTZAN/genres/metal/metal.00002.wav'), PosixPath('../../../audio/testfiles/GTZAN/genres/blues/blues.00024.wav'), PosixPath('../../../audio/testfiles/GTZAN/genres/country/country.00043.wav'), PosixPath('../../../audio/testfiles/GTZAN/genres/rock/rock.00065.wav'), PosixPath('../../../audio/testfiles/GTZAN/genres/pop/pop.00002.wav'), PosixPath('../../../audio/testfiles/GTZAN/genres/blues/blues.00099.wav'), PosixPath('../../../audio/testfiles/GTZAN/genres/disco/disco.00081.wav'), PosixPath('../../../audio/testfiles/GTZAN/genres/hiphop/hiphop.00088.wav'), PosixPath('../../../audio/testfiles/GTZAN/genres/disco/disco.00000.wav'), PosixPath('../../../audio/testfiles/GTZAN/genres/reggae/reggae.00035.wav'), PosixPath('../../../audio/testfiles/GTZAN/genres/classical/classical.00011.wav'), PosixPath('../../../audio/testfiles/GTZAN/genres/hiphop/hiphop.00098.wav'), PosixPath('../../../audio/testfiles/GTZAN/genres/pop/pop.00064.wav'), PosixPath('../../../audio/testfiles/GTZAN/genres/pop/pop.00015.wav'), PosixPath('../../../audio/testfiles/GTZAN/genres/classical/classical.00001.wav'), PosixPath('../../../audio/testfiles/GTZAN/genres/pop/pop.00009.wav'), PosixPath('../../../audio/testfiles/GTZAN/genres/rock/rock.00083.wav'), PosixPath('../../../audio/testfiles/GTZAN/genres/metal/metal.00076.wav'), PosixPath('../../../audio/testfiles/GTZAN/genres/jazz/jazz.00091.wav'), PosixPath('../../../audio/testfiles/GTZAN/genres/reggae/reggae.00033.wav'), PosixPath('../../../audio/testfiles/GTZAN/genres/jazz/jazz.00035.wav'), PosixPath('../../../audio/testfiles/GTZAN/genres/blues/blues.00067.wav'), PosixPath('../../../audio/testfiles/GTZAN/genres/hiphop/hiphop.00072.wav'), PosixPath('../../../audio/testfiles/GTZAN/genres/metal/metal.00009.wav'), PosixPath('../../../audio/testfiles/GTZAN/genres/metal/metal.00090.wav'), PosixPath('../../../audio/testfiles/GTZAN/genres/disco/disco.00049.wav'), PosixPath('../../../audio/testfiles/GTZAN/genres/hiphop/hiphop.00069.wav'), PosixPath('../../../audio/testfiles/GTZAN/genres/jazz/jazz.00023.wav'), PosixPath('../../../audio/testfiles/GTZAN/genres/disco/disco.00076.wav'), PosixPath('../../../audio/testfiles/GTZAN/genres/classical/classical.00024.wav'), PosixPath('../../../audio/testfiles/GTZAN/genres/disco/disco.00004.wav'), PosixPath('../../../audio/testfiles/GTZAN/genres/pop/pop.00058.wav'), PosixPath('../../../audio/testfiles/GTZAN/genres/disco/disco.00033.wav'), PosixPath('../../../audio/testfiles/GTZAN/genres/classical/classical.00056.wav'), PosixPath('../../../audio/testfiles/GTZAN/genres/classical/classical.00002.wav'), PosixPath('../../../audio/testfiles/GTZAN/genres/metal/metal.00051.wav'), PosixPath('../../../audio/testfiles/GTZAN/genres/hiphop/hiphop.00015.wav'), PosixPath('../../../audio/testfiles/GTZAN/genres/reggae/reggae.00006.wav'), PosixPath('../../../audio/testfiles/GTZAN/genres/metal/metal.00069.wav'), PosixPath('../../../audio/testfiles/GTZAN/genres/disco/disco.00043.wav'), PosixPath('../../../audio/testfiles/GTZAN/genres/country/country.00004.wav'), PosixPath('../../../audio/testfiles/GTZAN/genres/country/country.00068.wav'), PosixPath('../../../audio/testfiles/GTZAN/genres/country/country.00010.wav'), PosixPath('../../../audio/testfiles/GTZAN/genres/jazz/jazz.00071.wav'), PosixPath('../../../audio/testfiles/GTZAN/genres/reggae/reggae.00005.wav'), PosixPath('../../../audio/testfiles/GTZAN/genres/blues/blues.00054.wav'), PosixPath('../../../audio/testfiles/GTZAN/genres/disco/disco.00012.wav'), PosixPath('../../../audio/testfiles/GTZAN/genres/pop/pop.00020.wav'), PosixPath('../../../audio/testfiles/GTZAN/genres/pop/pop.00018.wav'), PosixPath('../../../audio/testfiles/GTZAN/genres/country/country.00097.wav'), PosixPath('../../../audio/testfiles/GTZAN/genres/disco/disco.00092.wav'), PosixPath('../../../audio/testfiles/GTZAN/genres/reggae/reggae.00064.wav'), PosixPath('../../../audio/testfiles/GTZAN/genres/hiphop/hiphop.00038.wav'), PosixPath('../../../audio/testfiles/GTZAN/genres/disco/disco.00088.wav'), PosixPath('../../../audio/testfiles/GTZAN/genres/rock/rock.00025.wav'), PosixPath('../../../audio/testfiles/GTZAN/genres/disco/disco.00060.wav'), PosixPath('../../../audio/testfiles/GTZAN/genres/rock/rock.00063.wav'), PosixPath('../../../audio/testfiles/GTZAN/genres/blues/blues.00079.wav'), PosixPath('../../../audio/testfiles/GTZAN/genres/reggae/reggae.00021.wav'), PosixPath('../../../audio/testfiles/GTZAN/genres/metal/metal.00038.wav'), PosixPath('../../../audio/testfiles/GTZAN/genres/classical/classical.00030.wav'), PosixPath('../../../audio/testfiles/GTZAN/genres/country/country.00054.wav'), PosixPath('../../../audio/testfiles/GTZAN/genres/metal/metal.00056.wav'), PosixPath('../../../audio/testfiles/GTZAN/genres/rock/rock.00040.wav'), PosixPath('../../../audio/testfiles/GTZAN/genres/classical/classical.00094.wav'), PosixPath('../../../audio/testfiles/GTZAN/genres/rock/rock.00004.wav'), PosixPath('../../../audio/testfiles/GTZAN/genres/country/country.00021.wav'), PosixPath('../../../audio/testfiles/GTZAN/genres/jazz/jazz.00002.wav'), PosixPath('../../../audio/testfiles/GTZAN/genres/country/country.00041.wav'), PosixPath('../../../audio/testfiles/GTZAN/genres/hiphop/hiphop.00053.wav'), PosixPath('../../../audio/testfiles/GTZAN/genres/pop/pop.00023.wav'), PosixPath('../../../audio/testfiles/GTZAN/genres/classical/classical.00036.wav'), PosixPath('../../../audio/testfiles/GTZAN/genres/pop/pop.00027.wav'), PosixPath('../../../audio/testfiles/GTZAN/genres/metal/metal.00027.wav'), PosixPath('../../../audio/testfiles/GTZAN/genres/pop/pop.00024.wav'), PosixPath('../../../audio/testfiles/GTZAN/genres/pop/pop.00074.wav'), PosixPath('../../../audio/testfiles/GTZAN/genres/rock/rock.00061.wav'), PosixPath('../../../audio/testfiles/GTZAN/genres/classical/classical.00038.wav'), PosixPath('../../../audio/testfiles/GTZAN/genres/rock/rock.00003.wav'), PosixPath('../../../audio/testfiles/GTZAN/genres/disco/disco.00087.wav'), PosixPath('../../../audio/testfiles/GTZAN/genres/classical/classical.00055.wav'), PosixPath('../../../audio/testfiles/GTZAN/genres/hiphop/hiphop.00058.wav'), PosixPath('../../../audio/testfiles/GTZAN/genres/pop/pop.00033.wav'), PosixPath('../../../audio/testfiles/GTZAN/genres/rock/rock.00049.wav'), PosixPath('../../../audio/testfiles/GTZAN/genres/reggae/reggae.00066.wav'), PosixPath('../../../audio/testfiles/GTZAN/genres/pop/pop.00083.wav'), PosixPath('../../../audio/testfiles/GTZAN/genres/country/country.00098.wav'), PosixPath('../../../audio/testfiles/GTZAN/genres/reggae/reggae.00057.wav'), PosixPath('../../../audio/testfiles/GTZAN/genres/classical/classical.00071.wav'), PosixPath('../../../audio/testfiles/GTZAN/genres/classical/classical.00052.wav'), PosixPath('../../../audio/testfiles/GTZAN/genres/rock/rock.00069.wav'), PosixPath('../../../audio/testfiles/GTZAN/genres/rock/rock.00013.wav'), PosixPath('../../../audio/testfiles/GTZAN/genres/disco/disco.00078.wav'), PosixPath('../../../audio/testfiles/GTZAN/genres/disco/disco.00083.wav'), PosixPath('../../../audio/testfiles/GTZAN/genres/metal/metal.00017.wav'), PosixPath('../../../audio/testfiles/GTZAN/genres/blues/blues.00096.wav'), PosixPath('../../../audio/testfiles/GTZAN/genres/hiphop/hiphop.00006.wav'), PosixPath('../../../audio/testfiles/GTZAN/genres/rock/rock.00044.wav'), PosixPath('../../../audio/testfiles/GTZAN/genres/jazz/jazz.00077.wav'), PosixPath('../../../audio/testfiles/GTZAN/genres/pop/pop.00042.wav'), PosixPath('../../../audio/testfiles/GTZAN/genres/blues/blues.00063.wav'), PosixPath('../../../audio/testfiles/GTZAN/genres/rock/rock.00045.wav'), PosixPath('../../../audio/testfiles/GTZAN/genres/hiphop/hiphop.00007.wav'), PosixPath('../../../audio/testfiles/GTZAN/genres/hiphop/hiphop.00070.wav'), PosixPath('../../../audio/testfiles/GTZAN/genres/disco/disco.00041.wav'), PosixPath('../../../audio/testfiles/GTZAN/genres/classical/classical.00039.wav'), PosixPath('../../../audio/testfiles/GTZAN/genres/country/country.00028.wav'), PosixPath('../../../audio/testfiles/GTZAN/genres/metal/metal.00060.wav'), PosixPath('../../../audio/testfiles/GTZAN/genres/blues/blues.00066.wav'), PosixPath('../../../audio/testfiles/GTZAN/genres/reggae/reggae.00048.wav'), PosixPath('../../../audio/testfiles/GTZAN/genres/blues/blues.00081.wav'), PosixPath('../../../audio/testfiles/GTZAN/genres/blues/blues.00023.wav'), PosixPath('../../../audio/testfiles/GTZAN/genres/reggae/reggae.00055.wav'), PosixPath('../../../audio/testfiles/GTZAN/genres/classical/classical.00061.wav'), PosixPath('../../../audio/testfiles/GTZAN/genres/disco/disco.00055.wav'), PosixPath('../../../audio/testfiles/GTZAN/genres/metal/metal.00068.wav'), PosixPath('../../../audio/testfiles/GTZAN/genres/blues/blues.00006.wav'), PosixPath('../../../audio/testfiles/GTZAN/genres/disco/disco.00002.wav'), PosixPath('../../../audio/testfiles/GTZAN/genres/hiphop/hiphop.00052.wav'), PosixPath('../../../audio/testfiles/GTZAN/genres/hiphop/hiphop.00019.wav'), PosixPath('../../../audio/testfiles/GTZAN/genres/blues/blues.00085.wav'), PosixPath('../../../audio/testfiles/GTZAN/genres/reggae/reggae.00076.wav'), PosixPath('../../../audio/testfiles/GTZAN/genres/jazz/jazz.00036.wav'), PosixPath('../../../audio/testfiles/GTZAN/genres/blues/blues.00003.wav'), PosixPath('../../../audio/testfiles/GTZAN/genres/rock/rock.00070.wav'), PosixPath('../../../audio/testfiles/GTZAN/genres/pop/pop.00061.wav'), PosixPath('../../../audio/testfiles/GTZAN/genres/jazz/jazz.00009.wav'), PosixPath('../../../audio/testfiles/GTZAN/genres/hiphop/hiphop.00086.wav'), PosixPath('../../../audio/testfiles/GTZAN/genres/metal/metal.00042.wav'), PosixPath('../../../audio/testfiles/GTZAN/genres/rock/rock.00021.wav'), PosixPath('../../../audio/testfiles/GTZAN/genres/classical/classical.00003.wav'), PosixPath('../../../audio/testfiles/GTZAN/genres/disco/disco.00051.wav'), PosixPath('../../../audio/testfiles/GTZAN/genres/hiphop/hiphop.00082.wav'), PosixPath('../../../audio/testfiles/GTZAN/genres/reggae/reggae.00099.wav'), PosixPath('../../../audio/testfiles/GTZAN/genres/jazz/jazz.00004.wav'), PosixPath('../../../audio/testfiles/GTZAN/genres/blues/blues.00070.wav'), PosixPath('../../../audio/testfiles/GTZAN/genres/reggae/reggae.00023.wav'), PosixPath('../../../audio/testfiles/GTZAN/genres/blues/blues.00000.wav'), PosixPath('../../../audio/testfiles/GTZAN/genres/pop/pop.00069.wav'), PosixPath('../../../audio/testfiles/GTZAN/genres/country/country.00058.wav'), PosixPath('../../../audio/testfiles/GTZAN/genres/classical/classical.00028.wav'), PosixPath('../../../audio/testfiles/GTZAN/genres/classical/classical.00096.wav'), PosixPath('../../../audio/testfiles/GTZAN/genres/country/country.00018.wav'), PosixPath('../../../audio/testfiles/GTZAN/genres/pop/pop.00092.wav'), PosixPath('../../../audio/testfiles/GTZAN/genres/hiphop/hiphop.00023.wav'), PosixPath('../../../audio/testfiles/GTZAN/genres/hiphop/hiphop.00093.wav'), PosixPath('../../../audio/testfiles/GTZAN/genres/jazz/jazz.00047.wav'), PosixPath('../../../audio/testfiles/GTZAN/genres/jazz/jazz.00045.wav'), PosixPath('../../../audio/testfiles/GTZAN/genres/country/country.00087.wav'), PosixPath('../../../audio/testfiles/GTZAN/genres/pop/pop.00063.wav'), PosixPath('../../../audio/testfiles/GTZAN/genres/jazz/jazz.00033.wav'), PosixPath('../../../audio/testfiles/GTZAN/genres/jazz/jazz.00096.wav'), PosixPath('../../../audio/testfiles/GTZAN/genres/jazz/jazz.00055.wav'), PosixPath('../../../audio/testfiles/GTZAN/genres/disco/disco.00008.wav'), PosixPath('../../../audio/testfiles/GTZAN/genres/classical/classical.00065.wav'), PosixPath('../../../audio/testfiles/GTZAN/genres/classical/classical.00013.wav'), PosixPath('../../../audio/testfiles/GTZAN/genres/blues/blues.00098.wav'), PosixPath('../../../audio/testfiles/GTZAN/genres/reggae/reggae.00056.wav'), PosixPath('../../../audio/testfiles/GTZAN/genres/classical/classical.00016.wav'), PosixPath('../../../audio/testfiles/GTZAN/genres/reggae/reggae.00002.wav'), PosixPath('../../../audio/testfiles/GTZAN/genres/rock/rock.00066.wav'), PosixPath('../../../audio/testfiles/GTZAN/genres/hiphop/hiphop.00065.wav'), PosixPath('../../../audio/testfiles/GTZAN/genres/rock/rock.00000.wav'), PosixPath('../../../audio/testfiles/GTZAN/genres/pop/pop.00013.wav'), PosixPath('../../../audio/testfiles/GTZAN/genres/jazz/jazz.00089.wav'), PosixPath('../../../audio/testfiles/GTZAN/genres/metal/metal.00097.wav'), PosixPath('../../../audio/testfiles/GTZAN/genres/disco/disco.00020.wav'), PosixPath('../../../audio/testfiles/GTZAN/genres/reggae/reggae.00092.wav'), PosixPath('../../../audio/testfiles/GTZAN/genres/blues/blues.00046.wav'), PosixPath('../../../audio/testfiles/GTZAN/genres/country/country.00012.wav'), PosixPath('../../../audio/testfiles/GTZAN/genres/reggae/reggae.00012.wav'), PosixPath('../../../audio/testfiles/GTZAN/genres/hiphop/hiphop.00055.wav'), PosixPath('../../../audio/testfiles/GTZAN/genres/jazz/jazz.00053.wav'), PosixPath('../../../audio/testfiles/GTZAN/genres/country/country.00002.wav'), PosixPath('../../../audio/testfiles/GTZAN/genres/country/country.00089.wav'), PosixPath('../../../audio/testfiles/GTZAN/genres/country/country.00072.wav'), PosixPath('../../../audio/testfiles/GTZAN/genres/pop/pop.00075.wav'), PosixPath('../../../audio/testfiles/GTZAN/genres/classical/classical.00054.wav'), PosixPath('../../../audio/testfiles/GTZAN/genres/blues/blues.00008.wav'), PosixPath('../../../audio/testfiles/GTZAN/genres/reggae/reggae.00080.wav'), PosixPath('../../../audio/testfiles/GTZAN/genres/country/country.00083.wav'), PosixPath('../../../audio/testfiles/GTZAN/genres/rock/rock.00020.wav'), PosixPath('../../../audio/testfiles/GTZAN/genres/hiphop/hiphop.00020.wav'), PosixPath('../../../audio/testfiles/GTZAN/genres/reggae/reggae.00042.wav'), PosixPath('../../../audio/testfiles/GTZAN/genres/disco/disco.00064.wav'), PosixPath('../../../audio/testfiles/GTZAN/genres/disco/disco.00030.wav'), PosixPath('../../../audio/testfiles/GTZAN/genres/jazz/jazz.00024.wav'), PosixPath('../../../audio/testfiles/GTZAN/genres/classical/classical.00018.wav'), PosixPath('../../../audio/testfiles/GTZAN/genres/hiphop/hiphop.00043.wav'), PosixPath('../../../audio/testfiles/GTZAN/genres/blues/blues.00032.wav'), PosixPath('../../../audio/testfiles/GTZAN/genres/rock/rock.00084.wav'), PosixPath('../../../audio/testfiles/GTZAN/genres/reggae/reggae.00054.wav'), PosixPath('../../../audio/testfiles/GTZAN/genres/jazz/jazz.00013.wav'), PosixPath('../../../audio/testfiles/GTZAN/genres/disco/disco.00029.wav'), PosixPath('../../../audio/testfiles/GTZAN/genres/pop/pop.00090.wav'), PosixPath('../../../audio/testfiles/GTZAN/genres/country/country.00015.wav'), PosixPath('../../../audio/testfiles/GTZAN/genres/pop/pop.00007.wav'), PosixPath('../../../audio/testfiles/GTZAN/genres/rock/rock.00036.wav'), PosixPath('../../../audio/testfiles/GTZAN/genres/metal/metal.00043.wav'), PosixPath('../../../audio/testfiles/GTZAN/genres/jazz/jazz.00054.wav'), PosixPath('../../../audio/testfiles/GTZAN/genres/disco/disco.00005.wav'), PosixPath('../../../audio/testfiles/GTZAN/genres/rock/rock.00078.wav'), PosixPath('../../../audio/testfiles/GTZAN/genres/classical/classical.00032.wav'), PosixPath('../../../audio/testfiles/GTZAN/genres/classical/classical.00072.wav'), PosixPath('../../../audio/testfiles/GTZAN/genres/reggae/reggae.00086.wav'), PosixPath('../../../audio/testfiles/GTZAN/genres/metal/metal.00012.wav'), PosixPath('../../../audio/testfiles/GTZAN/genres/disco/disco.00059.wav'), PosixPath('../../../audio/testfiles/GTZAN/genres/pop/pop.00068.wav'), PosixPath('../../../audio/testfiles/GTZAN/genres/blues/blues.00030.wav'), PosixPath('../../../audio/testfiles/GTZAN/genres/hiphop/hiphop.00005.wav'), PosixPath('../../../audio/testfiles/GTZAN/genres/reggae/reggae.00050.wav'), PosixPath('../../../audio/testfiles/GTZAN/genres/disco/disco.00044.wav'), PosixPath('../../../audio/testfiles/GTZAN/genres/pop/pop.00004.wav'), PosixPath('../../../audio/testfiles/GTZAN/genres/disco/disco.00079.wav'), PosixPath('../../../audio/testfiles/GTZAN/genres/classical/classical.00005.wav'), PosixPath('../../../audio/testfiles/GTZAN/genres/jazz/jazz.00062.wav'), PosixPath('../../../audio/testfiles/GTZAN/genres/country/country.00055.wav'), PosixPath('../../../audio/testfiles/GTZAN/genres/reggae/reggae.00020.wav'), PosixPath('../../../audio/testfiles/GTZAN/genres/metal/metal.00073.wav'), PosixPath('../../../audio/testfiles/GTZAN/genres/rock/rock.00098.wav'), PosixPath('../../../audio/testfiles/GTZAN/genres/reggae/reggae.00022.wav'), PosixPath('../../../audio/testfiles/GTZAN/genres/classical/classical.00083.wav'), PosixPath('../../../audio/testfiles/GTZAN/genres/reggae/reggae.00001.wav'), PosixPath('../../../audio/testfiles/GTZAN/genres/blues/blues.00049.wav'), PosixPath('../../../audio/testfiles/GTZAN/genres/hiphop/hiphop.00008.wav'), PosixPath('../../../audio/testfiles/GTZAN/genres/disco/disco.00022.wav'), PosixPath('../../../audio/testfiles/GTZAN/genres/metal/metal.00005.wav'), PosixPath('../../../audio/testfiles/GTZAN/genres/jazz/jazz.00076.wav'), PosixPath('../../../audio/testfiles/GTZAN/genres/blues/blues.00020.wav'), PosixPath('../../../audio/testfiles/GTZAN/genres/pop/pop.00089.wav'), PosixPath('../../../audio/testfiles/GTZAN/genres/metal/metal.00023.wav'), PosixPath('../../../audio/testfiles/GTZAN/genres/reggae/reggae.00060.wav'), PosixPath('../../../audio/testfiles/GTZAN/genres/rock/rock.00081.wav'), PosixPath('../../../audio/testfiles/GTZAN/genres/country/country.00005.wav'), PosixPath('../../../audio/testfiles/GTZAN/genres/metal/metal.00079.wav'), PosixPath('../../../audio/testfiles/GTZAN/genres/country/country.00080.wav'), PosixPath('../../../audio/testfiles/GTZAN/genres/hiphop/hiphop.00083.wav'), PosixPath('../../../audio/testfiles/GTZAN/genres/disco/disco.00057.wav'), PosixPath('../../../audio/testfiles/GTZAN/genres/blues/blues.00087.wav'), PosixPath('../../../audio/testfiles/GTZAN/genres/disco/disco.00080.wav'), PosixPath('../../../audio/testfiles/GTZAN/genres/blues/blues.00093.wav'), PosixPath('../../../audio/testfiles/GTZAN/genres/hiphop/hiphop.00022.wav'), PosixPath('../../../audio/testfiles/GTZAN/genres/reggae/reggae.00091.wav'), PosixPath('../../../audio/testfiles/GTZAN/genres/disco/disco.00086.wav'), PosixPath('../../../audio/testfiles/GTZAN/genres/classical/classical.00078.wav'), PosixPath('../../../audio/testfiles/GTZAN/genres/classical/classical.00015.wav'), PosixPath('../../../audio/testfiles/GTZAN/genres/country/country.00016.wav'), PosixPath('../../../audio/testfiles/GTZAN/genres/blues/blues.00009.wav'), PosixPath('../../../audio/testfiles/GTZAN/genres/jazz/jazz.00040.wav'), PosixPath('../../../audio/testfiles/GTZAN/genres/pop/pop.00054.wav'), PosixPath('../../../audio/testfiles/GTZAN/genres/country/country.00011.wav'), PosixPath('../../../audio/testfiles/GTZAN/genres/country/country.00050.wav'), PosixPath('../../../audio/testfiles/GTZAN/genres/blues/blues.00016.wav'), PosixPath('../../../audio/testfiles/GTZAN/genres/pop/pop.00014.wav'), PosixPath('../../../audio/testfiles/GTZAN/genres/jazz/jazz.00038.wav'), PosixPath('../../../audio/testfiles/GTZAN/genres/rock/rock.00058.wav'), PosixPath('../../../audio/testfiles/GTZAN/genres/country/country.00086.wav'), PosixPath('../../../audio/testfiles/GTZAN/genres/jazz/jazz.00015.wav'), PosixPath('../../../audio/testfiles/GTZAN/genres/disco/disco.00016.wav'), PosixPath('../../../audio/testfiles/GTZAN/genres/blues/blues.00076.wav'), PosixPath('../../../audio/testfiles/GTZAN/genres/reggae/reggae.00053.wav'), PosixPath('../../../audio/testfiles/GTZAN/genres/pop/pop.00049.wav'), PosixPath('../../../audio/testfiles/GTZAN/genres/country/country.00051.wav'), PosixPath('../../../audio/testfiles/GTZAN/genres/disco/disco.00013.wav'), PosixPath('../../../audio/testfiles/GTZAN/genres/disco/disco.00058.wav'), PosixPath('../../../audio/testfiles/GTZAN/genres/jazz/jazz.00000.wav'), PosixPath('../../../audio/testfiles/GTZAN/genres/reggae/reggae.00059.wav'), PosixPath('../../../audio/testfiles/GTZAN/genres/jazz/jazz.00019.wav'), PosixPath('../../../audio/testfiles/GTZAN/genres/pop/pop.00036.wav'), PosixPath('../../../audio/testfiles/GTZAN/genres/hiphop/hiphop.00004.wav'), PosixPath('../../../audio/testfiles/GTZAN/genres/disco/disco.00068.wav'), PosixPath('../../../audio/testfiles/GTZAN/genres/country/country.00036.wav'), PosixPath('../../../audio/testfiles/GTZAN/genres/hiphop/hiphop.00047.wav'), PosixPath('../../../audio/testfiles/GTZAN/genres/disco/disco.00066.wav'), PosixPath('../../../audio/testfiles/GTZAN/genres/reggae/reggae.00094.wav'), PosixPath('../../../audio/testfiles/GTZAN/genres/pop/pop.00094.wav'), PosixPath('../../../audio/testfiles/GTZAN/genres/rock/rock.00056.wav'), PosixPath('../../../audio/testfiles/GTZAN/genres/jazz/jazz.00016.wav'), PosixPath('../../../audio/testfiles/GTZAN/genres/classical/classical.00093.wav'), PosixPath('../../../audio/testfiles/GTZAN/genres/disco/disco.00048.wav'), PosixPath('../../../audio/testfiles/GTZAN/genres/disco/disco.00026.wav'), PosixPath('../../../audio/testfiles/GTZAN/genres/blues/blues.00065.wav'), PosixPath('../../../audio/testfiles/GTZAN/genres/pop/pop.00000.wav'), PosixPath('../../../audio/testfiles/GTZAN/genres/pop/pop.00065.wav'), PosixPath('../../../audio/testfiles/GTZAN/genres/classical/classical.00027.wav'), PosixPath('../../../audio/testfiles/GTZAN/genres/classical/classical.00060.wav'), PosixPath('../../../audio/testfiles/GTZAN/genres/rock/rock.00015.wav'), PosixPath('../../../audio/testfiles/GTZAN/genres/country/country.00065.wav'), PosixPath('../../../audio/testfiles/GTZAN/genres/disco/disco.00073.wav'), PosixPath('../../../audio/testfiles/GTZAN/genres/hiphop/hiphop.00021.wav'), PosixPath('../../../audio/testfiles/GTZAN/genres/jazz/jazz.00085.wav'), PosixPath('../../../audio/testfiles/GTZAN/genres/reggae/reggae.00039.wav'), PosixPath('../../../audio/testfiles/GTZAN/genres/disco/disco.00054.wav'), PosixPath('../../../audio/testfiles/GTZAN/genres/reggae/reggae.00069.wav'), PosixPath('../../../audio/testfiles/GTZAN/genres/reggae/reggae.00068.wav'), PosixPath('../../../audio/testfiles/GTZAN/genres/country/country.00025.wav'), PosixPath('../../../audio/testfiles/GTZAN/genres/hiphop/hiphop.00099.wav'), PosixPath('../../../audio/testfiles/GTZAN/genres/blues/blues.00027.wav'), PosixPath('../../../audio/testfiles/GTZAN/genres/hiphop/hiphop.00044.wav'), PosixPath('../../../audio/testfiles/GTZAN/genres/reggae/reggae.00049.wav'), PosixPath('../../../audio/testfiles/GTZAN/genres/classical/classical.00081.wav'), PosixPath('../../../audio/testfiles/GTZAN/genres/jazz/jazz.00008.wav'), PosixPath('../../../audio/testfiles/GTZAN/genres/reggae/reggae.00045.wav'), PosixPath('../../../audio/testfiles/GTZAN/genres/classical/classical.00091.wav'), PosixPath('../../../audio/testfiles/GTZAN/genres/hiphop/hiphop.00092.wav'), PosixPath('../../../audio/testfiles/GTZAN/genres/disco/disco.00036.wav'), PosixPath('../../../audio/testfiles/GTZAN/genres/country/country.00088.wav'), PosixPath('../../../audio/testfiles/GTZAN/genres/pop/pop.00035.wav'), PosixPath('../../../audio/testfiles/GTZAN/genres/jazz/jazz.00026.wav'), PosixPath('../../../audio/testfiles/GTZAN/genres/reggae/reggae.00093.wav'), PosixPath('../../../audio/testfiles/GTZAN/genres/metal/metal.00029.wav'), PosixPath('../../../audio/testfiles/GTZAN/genres/reggae/reggae.00003.wav'), PosixPath('../../../audio/testfiles/GTZAN/genres/metal/metal.00033.wav'), PosixPath('../../../audio/testfiles/GTZAN/genres/disco/disco.00098.wav'), PosixPath('../../../audio/testfiles/GTZAN/genres/rock/rock.00057.wav'), PosixPath('../../../audio/testfiles/GTZAN/genres/blues/blues.00095.wav'), PosixPath('../../../audio/testfiles/GTZAN/genres/blues/blues.00083.wav'), PosixPath('../../../audio/testfiles/GTZAN/genres/classical/classical.00042.wav'), PosixPath('../../../audio/testfiles/GTZAN/genres/reggae/reggae.00046.wav'), PosixPath('../../../audio/testfiles/GTZAN/genres/metal/metal.00047.wav'), PosixPath('../../../audio/testfiles/GTZAN/genres/pop/pop.00099.wav'), PosixPath('../../../audio/testfiles/GTZAN/genres/hiphop/hiphop.00010.wav'), PosixPath('../../../audio/testfiles/GTZAN/genres/pop/pop.00060.wav'), PosixPath('../../../audio/testfiles/GTZAN/genres/country/country.00070.wav'), PosixPath('../../../audio/testfiles/GTZAN/genres/blues/blues.00010.wav'), PosixPath('../../../audio/testfiles/GTZAN/genres/jazz/jazz.00078.wav'), PosixPath('../../../audio/testfiles/GTZAN/genres/reggae/reggae.00040.wav'), PosixPath('../../../audio/testfiles/GTZAN/genres/metal/metal.00093.wav'), PosixPath('../../../audio/testfiles/GTZAN/genres/reggae/reggae.00007.wav'), PosixPath('../../../audio/testfiles/GTZAN/genres/metal/metal.00006.wav'), PosixPath('../../../audio/testfiles/GTZAN/genres/metal/metal.00024.wav'), PosixPath('../../../audio/testfiles/GTZAN/genres/reggae/reggae.00015.wav'), PosixPath('../../../audio/testfiles/GTZAN/genres/disco/disco.00001.wav'), PosixPath('../../../audio/testfiles/GTZAN/genres/country/country.00022.wav'), PosixPath('../../../audio/testfiles/GTZAN/genres/jazz/jazz.00087.wav'), PosixPath('../../../audio/testfiles/GTZAN/genres/reggae/reggae.00078.wav'), PosixPath('../../../audio/testfiles/GTZAN/genres/classical/classical.00073.wav'), PosixPath('../../../audio/testfiles/GTZAN/genres/hiphop/hiphop.00003.wav'), PosixPath('../../../audio/testfiles/GTZAN/genres/hiphop/hiphop.00017.wav'), PosixPath('../../../audio/testfiles/GTZAN/genres/disco/disco.00039.wav'), PosixPath('../../../audio/testfiles/GTZAN/genres/hiphop/hiphop.00029.wav'), PosixPath('../../../audio/testfiles/GTZAN/genres/blues/blues.00089.wav'), PosixPath('../../../audio/testfiles/GTZAN/genres/country/country.00096.wav'), PosixPath('../../../audio/testfiles/GTZAN/genres/classical/classical.00097.wav'), PosixPath('../../../audio/testfiles/GTZAN/genres/rock/rock.00087.wav'), PosixPath('../../../audio/testfiles/GTZAN/genres/country/country.00014.wav'), PosixPath('../../../audio/testfiles/GTZAN/genres/blues/blues.00080.wav'), PosixPath('../../../audio/testfiles/GTZAN/genres/metal/metal.00022.wav'), PosixPath('../../../audio/testfiles/GTZAN/genres/classical/classical.00047.wav'), PosixPath('../../../audio/testfiles/GTZAN/genres/blues/blues.00007.wav'), PosixPath('../../../audio/testfiles/GTZAN/genres/classical/classical.00077.wav'), PosixPath('../../../audio/testfiles/GTZAN/genres/pop/pop.00022.wav'), PosixPath('../../../audio/testfiles/GTZAN/genres/rock/rock.00041.wav'), PosixPath('../../../audio/testfiles/GTZAN/genres/blues/blues.00088.wav'), PosixPath('../../../audio/testfiles/GTZAN/genres/rock/rock.00080.wav'), PosixPath('../../../audio/testfiles/GTZAN/genres/blues/blues.00091.wav'), PosixPath('../../../audio/testfiles/GTZAN/genres/reggae/reggae.00079.wav'), PosixPath('../../../audio/testfiles/GTZAN/genres/reggae/reggae.00052.wav'), PosixPath('../../../audio/testfiles/GTZAN/genres/metal/metal.00086.wav'), PosixPath('../../../audio/testfiles/GTZAN/genres/reggae/reggae.00028.wav'), PosixPath('../../../audio/testfiles/GTZAN/genres/country/country.00095.wav'), PosixPath('../../../audio/testfiles/GTZAN/genres/pop/pop.00072.wav'), PosixPath('../../../audio/testfiles/GTZAN/genres/metal/metal.00096.wav'), PosixPath('../../../audio/testfiles/GTZAN/genres/rock/rock.00089.wav'), PosixPath('../../../audio/testfiles/GTZAN/genres/country/country.00046.wav'), PosixPath('../../../audio/testfiles/GTZAN/genres/hiphop/hiphop.00025.wav'), PosixPath('../../../audio/testfiles/GTZAN/genres/hiphop/hiphop.00048.wav'), PosixPath('../../../audio/testfiles/GTZAN/genres/pop/pop.00006.wav'), PosixPath('../../../audio/testfiles/GTZAN/genres/country/country.00084.wav'), PosixPath('../../../audio/testfiles/GTZAN/genres/disco/disco.00099.wav'), PosixPath('../../../audio/testfiles/GTZAN/genres/jazz/jazz.00058.wav'), PosixPath('../../../audio/testfiles/GTZAN/genres/country/country.00031.wav'), PosixPath('../../../audio/testfiles/GTZAN/genres/hiphop/hiphop.00046.wav'), PosixPath('../../../audio/testfiles/GTZAN/genres/rock/rock.00088.wav'), PosixPath('../../../audio/testfiles/GTZAN/genres/disco/disco.00032.wav'), PosixPath('../../../audio/testfiles/GTZAN/genres/metal/metal.00072.wav'), PosixPath('../../../audio/testfiles/GTZAN/genres/blues/blues.00097.wav'), PosixPath('../../../audio/testfiles/GTZAN/genres/country/country.00027.wav'), PosixPath('../../../audio/testfiles/GTZAN/genres/reggae/reggae.00016.wav'), PosixPath('../../../audio/testfiles/GTZAN/genres/metal/metal.00061.wav'), PosixPath('../../../audio/testfiles/GTZAN/genres/metal/metal.00057.wav'), PosixPath('../../../audio/testfiles/GTZAN/genres/metal/metal.00058.wav'), PosixPath('../../../audio/testfiles/GTZAN/genres/jazz/jazz.00092.wav'), PosixPath('../../../audio/testfiles/GTZAN/genres/hiphop/hiphop.00064.wav'), PosixPath('../../../audio/testfiles/GTZAN/genres/metal/metal.00003.wav'), PosixPath('../../../audio/testfiles/GTZAN/genres/hiphop/hiphop.00013.wav'), PosixPath('../../../audio/testfiles/GTZAN/genres/blues/blues.00074.wav'), PosixPath('../../../audio/testfiles/GTZAN/genres/classical/classical.00034.wav'), PosixPath('../../../audio/testfiles/GTZAN/genres/metal/metal.00089.wav'), PosixPath('../../../audio/testfiles/GTZAN/genres/jazz/jazz.00081.wav'), PosixPath('../../../audio/testfiles/GTZAN/genres/metal/metal.00046.wav'), PosixPath('../../../audio/testfiles/GTZAN/genres/disco/disco.00082.wav'), PosixPath('../../../audio/testfiles/GTZAN/genres/blues/blues.00041.wav'), PosixPath('../../../audio/testfiles/GTZAN/genres/blues/blues.00002.wav'), PosixPath('../../../audio/testfiles/GTZAN/genres/reggae/reggae.00096.wav'), PosixPath('../../../audio/testfiles/GTZAN/genres/rock/rock.00073.wav'), PosixPath('../../../audio/testfiles/GTZAN/genres/disco/disco.00025.wav'), PosixPath('../../../audio/testfiles/GTZAN/genres/metal/metal.00026.wav'), PosixPath('../../../audio/testfiles/GTZAN/genres/rock/rock.00034.wav'), PosixPath('../../../audio/testfiles/GTZAN/genres/jazz/jazz.00073.wav'), PosixPath('../../../audio/testfiles/GTZAN/genres/hiphop/hiphop.00062.wav'), PosixPath('../../../audio/testfiles/GTZAN/genres/classical/classical.00098.wav'), PosixPath('../../../audio/testfiles/GTZAN/genres/jazz/jazz.00060.wav'), PosixPath('../../../audio/testfiles/GTZAN/genres/classical/classical.00062.wav'), PosixPath('../../../audio/testfiles/GTZAN/genres/hiphop/hiphop.00096.wav'), PosixPath('../../../audio/testfiles/GTZAN/genres/hiphop/hiphop.00059.wav'), PosixPath('../../../audio/testfiles/GTZAN/genres/pop/pop.00012.wav'), PosixPath('../../../audio/testfiles/GTZAN/genres/classical/classical.00079.wav'), PosixPath('../../../audio/testfiles/GTZAN/genres/reggae/reggae.00034.wav'), PosixPath('../../../audio/testfiles/GTZAN/genres/reggae/reggae.00038.wav'), PosixPath('../../../audio/testfiles/GTZAN/genres/metal/metal.00091.wav'), PosixPath('../../../audio/testfiles/GTZAN/genres/rock/rock.00055.wav'), PosixPath('../../../audio/testfiles/GTZAN/genres/blues/blues.00028.wav'), PosixPath('../../../audio/testfiles/GTZAN/genres/reggae/reggae.00087.wav'), PosixPath('../../../audio/testfiles/GTZAN/genres/country/country.00000.wav'), PosixPath('../../../audio/testfiles/GTZAN/genres/hiphop/hiphop.00075.wav'), PosixPath('../../../audio/testfiles/GTZAN/genres/blues/blues.00082.wav'), PosixPath('../../../audio/testfiles/GTZAN/genres/metal/metal.00007.wav'), PosixPath('../../../audio/testfiles/GTZAN/genres/metal/metal.00077.wav'), PosixPath('../../../audio/testfiles/GTZAN/genres/country/country.00059.wav'), PosixPath('../../../audio/testfiles/GTZAN/genres/reggae/reggae.00000.wav'), PosixPath('../../../audio/testfiles/GTZAN/genres/disco/disco.00024.wav'), PosixPath('../../../audio/testfiles/GTZAN/genres/hiphop/hiphop.00041.wav'), PosixPath('../../../audio/testfiles/GTZAN/genres/rock/rock.00009.wav'), PosixPath('../../../audio/testfiles/GTZAN/genres/reggae/reggae.00070.wav'), PosixPath('../../../audio/testfiles/GTZAN/genres/jazz/jazz.00029.wav'), PosixPath('../../../audio/testfiles/GTZAN/genres/jazz/jazz.00099.wav'), PosixPath('../../../audio/testfiles/GTZAN/genres/pop/pop.00019.wav'), PosixPath('../../../audio/testfiles/GTZAN/genres/metal/metal.00008.wav'), PosixPath('../../../audio/testfiles/GTZAN/genres/metal/metal.00070.wav'), PosixPath('../../../audio/testfiles/GTZAN/genres/metal/metal.00052.wav'), PosixPath('../../../audio/testfiles/GTZAN/genres/classical/classical.00051.wav'), PosixPath('../../../audio/testfiles/GTZAN/genres/country/country.00071.wav'), PosixPath('../../../audio/testfiles/GTZAN/genres/blues/blues.00071.wav'), PosixPath('../../../audio/testfiles/GTZAN/genres/classical/classical.00010.wav'), PosixPath('../../../audio/testfiles/GTZAN/genres/reggae/reggae.00025.wav'), PosixPath('../../../audio/testfiles/GTZAN/genres/disco/disco.00070.wav'), PosixPath('../../../audio/testfiles/GTZAN/genres/classical/classical.00046.wav'), PosixPath('../../../audio/testfiles/GTZAN/genres/pop/pop.00026.wav'), PosixPath('../../../audio/testfiles/GTZAN/genres/jazz/jazz.00093.wav'), PosixPath('../../../audio/testfiles/GTZAN/genres/classical/classical.00076.wav'), PosixPath('../../../audio/testfiles/GTZAN/genres/country/country.00026.wav'), PosixPath('../../../audio/testfiles/GTZAN/genres/reggae/reggae.00037.wav'), PosixPath('../../../audio/testfiles/GTZAN/genres/pop/pop.00044.wav'), PosixPath('../../../audio/testfiles/GTZAN/genres/hiphop/hiphop.00097.wav'), PosixPath('../../../audio/testfiles/GTZAN/genres/blues/blues.00056.wav'), PosixPath('../../../audio/testfiles/GTZAN/genres/classical/classical.00045.wav'), PosixPath('../../../audio/testfiles/GTZAN/genres/disco/disco.00062.wav'), PosixPath('../../../audio/testfiles/GTZAN/genres/metal/metal.00063.wav'), PosixPath('../../../audio/testfiles/GTZAN/genres/blues/blues.00078.wav'), PosixPath('../../../audio/testfiles/GTZAN/genres/disco/disco.00095.wav'), PosixPath('../../../audio/testfiles/GTZAN/genres/hiphop/hiphop.00085.wav'), PosixPath('../../../audio/testfiles/GTZAN/genres/metal/metal.00039.wav'), PosixPath('../../../audio/testfiles/GTZAN/genres/classical/classical.00058.wav'), PosixPath('../../../audio/testfiles/GTZAN/genres/disco/disco.00056.wav'), PosixPath('../../../audio/testfiles/GTZAN/genres/blues/blues.00001.wav'), PosixPath('../../../audio/testfiles/GTZAN/genres/rock/rock.00011.wav'), PosixPath('../../../audio/testfiles/GTZAN/genres/blues/blues.00092.wav'), PosixPath('../../../audio/testfiles/GTZAN/genres/classical/classical.00000.wav'), PosixPath('../../../audio/testfiles/GTZAN/genres/reggae/reggae.00081.wav'), PosixPath('../../../audio/testfiles/GTZAN/genres/blues/blues.00055.wav'), PosixPath('../../../audio/testfiles/GTZAN/genres/rock/rock.00091.wav'), PosixPath('../../../audio/testfiles/GTZAN/genres/classical/classical.00086.wav'), PosixPath('../../../audio/testfiles/GTZAN/genres/metal/metal.00049.wav'), PosixPath('../../../audio/testfiles/GTZAN/genres/pop/pop.00029.wav'), PosixPath('../../../audio/testfiles/GTZAN/genres/pop/pop.00057.wav'), PosixPath('../../../audio/testfiles/GTZAN/genres/rock/rock.00028.wav'), PosixPath('../../../audio/testfiles/GTZAN/genres/rock/rock.00053.wav'), PosixPath('../../../audio/testfiles/GTZAN/genres/metal/metal.00000.wav'), PosixPath('../../../audio/testfiles/GTZAN/genres/pop/pop.00070.wav'), PosixPath('../../../audio/testfiles/GTZAN/genres/metal/metal.00053.wav'), PosixPath('../../../audio/testfiles/GTZAN/genres/jazz/jazz.00084.wav'), PosixPath('../../../audio/testfiles/GTZAN/genres/jazz/jazz.00017.wav'), PosixPath('../../../audio/testfiles/GTZAN/genres/jazz/jazz.00061.wav'), PosixPath('../../../audio/testfiles/GTZAN/genres/classical/classical.00023.wav'), PosixPath('../../../audio/testfiles/GTZAN/genres/country/country.00034.wav'), PosixPath('../../../audio/testfiles/GTZAN/genres/pop/pop.00010.wav'), PosixPath('../../../audio/testfiles/GTZAN/genres/hiphop/hiphop.00061.wav'), PosixPath('../../../audio/testfiles/GTZAN/genres/metal/metal.00054.wav'), PosixPath('../../../audio/testfiles/GTZAN/genres/country/country.00063.wav'), PosixPath('../../../audio/testfiles/GTZAN/genres/classical/classical.00009.wav'), PosixPath('../../../audio/testfiles/GTZAN/genres/pop/pop.00031.wav'), PosixPath('../../../audio/testfiles/GTZAN/genres/country/country.00040.wav'), PosixPath('../../../audio/testfiles/GTZAN/genres/jazz/jazz.00031.wav'), PosixPath('../../../audio/testfiles/GTZAN/genres/jazz/jazz.00044.wav'), PosixPath('../../../audio/testfiles/GTZAN/genres/jazz/jazz.00070.wav'), PosixPath('../../../audio/testfiles/GTZAN/genres/jazz/jazz.00021.wav'), PosixPath('../../../audio/testfiles/GTZAN/genres/country/country.00039.wav'), PosixPath('../../../audio/testfiles/GTZAN/genres/country/country.00020.wav'), PosixPath('../../../audio/testfiles/GTZAN/genres/metal/metal.00082.wav'), PosixPath('../../../audio/testfiles/GTZAN/genres/hiphop/hiphop.00087.wav'), PosixPath('../../../audio/testfiles/GTZAN/genres/rock/rock.00029.wav'), PosixPath('../../../audio/testfiles/GTZAN/genres/pop/pop.00021.wav'), PosixPath('../../../audio/testfiles/GTZAN/genres/reggae/reggae.00011.wav'), PosixPath('../../../audio/testfiles/GTZAN/genres/blues/blues.00034.wav'), PosixPath('../../../audio/testfiles/GTZAN/genres/country/country.00023.wav'), PosixPath('../../../audio/testfiles/GTZAN/genres/rock/rock.00047.wav'), PosixPath('../../../audio/testfiles/GTZAN/genres/blues/blues.00057.wav'), PosixPath('../../../audio/testfiles/GTZAN/genres/hiphop/hiphop.00024.wav'), PosixPath('../../../audio/testfiles/GTZAN/genres/blues/blues.00053.wav'), PosixPath('../../../audio/testfiles/GTZAN/genres/hiphop/hiphop.00012.wav'), PosixPath('../../../audio/testfiles/GTZAN/genres/jazz/jazz.00039.wav'), PosixPath('../../../audio/testfiles/GTZAN/genres/metal/metal.00025.wav'), PosixPath('../../../audio/testfiles/GTZAN/genres/pop/pop.00038.wav'), PosixPath('../../../audio/testfiles/GTZAN/genres/jazz/jazz.00082.wav'), PosixPath('../../../audio/testfiles/GTZAN/genres/blues/blues.00090.wav'), PosixPath('../../../audio/testfiles/GTZAN/genres/rock/rock.00099.wav'), PosixPath('../../../audio/testfiles/GTZAN/genres/reggae/reggae.00062.wav'), PosixPath('../../../audio/testfiles/GTZAN/genres/rock/rock.00024.wav'), PosixPath('../../../audio/testfiles/GTZAN/genres/disco/disco.00052.wav'), PosixPath('../../../audio/testfiles/GTZAN/genres/hiphop/hiphop.00042.wav'), PosixPath('../../../audio/testfiles/GTZAN/genres/blues/blues.00075.wav'), PosixPath('../../../audio/testfiles/GTZAN/genres/pop/pop.00086.wav'), PosixPath('../../../audio/testfiles/GTZAN/genres/country/country.00049.wav'), PosixPath('../../../audio/testfiles/GTZAN/genres/hiphop/hiphop.00036.wav'), PosixPath('../../../audio/testfiles/GTZAN/genres/hiphop/hiphop.00045.wav'), PosixPath('../../../audio/testfiles/GTZAN/genres/metal/metal.00010.wav'), PosixPath('../../../audio/testfiles/GTZAN/genres/reggae/reggae.00085.wav'), PosixPath('../../../audio/testfiles/GTZAN/genres/blues/blues.00059.wav'), PosixPath('../../../audio/testfiles/GTZAN/genres/pop/pop.00050.wav'), PosixPath('../../../audio/testfiles/GTZAN/genres/disco/disco.00009.wav'), PosixPath('../../../audio/testfiles/GTZAN/genres/hiphop/hiphop.00037.wav'), PosixPath('../../../audio/testfiles/GTZAN/genres/jazz/jazz.00075.wav'), PosixPath('../../../audio/testfiles/GTZAN/genres/country/country.00091.wav'), PosixPath('../../../audio/testfiles/GTZAN/genres/rock/rock.00051.wav'), PosixPath('../../../audio/testfiles/GTZAN/genres/classical/classical.00037.wav'), PosixPath('../../../audio/testfiles/GTZAN/genres/jazz/jazz.00032.wav'), PosixPath('../../../audio/testfiles/GTZAN/genres/pop/pop.00003.wav'), PosixPath('../../../audio/testfiles/GTZAN/genres/classical/classical.00022.wav'), PosixPath('../../../audio/testfiles/GTZAN/genres/disco/disco.00015.wav'), PosixPath('../../../audio/testfiles/GTZAN/genres/hiphop/hiphop.00035.wav'), PosixPath('../../../audio/testfiles/GTZAN/genres/blues/blues.00052.wav'), PosixPath('../../../audio/testfiles/GTZAN/genres/reggae/reggae.00010.wav'), PosixPath('../../../audio/testfiles/GTZAN/genres/disco/disco.00093.wav'), PosixPath('../../../audio/testfiles/GTZAN/genres/blues/blues.00048.wav'), PosixPath('../../../audio/testfiles/GTZAN/genres/jazz/jazz.00005.wav'), PosixPath('../../../audio/testfiles/GTZAN/genres/metal/metal.00099.wav'), PosixPath('../../../audio/testfiles/GTZAN/genres/country/country.00092.wav'), PosixPath('../../../audio/testfiles/GTZAN/genres/rock/rock.00031.wav'), PosixPath('../../../audio/testfiles/GTZAN/genres/jazz/jazz.00014.wav'), PosixPath('../../../audio/testfiles/GTZAN/genres/pop/pop.00034.wav'), PosixPath('../../../audio/testfiles/GTZAN/genres/blues/blues.00060.wav'), PosixPath('../../../audio/testfiles/GTZAN/genres/metal/metal.00066.wav'), PosixPath('../../../audio/testfiles/GTZAN/genres/pop/pop.00025.wav'), PosixPath('../../../audio/testfiles/GTZAN/genres/rock/rock.00082.wav'), PosixPath('../../../audio/testfiles/GTZAN/genres/rock/rock.00007.wav'), PosixPath('../../../audio/testfiles/GTZAN/genres/classical/classical.00064.wav'), PosixPath('../../../audio/testfiles/GTZAN/genres/reggae/reggae.00043.wav'), PosixPath('../../../audio/testfiles/GTZAN/genres/blues/blues.00094.wav'), PosixPath('../../../audio/testfiles/GTZAN/genres/country/country.00094.wav'), PosixPath('../../../audio/testfiles/GTZAN/genres/pop/pop.00088.wav'), PosixPath('../../../audio/testfiles/GTZAN/genres/classical/classical.00033.wav'), PosixPath('../../../audio/testfiles/GTZAN/genres/blues/blues.00038.wav'), PosixPath('../../../audio/testfiles/GTZAN/genres/classical/classical.00075.wav'), PosixPath('../../../audio/testfiles/GTZAN/genres/reggae/reggae.00074.wav'), PosixPath('../../../audio/testfiles/GTZAN/genres/metal/metal.00074.wav'), PosixPath('../../../audio/testfiles/GTZAN/genres/metal/metal.00092.wav'), PosixPath('../../../audio/testfiles/GTZAN/genres/disco/disco.00053.wav'), PosixPath('../../../audio/testfiles/GTZAN/genres/disco/disco.00063.wav'), PosixPath('../../../audio/testfiles/GTZAN/genres/country/country.00076.wav'), PosixPath('../../../audio/testfiles/GTZAN/genres/hiphop/hiphop.00078.wav'), PosixPath('../../../audio/testfiles/GTZAN/genres/jazz/jazz.00027.wav'), PosixPath('../../../audio/testfiles/GTZAN/genres/reggae/reggae.00004.wav'), PosixPath('../../../audio/testfiles/GTZAN/genres/classical/classical.00067.wav'), PosixPath('../../../audio/testfiles/GTZAN/genres/classical/classical.00063.wav'), PosixPath('../../../audio/testfiles/GTZAN/genres/reggae/reggae.00075.wav'), PosixPath('../../../audio/testfiles/GTZAN/genres/rock/rock.00005.wav'), PosixPath('../../../audio/testfiles/GTZAN/genres/hiphop/hiphop.00016.wav'), PosixPath('../../../audio/testfiles/GTZAN/genres/metal/metal.00083.wav'), PosixPath('../../../audio/testfiles/GTZAN/genres/pop/pop.00040.wav'), PosixPath('../../../audio/testfiles/GTZAN/genres/disco/disco.00077.wav'), PosixPath('../../../audio/testfiles/GTZAN/genres/pop/pop.00028.wav'), PosixPath('../../../audio/testfiles/GTZAN/genres/jazz/jazz.00059.wav'), PosixPath('../../../audio/testfiles/GTZAN/genres/pop/pop.00017.wav'), PosixPath('../../../audio/testfiles/GTZAN/genres/country/country.00078.wav'), PosixPath('../../../audio/testfiles/GTZAN/genres/jazz/jazz.00086.wav'), PosixPath('../../../audio/testfiles/GTZAN/genres/disco/disco.00014.wav'), PosixPath('../../../audio/testfiles/GTZAN/genres/classical/classical.00049.wav'), PosixPath('../../../audio/testfiles/GTZAN/genres/pop/pop.00056.wav'), PosixPath('../../../audio/testfiles/GTZAN/genres/classical/classical.00017.wav'), PosixPath('../../../audio/testfiles/GTZAN/genres/reggae/reggae.00095.wav'), PosixPath('../../../audio/testfiles/GTZAN/genres/country/country.00067.wav'), PosixPath('../../../audio/testfiles/GTZAN/genres/country/country.00048.wav'), PosixPath('../../../audio/testfiles/GTZAN/genres/disco/disco.00097.wav'), PosixPath('../../../audio/testfiles/GTZAN/genres/rock/rock.00019.wav'), PosixPath('../../../audio/testfiles/GTZAN/genres/classical/classical.00008.wav'), PosixPath('../../../audio/testfiles/GTZAN/genres/jazz/jazz.00066.wav'), PosixPath('../../../audio/testfiles/GTZAN/genres/pop/pop.00087.wav'), PosixPath('../../../audio/testfiles/GTZAN/genres/disco/disco.00047.wav'), PosixPath('../../../audio/testfiles/GTZAN/genres/country/country.00052.wav'), PosixPath('../../../audio/testfiles/GTZAN/genres/blues/blues.00039.wav'), PosixPath('../../../audio/testfiles/GTZAN/genres/country/country.00060.wav'), PosixPath('../../../audio/testfiles/GTZAN/genres/country/country.00093.wav'), PosixPath('../../../audio/testfiles/GTZAN/genres/blues/blues.00005.wav'), PosixPath('../../../audio/testfiles/GTZAN/genres/blues/blues.00033.wav'), PosixPath('../../../audio/testfiles/GTZAN/genres/classical/classical.00035.wav'), PosixPath('../../../audio/testfiles/GTZAN/genres/blues/blues.00014.wav'), PosixPath('../../../audio/testfiles/GTZAN/genres/hiphop/hiphop.00071.wav'), PosixPath('../../../audio/testfiles/GTZAN/genres/pop/pop.00062.wav'), PosixPath('../../../audio/testfiles/GTZAN/genres/blues/blues.00026.wav'), PosixPath('../../../audio/testfiles/GTZAN/genres/disco/disco.00061.wav'), PosixPath('../../../audio/testfiles/GTZAN/genres/country/country.00029.wav'), PosixPath('../../../audio/testfiles/GTZAN/genres/country/country.00003.wav'), PosixPath('../../../audio/testfiles/GTZAN/genres/rock/rock.00072.wav'), PosixPath('../../../audio/testfiles/GTZAN/genres/metal/metal.00014.wav'), PosixPath('../../../audio/testfiles/GTZAN/genres/jazz/jazz.00007.wav'), PosixPath('../../../audio/testfiles/GTZAN/genres/pop/pop.00080.wav'), PosixPath('../../../audio/testfiles/GTZAN/genres/metal/metal.00015.wav'), PosixPath('../../../audio/testfiles/GTZAN/genres/rock/rock.00071.wav'), PosixPath('../../../audio/testfiles/GTZAN/genres/classical/classical.00041.wav'), PosixPath('../../../audio/testfiles/GTZAN/genres/reggae/reggae.00090.wav'), PosixPath('../../../audio/testfiles/GTZAN/genres/reggae/reggae.00077.wav'), PosixPath('../../../audio/testfiles/GTZAN/genres/classical/classical.00026.wav'), PosixPath('../../../audio/testfiles/GTZAN/genres/country/country.00069.wav'), PosixPath('../../../audio/testfiles/GTZAN/genres/hiphop/hiphop.00054.wav'), PosixPath('../../../audio/testfiles/GTZAN/genres/hiphop/hiphop.00028.wav'), PosixPath('../../../audio/testfiles/GTZAN/genres/rock/rock.00095.wav'), PosixPath('../../../audio/testfiles/GTZAN/genres/blues/blues.00013.wav'), PosixPath('../../../audio/testfiles/GTZAN/genres/reggae/reggae.00029.wav'), PosixPath('../../../audio/testfiles/GTZAN/genres/blues/blues.00029.wav'), PosixPath('../../../audio/testfiles/GTZAN/genres/hiphop/hiphop.00080.wav'), PosixPath('../../../audio/testfiles/GTZAN/genres/classical/classical.00066.wav'), PosixPath('../../../audio/testfiles/GTZAN/genres/blues/blues.00068.wav'), PosixPath('../../../audio/testfiles/GTZAN/genres/blues/blues.00037.wav'), PosixPath('../../../audio/testfiles/GTZAN/genres/jazz/jazz.00083.wav'), PosixPath('../../../audio/testfiles/GTZAN/genres/pop/pop.00067.wav'), PosixPath('../../../audio/testfiles/GTZAN/genres/country/country.00081.wav'), PosixPath('../../../audio/testfiles/GTZAN/genres/jazz/jazz.00030.wav'), PosixPath('../../../audio/testfiles/GTZAN/genres/blues/blues.00036.wav'), PosixPath('../../../audio/testfiles/GTZAN/genres/blues/blues.00077.wav'), PosixPath('../../../audio/testfiles/GTZAN/genres/pop/pop.00081.wav'), PosixPath('../../../audio/testfiles/GTZAN/genres/country/country.00090.wav'), PosixPath('../../../audio/testfiles/GTZAN/genres/rock/rock.00050.wav'), PosixPath('../../../audio/testfiles/GTZAN/genres/rock/rock.00006.wav'), PosixPath('../../../audio/testfiles/GTZAN/genres/reggae/reggae.00082.wav'), PosixPath('../../../audio/testfiles/GTZAN/genres/classical/classical.00087.wav'), PosixPath('../../../audio/testfiles/GTZAN/genres/metal/metal.00059.wav'), PosixPath('../../../audio/testfiles/GTZAN/genres/blues/blues.00086.wav'), PosixPath('../../../audio/testfiles/GTZAN/genres/hiphop/hiphop.00095.wav'), PosixPath('../../../audio/testfiles/GTZAN/genres/reggae/reggae.00024.wav'), PosixPath('../../../audio/testfiles/GTZAN/genres/classical/classical.00021.wav'), PosixPath('../../../audio/testfiles/GTZAN/genres/country/country.00007.wav'), PosixPath('../../../audio/testfiles/GTZAN/genres/reggae/reggae.00088.wav'), PosixPath('../../../audio/testfiles/GTZAN/genres/country/country.00053.wav'), PosixPath('../../../audio/testfiles/GTZAN/genres/country/country.00074.wav'), PosixPath('../../../audio/testfiles/GTZAN/genres/jazz/jazz.00097.wav'), PosixPath('../../../audio/testfiles/GTZAN/genres/hiphop/hiphop.00018.wav'), PosixPath('../../../audio/testfiles/GTZAN/genres/metal/metal.00084.wav'), PosixPath('../../../audio/testfiles/GTZAN/genres/country/country.00062.wav'), PosixPath('../../../audio/testfiles/GTZAN/genres/jazz/jazz.00079.wav'), PosixPath('../../../audio/testfiles/GTZAN/genres/hiphop/hiphop.00091.wav'), PosixPath('../../../audio/testfiles/GTZAN/genres/hiphop/hiphop.00040.wav'), PosixPath('../../../audio/testfiles/GTZAN/genres/classical/classical.00053.wav'), PosixPath('../../../audio/testfiles/GTZAN/genres/metal/metal.00001.wav'), PosixPath('../../../audio/testfiles/GTZAN/genres/reggae/reggae.00026.wav'), PosixPath('../../../audio/testfiles/GTZAN/genres/disco/disco.00067.wav'), PosixPath('../../../audio/testfiles/GTZAN/genres/classical/classical.00088.wav'), PosixPath('../../../audio/testfiles/GTZAN/genres/country/country.00032.wav'), PosixPath('../../../audio/testfiles/GTZAN/genres/pop/pop.00093.wav'), PosixPath('../../../audio/testfiles/GTZAN/genres/disco/disco.00069.wav'), PosixPath('../../../audio/testfiles/GTZAN/genres/reggae/reggae.00089.wav'), PosixPath('../../../audio/testfiles/GTZAN/genres/blues/blues.00050.wav'), PosixPath('../../../audio/testfiles/GTZAN/genres/hiphop/hiphop.00057.wav'), PosixPath('../../../audio/testfiles/GTZAN/genres/metal/metal.00031.wav'), PosixPath('../../../audio/testfiles/GTZAN/genres/jazz/jazz.00057.wav'), PosixPath('../../../audio/testfiles/GTZAN/genres/blues/blues.00084.wav'), PosixPath('../../../audio/testfiles/GTZAN/genres/classical/classical.00095.wav'), PosixPath('../../../audio/testfiles/GTZAN/genres/disco/disco.00040.wav'), PosixPath('../../../audio/testfiles/GTZAN/genres/hiphop/hiphop.00089.wav'), PosixPath('../../../audio/testfiles/GTZAN/genres/rock/rock.00023.wav'), PosixPath('../../../audio/testfiles/GTZAN/genres/jazz/jazz.00094.wav'), PosixPath('../../../audio/testfiles/GTZAN/genres/metal/metal.00071.wav'), PosixPath('../../../audio/testfiles/GTZAN/genres/hiphop/hiphop.00067.wav'), PosixPath('../../../audio/testfiles/GTZAN/genres/reggae/reggae.00019.wav'), PosixPath('../../../audio/testfiles/GTZAN/genres/metal/metal.00013.wav'), PosixPath('../../../audio/testfiles/GTZAN/genres/classical/classical.00020.wav'), PosixPath('../../../audio/testfiles/GTZAN/genres/hiphop/hiphop.00050.wav'), PosixPath('../../../audio/testfiles/GTZAN/genres/hiphop/hiphop.00039.wav'), PosixPath('../../../audio/testfiles/GTZAN/genres/classical/classical.00048.wav'), PosixPath('../../../audio/testfiles/GTZAN/genres/jazz/jazz.00018.wav'), PosixPath('../../../audio/testfiles/GTZAN/genres/hiphop/hiphop.00056.wav'), PosixPath('../../../audio/testfiles/GTZAN/genres/hiphop/hiphop.00002.wav'), PosixPath('../../../audio/testfiles/GTZAN/genres/classical/classical.00043.wav'), PosixPath('../../../audio/testfiles/GTZAN/genres/metal/metal.00048.wav'), PosixPath('../../../audio/testfiles/GTZAN/genres/blues/blues.00061.wav'), PosixPath('../../../audio/testfiles/GTZAN/genres/jazz/jazz.00063.wav'), PosixPath('../../../audio/testfiles/GTZAN/genres/blues/blues.00062.wav'), PosixPath('../../../audio/testfiles/GTZAN/genres/disco/disco.00084.wav'), PosixPath('../../../audio/testfiles/GTZAN/genres/pop/pop.00045.wav'), PosixPath('../../../audio/testfiles/GTZAN/genres/hiphop/hiphop.00051.wav'), PosixPath('../../../audio/testfiles/GTZAN/genres/rock/rock.00001.wav'), PosixPath('../../../audio/testfiles/GTZAN/genres/rock/rock.00035.wav'), PosixPath('../../../audio/testfiles/GTZAN/genres/pop/pop.00076.wav'), PosixPath('../../../audio/testfiles/GTZAN/genres/rock/rock.00086.wav'), PosixPath('../../../audio/testfiles/GTZAN/genres/metal/metal.00011.wav'), PosixPath('../../../audio/testfiles/GTZAN/genres/reggae/reggae.00009.wav'), PosixPath('../../../audio/testfiles/GTZAN/genres/reggae/reggae.00036.wav'), PosixPath('../../../audio/testfiles/GTZAN/genres/hiphop/hiphop.00066.wav'), PosixPath('../../../audio/testfiles/GTZAN/genres/pop/pop.00046.wav'), PosixPath('../../../audio/testfiles/GTZAN/genres/rock/rock.00014.wav'), PosixPath('../../../audio/testfiles/GTZAN/genres/classical/classical.00004.wav'), PosixPath('../../../audio/testfiles/GTZAN/genres/hiphop/hiphop.00094.wav'), PosixPath('../../../audio/testfiles/GTZAN/genres/hiphop/hiphop.00014.wav'), PosixPath('../../../audio/testfiles/GTZAN/genres/jazz/jazz.00067.wav'), PosixPath('../../../audio/testfiles/GTZAN/genres/rock/rock.00067.wav'), PosixPath('../../../audio/testfiles/GTZAN/genres/jazz/jazz.00022.wav'), PosixPath('../../../audio/testfiles/GTZAN/genres/hiphop/hiphop.00073.wav'), PosixPath('../../../audio/testfiles/GTZAN/genres/rock/rock.00068.wav'), PosixPath('../../../audio/testfiles/GTZAN/genres/reggae/reggae.00008.wav'), PosixPath('../../../audio/testfiles/GTZAN/genres/reggae/reggae.00017.wav'), PosixPath('../../../audio/testfiles/GTZAN/genres/disco/disco.00007.wav'), PosixPath('../../../audio/testfiles/GTZAN/genres/rock/rock.00017.wav'), PosixPath('../../../audio/testfiles/GTZAN/genres/reggae/reggae.00044.wav'), PosixPath('../../../audio/testfiles/GTZAN/genres/classical/classical.00092.wav'), PosixPath('../../../audio/testfiles/GTZAN/genres/hiphop/hiphop.00031.wav'), PosixPath('../../../audio/testfiles/GTZAN/genres/rock/rock.00032.wav'), PosixPath('../../../audio/testfiles/GTZAN/genres/metal/metal.00044.wav'), PosixPath('../../../audio/testfiles/GTZAN/genres/disco/disco.00090.wav'), PosixPath('../../../audio/testfiles/GTZAN/genres/reggae/reggae.00072.wav'), PosixPath('../../../audio/testfiles/GTZAN/genres/metal/metal.00055.wav'), PosixPath('../../../audio/testfiles/GTZAN/genres/hiphop/hiphop.00081.wav'), PosixPath('../../../audio/testfiles/GTZAN/genres/jazz/jazz.00069.wav'), PosixPath('../../../audio/testfiles/GTZAN/genres/metal/metal.00035.wav'), PosixPath('../../../audio/testfiles/GTZAN/genres/metal/metal.00080.wav'), PosixPath('../../../audio/testfiles/GTZAN/genres/pop/pop.00001.wav'), PosixPath('../../../audio/testfiles/GTZAN/genres/rock/rock.00016.wav'), PosixPath('../../../audio/testfiles/GTZAN/genres/rock/rock.00002.wav'), PosixPath('../../../audio/testfiles/GTZAN/genres/reggae/reggae.00067.wav'), PosixPath('../../../audio/testfiles/GTZAN/genres/blues/blues.00072.wav'), PosixPath('../../../audio/testfiles/GTZAN/genres/reggae/reggae.00030.wav'), PosixPath('../../../audio/testfiles/GTZAN/genres/jazz/jazz.00020.wav'), PosixPath('../../../audio/testfiles/GTZAN/genres/rock/rock.00037.wav'), PosixPath('../../../audio/testfiles/GTZAN/genres/rock/rock.00064.wav'), PosixPath('../../../audio/testfiles/GTZAN/genres/pop/pop.00005.wav'), PosixPath('../../../audio/testfiles/GTZAN/genres/disco/disco.00023.wav'), PosixPath('../../../audio/testfiles/GTZAN/genres/classical/classical.00025.wav'), PosixPath('../../../audio/testfiles/GTZAN/genres/classical/classical.00080.wav'), PosixPath('../../../audio/testfiles/GTZAN/genres/blues/blues.00019.wav'), PosixPath('../../../audio/testfiles/GTZAN/genres/pop/pop.00091.wav'), PosixPath('../../../audio/testfiles/GTZAN/genres/reggae/reggae.00063.wav'), PosixPath('../../../audio/testfiles/GTZAN/genres/jazz/jazz.00046.wav'), PosixPath('../../../audio/testfiles/GTZAN/genres/disco/disco.00018.wav'), PosixPath('../../../audio/testfiles/GTZAN/genres/reggae/reggae.00098.wav'), PosixPath('../../../audio/testfiles/GTZAN/genres/rock/rock.00022.wav'), PosixPath('../../../audio/testfiles/GTZAN/genres/metal/metal.00067.wav'), PosixPath('../../../audio/testfiles/GTZAN/genres/classical/classical.00090.wav'), PosixPath('../../../audio/testfiles/GTZAN/genres/classical/classical.00085.wav'), PosixPath('../../../audio/testfiles/GTZAN/genres/metal/metal.00095.wav'), PosixPath('../../../audio/testfiles/GTZAN/genres/country/country.00001.wav'), PosixPath('../../../audio/testfiles/GTZAN/genres/disco/disco.00006.wav'), PosixPath('../../../audio/testfiles/GTZAN/genres/rock/rock.00092.wav'), PosixPath('../../../audio/testfiles/GTZAN/genres/metal/metal.00020.wav'), PosixPath('../../../audio/testfiles/GTZAN/genres/metal/metal.00021.wav'), PosixPath('../../../audio/testfiles/GTZAN/genres/jazz/jazz.00011.wav'), PosixPath('../../../audio/testfiles/GTZAN/genres/jazz/jazz.00080.wav'), PosixPath('../../../audio/testfiles/GTZAN/genres/country/country.00082.wav'), PosixPath('../../../audio/testfiles/GTZAN/genres/blues/blues.00043.wav'), PosixPath('../../../audio/testfiles/GTZAN/genres/rock/rock.00038.wav'), PosixPath('../../../audio/testfiles/GTZAN/genres/country/country.00047.wav'), PosixPath('../../../audio/testfiles/GTZAN/genres/metal/metal.00037.wav'), PosixPath('../../../audio/testfiles/GTZAN/genres/country/country.00085.wav'), PosixPath('../../../audio/testfiles/GTZAN/genres/metal/metal.00030.wav'), PosixPath('../../../audio/testfiles/GTZAN/genres/pop/pop.00030.wav'), PosixPath('../../../audio/testfiles/GTZAN/genres/hiphop/hiphop.00009.wav'), PosixPath('../../../audio/testfiles/GTZAN/genres/hiphop/hiphop.00060.wav'), PosixPath('../../../audio/testfiles/GTZAN/genres/metal/metal.00032.wav'), PosixPath('../../../audio/testfiles/GTZAN/genres/jazz/jazz.00034.wav'), PosixPath('../../../audio/testfiles/GTZAN/genres/metal/metal.00075.wav'), PosixPath('../../../audio/testfiles/GTZAN/genres/disco/disco.00075.wav'), PosixPath('../../../audio/testfiles/GTZAN/genres/rock/rock.00054.wav'), PosixPath('../../../audio/testfiles/GTZAN/genres/blues/blues.00012.wav'), PosixPath('../../../audio/testfiles/GTZAN/genres/disco/disco.00074.wav'), PosixPath('../../../audio/testfiles/GTZAN/genres/classical/classical.00014.wav'), PosixPath('../../../audio/testfiles/GTZAN/genres/reggae/reggae.00097.wav'), PosixPath('../../../audio/testfiles/GTZAN/genres/classical/classical.00068.wav'), PosixPath('../../../audio/testfiles/GTZAN/genres/pop/pop.00097.wav'), PosixPath('../../../audio/testfiles/GTZAN/genres/metal/metal.00050.wav'), PosixPath('../../../audio/testfiles/GTZAN/genres/country/country.00066.wav'), PosixPath('../../../audio/testfiles/GTZAN/genres/jazz/jazz.00001.wav'), PosixPath('../../../audio/testfiles/GTZAN/genres/blues/blues.00040.wav'), PosixPath('../../../audio/testfiles/GTZAN/genres/metal/metal.00078.wav'), PosixPath('../../../audio/testfiles/GTZAN/genres/country/country.00006.wav'), PosixPath('../../../audio/testfiles/GTZAN/genres/country/country.00008.wav'), PosixPath('../../../audio/testfiles/GTZAN/genres/hiphop/hiphop.00049.wav'), PosixPath('../../../audio/testfiles/GTZAN/genres/rock/rock.00074.wav'), PosixPath('../../../audio/testfiles/GTZAN/genres/disco/disco.00038.wav'), PosixPath('../../../audio/testfiles/GTZAN/genres/disco/disco.00042.wav'), PosixPath('../../../audio/testfiles/GTZAN/genres/rock/rock.00012.wav'), PosixPath('../../../audio/testfiles/GTZAN/genres/jazz/jazz.00050.wav'), PosixPath('../../../audio/testfiles/GTZAN/genres/rock/rock.00048.wav'), PosixPath('../../../audio/testfiles/GTZAN/genres/pop/pop.00096.wav'), PosixPath('../../../audio/testfiles/GTZAN/genres/jazz/jazz.00042.wav'), PosixPath('../../../audio/testfiles/GTZAN/genres/reggae/reggae.00073.wav'), PosixPath('../../../audio/testfiles/GTZAN/genres/blues/blues.00069.wav'), PosixPath('../../../audio/testfiles/GTZAN/genres/country/country.00045.wav'), PosixPath('../../../audio/testfiles/GTZAN/genres/classical/classical.00070.wav'), PosixPath('../../../audio/testfiles/GTZAN/genres/metal/metal.00062.wav'), PosixPath('../../../audio/testfiles/GTZAN/genres/blues/blues.00047.wav'), PosixPath('../../../audio/testfiles/GTZAN/genres/disco/disco.00050.wav'), PosixPath('../../../audio/testfiles/GTZAN/genres/hiphop/hiphop.00077.wav'), PosixPath('../../../audio/testfiles/GTZAN/genres/blues/blues.00017.wav'), PosixPath('../../../audio/testfiles/GTZAN/genres/country/country.00099.wav'), PosixPath('../../../audio/testfiles/GTZAN/genres/pop/pop.00084.wav'), PosixPath('../../../audio/testfiles/GTZAN/genres/country/country.00019.wav'), PosixPath('../../../audio/testfiles/GTZAN/genres/metal/metal.00041.wav'), PosixPath('../../../audio/testfiles/GTZAN/genres/disco/disco.00094.wav'), PosixPath('../../../audio/testfiles/GTZAN/genres/pop/pop.00052.wav'), PosixPath('../../../audio/testfiles/GTZAN/genres/disco/disco.00071.wav'), PosixPath('../../../audio/testfiles/GTZAN/genres/metal/metal.00028.wav'), PosixPath('../../../audio/testfiles/GTZAN/genres/disco/disco.00017.wav'), PosixPath('../../../audio/testfiles/GTZAN/genres/classical/classical.00012.wav'), PosixPath('../../../audio/testfiles/GTZAN/genres/jazz/jazz.00003.wav'), PosixPath('../../../audio/testfiles/GTZAN/genres/hiphop/hiphop.00079.wav'), PosixPath('../../../audio/testfiles/GTZAN/genres/disco/disco.00065.wav'), PosixPath('../../../audio/testfiles/GTZAN/genres/jazz/jazz.00048.wav'), PosixPath('../../../audio/testfiles/GTZAN/genres/pop/pop.00053.wav'), PosixPath('../../../audio/testfiles/GTZAN/genres/reggae/reggae.00018.wav'), PosixPath('../../../audio/testfiles/GTZAN/genres/reggae/reggae.00051.wav'), PosixPath('../../../audio/testfiles/GTZAN/genres/pop/pop.00047.wav'), PosixPath('../../../audio/testfiles/GTZAN/genres/metal/metal.00064.wav'), PosixPath('../../../audio/testfiles/GTZAN/genres/country/country.00064.wav'), PosixPath('../../../audio/testfiles/GTZAN/genres/pop/pop.00095.wav'), PosixPath('../../../audio/testfiles/GTZAN/genres/classical/classical.00040.wav'), PosixPath('../../../audio/testfiles/GTZAN/genres/country/country.00075.wav'), PosixPath('../../../audio/testfiles/GTZAN/genres/hiphop/hiphop.00076.wav'), PosixPath('../../../audio/testfiles/GTZAN/genres/rock/rock.00060.wav'), PosixPath('../../../audio/testfiles/GTZAN/genres/rock/rock.00010.wav'), PosixPath('../../../audio/testfiles/GTZAN/genres/hiphop/hiphop.00074.wav'), PosixPath('../../../audio/testfiles/GTZAN/genres/reggae/reggae.00047.wav'), PosixPath('../../../audio/testfiles/GTZAN/genres/reggae/reggae.00014.wav'), PosixPath('../../../audio/testfiles/GTZAN/genres/pop/pop.00041.wav'), PosixPath('../../../audio/testfiles/GTZAN/genres/blues/blues.00058.wav'), PosixPath('../../../audio/testfiles/GTZAN/genres/rock/rock.00094.wav'), PosixPath('../../../audio/testfiles/GTZAN/genres/country/country.00037.wav'), PosixPath('../../../audio/testfiles/GTZAN/genres/jazz/jazz.00095.wav'), PosixPath('../../../audio/testfiles/GTZAN/genres/hiphop/hiphop.00033.wav'), PosixPath('../../../audio/testfiles/GTZAN/genres/disco/disco.00034.wav'), PosixPath('../../../audio/testfiles/GTZAN/genres/rock/rock.00062.wav'), PosixPath('../../../audio/testfiles/GTZAN/genres/disco/disco.00031.wav'), PosixPath('../../../audio/testfiles/GTZAN/genres/classical/classical.00082.wav'), PosixPath('../../../audio/testfiles/GTZAN/genres/pop/pop.00078.wav'), PosixPath('../../../audio/testfiles/GTZAN/genres/pop/pop.00077.wav'), PosixPath('../../../audio/testfiles/GTZAN/genres/jazz/jazz.00064.wav'), PosixPath('../../../audio/testfiles/GTZAN/genres/disco/disco.00096.wav'), PosixPath('../../../audio/testfiles/GTZAN/genres/country/country.00030.wav'), PosixPath('../../../audio/testfiles/GTZAN/genres/rock/rock.00077.wav'), PosixPath('../../../audio/testfiles/GTZAN/genres/reggae/reggae.00061.wav'), PosixPath('../../../audio/testfiles/GTZAN/genres/pop/pop.00073.wav'), PosixPath('../../../audio/testfiles/GTZAN/genres/metal/metal.00034.wav'), PosixPath('../../../audio/testfiles/GTZAN/genres/metal/metal.00019.wav'), PosixPath('../../../audio/testfiles/GTZAN/genres/hiphop/hiphop.00001.wav'), PosixPath('../../../audio/testfiles/GTZAN/genres/country/country.00057.wav'), PosixPath('../../../audio/testfiles/GTZAN/genres/jazz/jazz.00072.wav'), PosixPath('../../../audio/testfiles/GTZAN/genres/jazz/jazz.00051.wav'), PosixPath('../../../audio/testfiles/GTZAN/genres/disco/disco.00035.wav'), PosixPath('../../../audio/testfiles/GTZAN/genres/reggae/reggae.00031.wav'), PosixPath('../../../audio/testfiles/GTZAN/genres/pop/pop.00032.wav'), PosixPath('../../../audio/testfiles/GTZAN/genres/metal/metal.00088.wav'), PosixPath('../../../audio/testfiles/GTZAN/genres/disco/disco.00046.wav'), PosixPath('../../../audio/testfiles/GTZAN/genres/blues/blues.00025.wav'), PosixPath('../../../audio/testfiles/GTZAN/genres/blues/blues.00031.wav'), PosixPath('../../../audio/testfiles/GTZAN/genres/disco/disco.00072.wav'), PosixPath('../../../audio/testfiles/GTZAN/genres/classical/classical.00059.wav'), PosixPath('../../../audio/testfiles/GTZAN/genres/jazz/jazz.00041.wav'), PosixPath('../../../audio/testfiles/GTZAN/genres/disco/disco.00027.wav'), PosixPath('../../../audio/testfiles/GTZAN/genres/classical/classical.00057.wav'), PosixPath('../../../audio/testfiles/GTZAN/genres/pop/pop.00043.wav'), PosixPath('../../../audio/testfiles/GTZAN/genres/disco/disco.00045.wav'), PosixPath('../../../audio/testfiles/GTZAN/genres/jazz/jazz.00052.wav'), PosixPath('../../../audio/testfiles/GTZAN/genres/metal/metal.00081.wav'), PosixPath('../../../audio/testfiles/GTZAN/genres/hiphop/hiphop.00034.wav'), PosixPath('../../../audio/testfiles/GTZAN/genres/rock/rock.00093.wav'), PosixPath('../../../audio/testfiles/GTZAN/genres/rock/rock.00059.wav'), PosixPath('../../../audio/testfiles/GTZAN/genres/disco/disco.00085.wav'), PosixPath('../../../audio/testfiles/GTZAN/genres/blues/blues.00021.wav'), PosixPath('../../../audio/testfiles/GTZAN/genres/country/country.00017.wav'), PosixPath('../../../audio/testfiles/GTZAN/genres/disco/disco.00010.wav'), PosixPath('../../../audio/testfiles/GTZAN/genres/disco/disco.00028.wav'), PosixPath('../../../audio/testfiles/GTZAN/genres/hiphop/hiphop.00068.wav'), PosixPath('../../../audio/testfiles/GTZAN/genres/jazz/jazz.00037.wav'), PosixPath('../../../audio/testfiles/GTZAN/genres/hiphop/hiphop.00011.wav'), PosixPath('../../../audio/testfiles/GTZAN/genres/reggae/reggae.00027.wav'), PosixPath('../../../audio/testfiles/GTZAN/genres/reggae/reggae.00013.wav'), PosixPath('../../../audio/testfiles/GTZAN/genres/rock/rock.00027.wav'), PosixPath('../../../audio/testfiles/GTZAN/genres/reggae/reggae.00083.wav'), PosixPath('../../../audio/testfiles/GTZAN/genres/country/country.00079.wav'), PosixPath('../../../audio/testfiles/GTZAN/genres/pop/pop.00098.wav'), PosixPath('../../../audio/testfiles/GTZAN/genres/blues/blues.00044.wav'), PosixPath('../../../audio/testfiles/GTZAN/genres/country/country.00056.wav'), PosixPath('../../../audio/testfiles/GTZAN/genres/hiphop/hiphop.00027.wav'), PosixPath('../../../audio/testfiles/GTZAN/genres/classical/classical.00006.wav'), PosixPath('../../../audio/testfiles/GTZAN/genres/rock/rock.00096.wav'), PosixPath('../../../audio/testfiles/GTZAN/genres/jazz/jazz.00074.wav'), PosixPath('../../../audio/testfiles/GTZAN/genres/jazz/jazz.00098.wav'), PosixPath('../../../audio/testfiles/GTZAN/genres/blues/blues.00035.wav'), PosixPath('../../../audio/testfiles/GTZAN/genres/reggae/reggae.00058.wav'), PosixPath('../../../audio/testfiles/GTZAN/genres/jazz/jazz.00049.wav'), PosixPath('../../../audio/testfiles/GTZAN/genres/rock/rock.00008.wav'), PosixPath('../../../audio/testfiles/GTZAN/genres/country/country.00038.wav'), PosixPath('../../../audio/testfiles/GTZAN/genres/country/country.00073.wav'), PosixPath('../../../audio/testfiles/GTZAN/genres/rock/rock.00033.wav'), PosixPath('../../../audio/testfiles/GTZAN/genres/blues/blues.00051.wav'), PosixPath('../../../audio/testfiles/GTZAN/genres/metal/metal.00045.wav'), PosixPath('../../../audio/testfiles/GTZAN/genres/rock/rock.00039.wav'), PosixPath('../../../audio/testfiles/GTZAN/genres/rock/rock.00046.wav'), PosixPath('../../../audio/testfiles/GTZAN/genres/reggae/reggae.00032.wav'), PosixPath('../../../audio/testfiles/GTZAN/genres/country/country.00033.wav'), PosixPath('../../../audio/testfiles/GTZAN/genres/metal/metal.00036.wav'), PosixPath('../../../audio/testfiles/GTZAN/genres/hiphop/hiphop.00063.wav'), PosixPath('../../../audio/testfiles/GTZAN/genres/jazz/jazz.00010.wav'), PosixPath('../../../audio/testfiles/GTZAN/genres/disco/disco.00037.wav'), PosixPath('../../../audio/testfiles/GTZAN/genres/blues/blues.00045.wav'), PosixPath('../../../audio/testfiles/GTZAN/genres/classical/classical.00044.wav'), PosixPath('../../../audio/testfiles/GTZAN/genres/rock/rock.00085.wav'), PosixPath('../../../audio/testfiles/GTZAN/genres/hiphop/hiphop.00032.wav'), PosixPath('../../../audio/testfiles/GTZAN/genres/country/country.00061.wav'), PosixPath('../../../audio/testfiles/GTZAN/genres/classical/classical.00050.wav'), PosixPath('../../../audio/testfiles/GTZAN/genres/country/country.00013.wav'), PosixPath('../../../audio/testfiles/GTZAN/genres/blues/blues.00018.wav'), PosixPath('../../../audio/testfiles/GTZAN/genres/reggae/reggae.00071.wav'), PosixPath('../../../audio/testfiles/GTZAN/genres/country/country.00042.wav'), PosixPath('../../../audio/testfiles/GTZAN/genres/blues/blues.00073.wav'), PosixPath('../../../audio/testfiles/GTZAN/genres/rock/rock.00026.wav'), PosixPath('../../../audio/testfiles/GTZAN/genres/metal/metal.00065.wav'), PosixPath('../../../audio/testfiles/GTZAN/genres/classical/classical.00007.wav'), PosixPath('../../../audio/testfiles/GTZAN/genres/jazz/jazz.00006.wav'), PosixPath('../../../audio/testfiles/GTZAN/genres/country/country.00044.wav'), PosixPath('../../../audio/testfiles/GTZAN/genres/pop/pop.00039.wav'), PosixPath('../../../audio/testfiles/GTZAN/genres/jazz/jazz.00056.wav'), PosixPath('../../../audio/testfiles/GTZAN/genres/rock/rock.00042.wav'), PosixPath('../../../audio/testfiles/GTZAN/genres/pop/pop.00082.wav'), PosixPath('../../../audio/testfiles/GTZAN/genres/rock/rock.00018.wav'), PosixPath('../../../audio/testfiles/GTZAN/genres/classical/classical.00069.wav'), PosixPath('../../../audio/testfiles/GTZAN/genres/reggae/reggae.00041.wav'), PosixPath('../../../audio/testfiles/GTZAN/genres/pop/pop.00016.wav'), PosixPath('../../../audio/testfiles/GTZAN/genres/country/country.00035.wav'), PosixPath('../../../audio/testfiles/GTZAN/genres/classical/classical.00074.wav'), PosixPath('../../../audio/testfiles/GTZAN/genres/country/country.00024.wav'), PosixPath('../../../audio/testfiles/GTZAN/genres/metal/metal.00094.wav'), PosixPath('../../../audio/testfiles/GTZAN/genres/pop/pop.00071.wav'), PosixPath('../../../audio/testfiles/GTZAN/genres/jazz/jazz.00012.wav'), PosixPath('../../../audio/testfiles/GTZAN/genres/reggae/reggae.00065.wav'), PosixPath('../../../audio/testfiles/GTZAN/genres/jazz/jazz.00028.wav'), PosixPath('../../../audio/testfiles/GTZAN/genres/blues/blues.00004.wav'), PosixPath('../../../audio/testfiles/GTZAN/genres/rock/rock.00075.wav'), PosixPath('../../../audio/testfiles/GTZAN/genres/pop/pop.00008.wav'), PosixPath('../../../audio/testfiles/GTZAN/genres/country/country.00077.wav'), PosixPath('../../../audio/testfiles/GTZAN/genres/hiphop/hiphop.00000.wav'), PosixPath('../../../audio/testfiles/GTZAN/genres/hiphop/hiphop.00026.wav'), PosixPath('../../../audio/testfiles/GTZAN/genres/rock/rock.00030.wav'), PosixPath('../../../audio/testfiles/GTZAN/genres/rock/rock.00079.wav'), PosixPath('../../../audio/testfiles/GTZAN/genres/rock/rock.00090.wav'), PosixPath('../../../audio/testfiles/GTZAN/genres/classical/classical.00031.wav'), PosixPath('../../../audio/testfiles/GTZAN/genres/metal/metal.00016.wav'), PosixPath('../../../audio/testfiles/GTZAN/genres/rock/rock.00052.wav'), PosixPath('../../../audio/testfiles/GTZAN/genres/pop/pop.00055.wav'), PosixPath('../../../audio/testfiles/GTZAN/genres/disco/disco.00003.wav'), PosixPath('../../../audio/testfiles/GTZAN/genres/pop/pop.00011.wav'), PosixPath('../../../audio/testfiles/GTZAN/genres/pop/pop.00066.wav'), PosixPath('../../../audio/testfiles/GTZAN/genres/blues/blues.00042.wav'), PosixPath('../../../audio/testfiles/GTZAN/genres/pop/pop.00059.wav'), PosixPath('../../../audio/testfiles/GTZAN/genres/hiphop/hiphop.00084.wav'), PosixPath('../../../audio/testfiles/GTZAN/genres/jazz/jazz.00025.wav'), PosixPath('../../../audio/testfiles/GTZAN/genres/pop/pop.00048.wav'), PosixPath('../../../audio/testfiles/GTZAN/genres/rock/rock.00076.wav'), PosixPath('../../../audio/testfiles/GTZAN/genres/pop/pop.00051.wav'), PosixPath('../../../audio/testfiles/GTZAN/genres/blues/blues.00022.wav'), PosixPath('../../../audio/testfiles/GTZAN/genres/hiphop/hiphop.00030.wav'), PosixPath('../../../audio/testfiles/GTZAN/genres/metal/metal.00004.wav'), PosixPath('../../../audio/testfiles/GTZAN/genres/classical/classical.00029.wav'), PosixPath('../../../audio/testfiles/GTZAN/genres/rock/rock.00097.wav'), PosixPath('../../../audio/testfiles/GTZAN/genres/disco/disco.00019.wav'), PosixPath('../../../audio/testfiles/GTZAN/genres/reggae/reggae.00084.wav'), PosixPath('../../../audio/testfiles/GTZAN/genres/jazz/jazz.00068.wav'), PosixPath('../../../audio/testfiles/GTZAN/genres/rock/rock.00043.wav'), PosixPath('../../../audio/testfiles/GTZAN/genres/disco/disco.00089.wav'), PosixPath('../../../audio/testfiles/GTZAN/genres/metal/metal.00018.wav'), PosixPath('../../../audio/testfiles/GTZAN/genres/pop/pop.00079.wav'), PosixPath('../../../audio/testfiles/GTZAN/genres/pop/pop.00085.wav'), PosixPath('../../../audio/testfiles/GTZAN/genres/jazz/jazz.00088.wav'), PosixPath('../../../audio/testfiles/GTZAN/genres/classical/classical.00019.wav'), PosixPath('../../../audio/testfiles/GTZAN/genres/metal/metal.00085.wav'), PosixPath('../../../audio/testfiles/GTZAN/genres/disco/disco.00011.wav'), PosixPath('../../../audio/testfiles/GTZAN/genres/disco/disco.00021.wav'), PosixPath('../../../audio/testfiles/GTZAN/genres/pop/pop.00037.wav'), PosixPath('../../../audio/testfiles/GTZAN/genres/metal/metal.00098.wav'), PosixPath('../../../audio/testfiles/GTZAN/genres/classical/classical.00089.wav'), PosixPath('../../../audio/testfiles/GTZAN/genres/jazz/jazz.00043.wav'), PosixPath('../../../audio/testfiles/GTZAN/genres/jazz/jazz.00090.wav'), PosixPath('../../../audio/testfiles/GTZAN/genres/blues/blues.00015.wav'), PosixPath('../../../audio/testfiles/GTZAN/genres/hiphop/hiphop.00090.wav'), PosixPath('../../../audio/testfiles/GTZAN/genres/metal/metal.00040.wav'), PosixPath('../../../audio/testfiles/GTZAN/genres/classical/classical.00084.wav'), PosixPath('../../../audio/testfiles/GTZAN/genres/metal/metal.00087.wav'), PosixPath('../../../audio/testfiles/GTZAN/genres/jazz/jazz.00065.wav')]\n"
     ]
    }
   ],
   "source": [
    "#shuffle songs to keep segements together\n",
    "random.shuffle(songs)\n",
    "print(songs)"
   ]
  },
  {
   "cell_type": "code",
   "execution_count": null,
   "metadata": {},
   "outputs": [
    {
     "data": {
      "text/plain": [
       "2000"
      ]
     },
     "execution_count": 150,
     "metadata": {},
     "output_type": "execute_result"
    }
   ],
   "source": [
    "spectograms = []\n",
    "load_specs(data = songs, num_segments = num_segments)\n",
    "len(spectograms)"
   ]
  },
  {
   "cell_type": "code",
   "execution_count": null,
   "metadata": {},
   "outputs": [
    {
     "name": "stdout",
     "output_type": "stream",
     "text": [
      "Total number of samples:  2000\n",
      "Input shape: (64, 256, 1)\n"
     ]
    },
    {
     "data": {
      "text/plain": [
       "(2000, 1, 64, 256)"
      ]
     },
     "execution_count": 151,
     "metadata": {},
     "output_type": "execute_result"
    }
   ],
   "source": [
    "print(\"Total number of samples: \", len(mel_specs))\n",
    "\n",
    "#set dynamic input shape\n",
    "input_shape = np.shape(mel_specs[2]) + (1,)\n",
    "input_shape = (input_shape[1], input_shape[2], input_shape[3])\n",
    "print(\"Input shape: \" + str(input_shape))\n",
    "np.shape(mel_specs)"
   ]
  },
  {
   "cell_type": "code",
   "execution_count": null,
   "metadata": {},
   "outputs": [],
   "source": [
    "batch_size = input_shape[1] # use second dim as batch size, as it varies with duration"
   ]
  },
  {
   "cell_type": "code",
   "execution_count": null,
   "metadata": {},
   "outputs": [
    {
     "name": "stdout",
     "output_type": "stream",
     "text": [
      "Spectogram dimensions:  1 x 64\n"
     ]
    }
   ],
   "source": [
    "imagesize_x = np.shape(mel_specs)[1]\n",
    "imagesize_y = np.shape(mel_specs)[2]\n",
    "print(\"Spectogram dimensions: \", imagesize_x, \"x\", imagesize_y)"
   ]
  },
  {
   "cell_type": "code",
   "execution_count": null,
   "metadata": {},
   "outputs": [],
   "source": []
  },
  {
   "cell_type": "code",
   "execution_count": null,
   "metadata": {},
   "outputs": [
    {
     "data": {
      "text/plain": [
       "(600, 5)"
      ]
     },
     "execution_count": 154,
     "metadata": {},
     "output_type": "execute_result"
    }
   ],
   "source": [
    "testsplit = len(spectograms)*0.7    #70% train-test-split\n",
    "train = spectograms[:int(testsplit)]\n",
    "test = spectograms[int(testsplit):]\n",
    "np.shape(test)"
   ]
  },
  {
   "cell_type": "code",
   "execution_count": null,
   "metadata": {},
   "outputs": [],
   "source": [
    "#TODO: change\n",
    "\n",
    "\n",
    "X_train, y_train, p_train, offset_train, duration_train = zip(*train)\n",
    "X_test, y_test, p_test, offset_test, duration_test = zip(*test)\n",
    "\n",
    "# Reshape for CNN input\n",
    "X_train = np.array([x.reshape(input_shape) for x in X_train])\n",
    "X_test = np.array([x.reshape(input_shape) for x in X_test])\n",
    "\n",
    "# One-Hot encoding for classes\n",
    "lb = LabelBinarizer()\n",
    "y_train_bin = lb.fit_transform(y_train)\n",
    "y_test_bin = lb.transform(y_test)"
   ]
  },
  {
   "cell_type": "code",
   "execution_count": null,
   "metadata": {},
   "outputs": [
    {
     "data": {
      "text/plain": [
       "3"
      ]
     },
     "execution_count": 156,
     "metadata": {},
     "output_type": "execute_result"
    }
   ],
   "source": [
    "with open(output_label, 'wb') as f:\n",
    "    pickle.dump(lb, f)\n",
    "    \n",
    "if return_train_and_test == 1:\n",
    "    r_paths = p_test + (p_train)\n",
    "    r_offsets = offset_test + (offset_train)\n",
    "    r_durations = duration_test + (duration_train)\n",
    "else:\n",
    "    r_paths = p_test\n",
    "    r_offsets = offset_test\n",
    "    r_durations = duration_test\n",
    "    \n",
    "r_values = [r_paths, r_offsets, r_durations]\n",
    "\n",
    "with open(output_test_paths, 'wb') as f:\n",
    "    pickle.dump(r_values, f)\n",
    "\n",
    "\"\"\"\n",
    "label_encoder = LabelEncoder()\n",
    "y_train_int = label_encoder.fit_transform(y_train)\n",
    "y_test_int = label_encoder.fit_transform(y_test)\n",
    "#print(integer_encoded)\n",
    "\n",
    "y_train_bin = np.array(keras.utils.to_categorical(y_train_int, 10))\n",
    "y_test_bin = np.array(keras.utils.to_categorical(y_test_int, 10))\n",
    "#print(\"Encoding of test data:\\n\", y_test, \"=>\\n\", y_test_int, \"=>\\n\", y_test_bin)\n",
    "\"\"\"\n",
    "0\n",
    "len(r_values)"
   ]
  },
  {
   "cell_type": "code",
   "execution_count": null,
   "metadata": {},
   "outputs": [],
   "source": []
  },
  {
   "cell_type": "code",
   "execution_count": null,
   "metadata": {},
   "outputs": [],
   "source": [
    "y_train = y_train_bin\n",
    "y_test = y_test_bin"
   ]
  },
  {
   "cell_type": "code",
   "execution_count": null,
   "metadata": {},
   "outputs": [
    {
     "data": {
      "text/plain": [
       "0"
      ]
     },
     "execution_count": 158,
     "metadata": {},
     "output_type": "execute_result"
    }
   ],
   "source": [
    "\"\"\"\n",
    "\n",
    "# construct the image generator for data augmentation\n",
    "aug = ImageDataGenerator(rotation_range=30, width_shift_range=0.1, \n",
    "                         height_shift_range=0.1, shear_range=0.2, \n",
    "                         zoom_range=0.2,horizontal_flip=True, \n",
    "                         fill_mode=\"nearest\")\n",
    " \n",
    "# initialize our VGG-like Convolutional Neural Network\n",
    "model = VGGNet.build(width=imagesize_x, height=imagesize_y, depth=1, \n",
    "                          classes=len(lb.classes_))\n",
    "\"\"\"\n",
    "0"
   ]
  },
  {
   "cell_type": "code",
   "execution_count": null,
   "metadata": {},
   "outputs": [],
   "source": [
    "#old model for urban\n",
    "def cnn_urban_model_build():\n",
    "    model = Sequential()\n",
    "\n",
    "    model.add(Conv2D(24, (5, 5), strides=(1, 1), input_shape=input_shape))\n",
    "    model.add(MaxPooling2D((4, 2), strides=(4, 2)))\n",
    "    model.add(Activation('relu'))\n",
    "\n",
    "    model.add(Conv2D(48, (5, 5), padding=\"valid\"))\n",
    "    model.add(MaxPooling2D((4, 2), strides=(4, 2)))\n",
    "    model.add(Activation('relu'))\n",
    "\n",
    "    model.add(Conv2D(48, (5, 5), padding=\"valid\"))\n",
    "    model.add(Activation('relu'))\n",
    "\n",
    "    model.add(Flatten())\n",
    "    model.add(Dropout(rate=0.5))\n",
    "\n",
    "    model.add(Dense(64))\n",
    "    model.add(Activation('relu'))\n",
    "    model.add(Dropout(rate=0.5))\n",
    "\n",
    "    model.add(Dense(10))\n",
    "    model.add(Activation('softmax'))\n",
    "\n",
    "    model.compile(\n",
    "        optimizer=\"Adam\",\n",
    "        loss=\"categorical_crossentropy\",\n",
    "        metrics=['accuracy'])\n",
    "    print(model.summary)\n",
    "    return model\n",
    "\n",
    "#model for GTZAN\n",
    "def cnn_dong_model_build():\n",
    "\n",
    "    model = Sequential()\n",
    "    model.add(Conv2D(64, kernel_size=(3, 3),\n",
    "                     activation='relu', kernel_regularizer=regularizers.l2(0.01),\n",
    "                     input_shape=input_shape))\n",
    "    model.add(MaxPooling2D(pool_size=(2, 4)))\n",
    "\n",
    "    model.add(Conv2D(64, (3, 5), activation='relu', kernel_regularizer=regularizers.l2(0.01)))\n",
    "    model.add(MaxPooling2D(pool_size=(2, 4)))\n",
    "    model.add(Dropout(0.4))\n",
    "    model.add(Flatten())\n",
    "    model.add(Dense(32, activation='relu', kernel_regularizer=regularizers.l2(0.02)))\n",
    "    model.add(Dropout(0.3))\n",
    "    model.add(Dense(num_genres, activation='softmax'))\n",
    "    #model.compile(loss=keras.losses.categorical_crossentropy,\n",
    "     #             optimizer=keras.optimizers.Adadelta(decay=1e-6),\n",
    "      #            metrics=['accuracy'])\n",
    "    model.compile(\n",
    "        optimizer=\"Adam\",\n",
    "        loss=\"categorical_crossentropy\",\n",
    "        metrics=['accuracy'])\n",
    "    print(model.summary)\n",
    "    return model"
   ]
  },
  {
   "cell_type": "code",
   "execution_count": null,
   "metadata": {},
   "outputs": [
    {
     "name": "stdout",
     "output_type": "stream",
     "text": [
      "<bound method Network.summary of <keras.engine.sequential.Sequential object at 0x7f0a6c7bb6d8>>\n"
     ]
    }
   ],
   "source": [
    "model = cnn_dong_model_build()"
   ]
  },
  {
   "cell_type": "code",
   "execution_count": null,
   "metadata": {
    "scrolled": false
   },
   "outputs": [
    {
     "name": "stdout",
     "output_type": "stream",
     "text": [
      "Train on 1400 samples, validate on 600 samples\n",
      "Epoch 1/400\n",
      "1400/1400 [==============================] - 43s 31ms/step - loss: 4.7708 - acc: 0.1050 - val_loss: 4.0451 - val_acc: 0.1783\n",
      "Epoch 2/400\n",
      "1280/1400 [==========================>...] - ETA: 3s - loss: 3.9599 - acc: 0.1453 "
     ]
    }
   ],
   "source": [
    "callbacks = [EarlyStopping(monitor='val_loss', patience=es_patience),\n",
    "             ModelCheckpoint(filepath=output_best_model, monitor='val_loss', save_best_only=True)]\n",
    "\n",
    "H = model.fit(\n",
    "\tx=X_train, \n",
    "\ty=y_train,\n",
    "    epochs=epochs,\n",
    "    callbacks=callbacks,\n",
    "    batch_size=batch_size,\n",
    "    validation_data= (X_test, y_test))\n",
    "\n",
    "score = model.evaluate(x=X_test,y=y_test)\n",
    "\n",
    "print('Test loss:', score[0])\n",
    "print('Test accuracy:', score[1])"
   ]
  },
  {
   "cell_type": "code",
   "execution_count": null,
   "metadata": {},
   "outputs": [],
   "source": [
    "def evaluate_song(song):\n",
    "    start = 0\n",
    "    r = 0\n",
    "    for i in range(int(30/(duration/2))-1):\n",
    "        y, sr = librosa.load(song, mono=True, offset=start, duration=duration)\n",
    "        m_sp = librosa.feature.melspectrogram(y=y, sr=sr, n_fft=fft_window_points,\n",
    "                                              hop_length=hop_size, n_mels=n_mels,\n",
    "                                              fmax=fmax)\n",
    "        m_sp = np.expand_dims(m_sp, 0)\n",
    "        m_sp = np.expand_dims(m_sp, 3)\n",
    "        if r == 0:\n",
    "            prediction = model.predict(m_sp)\n",
    "            r = 1\n",
    "        else:\n",
    "            prediction = (prediction + model.predict(m_sp))/2\n",
    "        start = start + duration/2\n",
    "    return prediction\n",
    "        \n",
    "def evaluate_batch(batch):\n",
    "    predictions = []\n",
    "    for song in batch:\n",
    "        predictions.append(evaluate_song(song))\n",
    "    return predictions\n",
    "\n",
    "def compare_batch(predictions):\n",
    "    i = 0\n",
    "    l = lb.inverse_transform(y_test)\n",
    "    counter = 0\n",
    "    for prediction in predictions:\n",
    "        tr_value = str(l[i])\n",
    "        pr_value = re.sub('[\\[\\]\\']', '', str(lb.classes_[prediction.argmax(axis=1)]))\n",
    "        print(tr_value + \"=>\" + pr_value)\n",
    "        if tr_value == pr_value:\n",
    "            counter += 1\n",
    "        i += 1\n",
    "    acc = counter/len(predictions)*100\n",
    "    print(\"Acc: \" + str(acc) + \"%\")"
   ]
  },
  {
   "cell_type": "code",
   "execution_count": null,
   "metadata": {},
   "outputs": [],
   "source": [
    "predictions = evaluate_batch(p_test)\n",
    "print(predictions)"
   ]
  },
  {
   "cell_type": "code",
   "execution_count": null,
   "metadata": {},
   "outputs": [],
   "source": [
    "compare_batch(predictions)"
   ]
  },
  {
   "cell_type": "code",
   "execution_count": null,
   "metadata": {},
   "outputs": [],
   "source": [
    "# evaluate the network\n",
    "print(\"[INFO] evaluating network...\")\n",
    "#predictions = model.predict(X_test, batch_size=batch_size)\n",
    "\n",
    "\n",
    "\n",
    "print(classification_report(y_test_bin.argmax(axis=1),\n",
    "                            predictions.argmax(axis=1), \n",
    "                            target_names=lb.classes_))\n",
    " \n",
    "# plot the training loss and accuracy\n",
    "N = np.arange(0, epochs)\n",
    "plt.style.use(\"ggplot\")\n",
    "plt.figure()\n",
    "\"\"\"\n",
    "plt.plot(N, H.history[\"loss\"], label=\"train_loss\")\n",
    "plt.plot(N, H.history[\"val_loss\"], label=\"val_loss\")\n",
    "plt.plot(N, H.history[\"acc\"], label=\"train_acc\")\n",
    "plt.plot(N, H.history[\"val_acc\"], label=\"val_acc\")\n",
    "plt.title(\"Training Loss and Accuracy (SmallVGGNet)\")\n",
    "plt.xlabel(\"Epoch #\")\n",
    "plt.ylabel(\"Loss/Accuracy\")\n",
    "plt.legend()\n",
    "\"\"\"\n",
    "0\n",
    "print(predictions)"
   ]
  },
  {
   "cell_type": "code",
   "execution_count": null,
   "metadata": {},
   "outputs": [],
   "source": [
    "cm = confusion_matrix(y_test_bin.argmax(axis=1), predictions.argmax(axis=1))\n",
    "\n",
    "#cm = cm.astype('float') / cm.sum(axis=1)[:, np.newaxis]\n",
    "cm"
   ]
  },
  {
   "cell_type": "code",
   "execution_count": null,
   "metadata": {},
   "outputs": [],
   "source": [
    "# Save the weights\n",
    "#model.save_weights(output_model)\n",
    "\n",
    "# Save the model architecture\n",
    "#with open(output_architecture, 'w') as f:\n",
    "#    f.write(model.to_json())\n",
    "    \n",
    "#model.save(output_whole)"
   ]
  }
 ],
 "metadata": {
  "kernelspec": {
   "display_name": "musicrec2",
   "language": "python",
   "name": "musicrec2"
  },
  "language_info": {
   "codemirror_mode": {
    "name": "ipython",
    "version": 3
   },
   "file_extension": ".py",
   "mimetype": "text/x-python",
   "name": "python",
   "nbconvert_exporter": "python",
   "pygments_lexer": "ipython3",
   "version": "3.7.2"
  }
 },
 "nbformat": 4,
 "nbformat_minor": 2
}
