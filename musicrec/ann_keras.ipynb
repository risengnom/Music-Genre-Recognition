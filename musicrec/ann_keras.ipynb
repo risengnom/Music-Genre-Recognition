{
 "cells": [
  {
   "cell_type": "code",
   "execution_count": 1,
   "metadata": {},
   "outputs": [],
   "source": [
    "import pandas\n",
    "from sklearn import preprocessing\n",
    "import numpy as np"
   ]
  },
  {
   "cell_type": "code",
   "execution_count": 2,
   "metadata": {},
   "outputs": [],
   "source": [
    "num_segments = 19\n",
    "test_split = 0.3"
   ]
  },
  {
   "cell_type": "code",
   "execution_count": 3,
   "metadata": {},
   "outputs": [],
   "source": [
    "data = pandas.read_csv('/home/carsten/workspaces/isws/models/predictions_cnn_19k.csv')\n",
    "num_test_songs = int(len(data)*test_split)"
   ]
  },
  {
   "cell_type": "code",
   "execution_count": null,
   "metadata": {},
   "outputs": [],
   "source": []
  },
  {
   "cell_type": "code",
   "execution_count": 4,
   "metadata": {
    "scrolled": true
   },
   "outputs": [
    {
     "data": {
      "text/html": [
       "<div>\n",
       "<style scoped>\n",
       "    .dataframe tbody tr th:only-of-type {\n",
       "        vertical-align: middle;\n",
       "    }\n",
       "\n",
       "    .dataframe tbody tr th {\n",
       "        vertical-align: top;\n",
       "    }\n",
       "\n",
       "    .dataframe thead th {\n",
       "        text-align: right;\n",
       "    }\n",
       "</style>\n",
       "<table border=\"1\" class=\"dataframe\">\n",
       "  <thead>\n",
       "    <tr style=\"text-align: right;\">\n",
       "      <th></th>\n",
       "      <th>filename</th>\n",
       "      <th>chroma_stft</th>\n",
       "      <th>spectral_centroid</th>\n",
       "      <th>spectral_bandwidth</th>\n",
       "      <th>rolloff</th>\n",
       "      <th>zero_crossing_rate</th>\n",
       "      <th>mfcc1</th>\n",
       "      <th>mfcc2</th>\n",
       "      <th>mfcc3</th>\n",
       "      <th>mfcc4</th>\n",
       "      <th>...</th>\n",
       "      <th>blues</th>\n",
       "      <th>classical</th>\n",
       "      <th>country</th>\n",
       "      <th>disco</th>\n",
       "      <th>hiphop</th>\n",
       "      <th>jazz</th>\n",
       "      <th>metal</th>\n",
       "      <th>pop</th>\n",
       "      <th>reggae</th>\n",
       "      <th>rock</th>\n",
       "    </tr>\n",
       "  </thead>\n",
       "  <tbody>\n",
       "    <tr>\n",
       "      <th>0</th>\n",
       "      <td>reggae.00009.wav</td>\n",
       "      <td>0.421017</td>\n",
       "      <td>1679.434736</td>\n",
       "      <td>2024.534270</td>\n",
       "      <td>3466.256905</td>\n",
       "      <td>0.064117</td>\n",
       "      <td>-262.811999</td>\n",
       "      <td>126.180913</td>\n",
       "      <td>11.227370</td>\n",
       "      <td>21.112270</td>\n",
       "      <td>...</td>\n",
       "      <td>0.007860</td>\n",
       "      <td>9.522888e-08</td>\n",
       "      <td>0.006322</td>\n",
       "      <td>0.002053</td>\n",
       "      <td>0.031482</td>\n",
       "      <td>0.000387</td>\n",
       "      <td>0.000067</td>\n",
       "      <td>0.007997</td>\n",
       "      <td>0.942741</td>\n",
       "      <td>0.001092</td>\n",
       "    </tr>\n",
       "    <tr>\n",
       "      <th>1</th>\n",
       "      <td>reggae.00009.wav</td>\n",
       "      <td>0.398483</td>\n",
       "      <td>1875.148780</td>\n",
       "      <td>2227.413557</td>\n",
       "      <td>4031.587601</td>\n",
       "      <td>0.069351</td>\n",
       "      <td>-220.923940</td>\n",
       "      <td>117.441621</td>\n",
       "      <td>4.900961</td>\n",
       "      <td>20.067881</td>\n",
       "      <td>...</td>\n",
       "      <td>0.010861</td>\n",
       "      <td>4.979003e-08</td>\n",
       "      <td>0.003688</td>\n",
       "      <td>0.000187</td>\n",
       "      <td>0.026418</td>\n",
       "      <td>0.000958</td>\n",
       "      <td>0.000008</td>\n",
       "      <td>0.003163</td>\n",
       "      <td>0.954332</td>\n",
       "      <td>0.000385</td>\n",
       "    </tr>\n",
       "    <tr>\n",
       "      <th>2</th>\n",
       "      <td>reggae.00009.wav</td>\n",
       "      <td>0.339041</td>\n",
       "      <td>1833.160181</td>\n",
       "      <td>2189.649126</td>\n",
       "      <td>3916.098976</td>\n",
       "      <td>0.067055</td>\n",
       "      <td>-206.509028</td>\n",
       "      <td>117.687803</td>\n",
       "      <td>3.399634</td>\n",
       "      <td>28.708057</td>\n",
       "      <td>...</td>\n",
       "      <td>0.068167</td>\n",
       "      <td>3.036692e-05</td>\n",
       "      <td>0.033795</td>\n",
       "      <td>0.002462</td>\n",
       "      <td>0.011202</td>\n",
       "      <td>0.018917</td>\n",
       "      <td>0.000151</td>\n",
       "      <td>0.005191</td>\n",
       "      <td>0.853980</td>\n",
       "      <td>0.006105</td>\n",
       "    </tr>\n",
       "    <tr>\n",
       "      <th>3</th>\n",
       "      <td>reggae.00009.wav</td>\n",
       "      <td>0.344620</td>\n",
       "      <td>1592.273248</td>\n",
       "      <td>2028.807317</td>\n",
       "      <td>3360.189056</td>\n",
       "      <td>0.054104</td>\n",
       "      <td>-232.590603</td>\n",
       "      <td>127.788885</td>\n",
       "      <td>7.052849</td>\n",
       "      <td>31.868343</td>\n",
       "      <td>...</td>\n",
       "      <td>0.041583</td>\n",
       "      <td>5.319529e-06</td>\n",
       "      <td>0.020122</td>\n",
       "      <td>0.005269</td>\n",
       "      <td>0.010508</td>\n",
       "      <td>0.001775</td>\n",
       "      <td>0.000155</td>\n",
       "      <td>0.008868</td>\n",
       "      <td>0.906942</td>\n",
       "      <td>0.004772</td>\n",
       "    </tr>\n",
       "    <tr>\n",
       "      <th>4</th>\n",
       "      <td>reggae.00009.wav</td>\n",
       "      <td>0.378558</td>\n",
       "      <td>1501.627471</td>\n",
       "      <td>1940.269736</td>\n",
       "      <td>3026.676750</td>\n",
       "      <td>0.051956</td>\n",
       "      <td>-243.499728</td>\n",
       "      <td>132.915085</td>\n",
       "      <td>4.320031</td>\n",
       "      <td>20.461475</td>\n",
       "      <td>...</td>\n",
       "      <td>0.007871</td>\n",
       "      <td>8.119686e-08</td>\n",
       "      <td>0.004065</td>\n",
       "      <td>0.003663</td>\n",
       "      <td>0.019545</td>\n",
       "      <td>0.000149</td>\n",
       "      <td>0.000071</td>\n",
       "      <td>0.009919</td>\n",
       "      <td>0.953424</td>\n",
       "      <td>0.001293</td>\n",
       "    </tr>\n",
       "  </tbody>\n",
       "</table>\n",
       "<p>5 rows × 36 columns</p>\n",
       "</div>"
      ],
      "text/plain": [
       "           filename  chroma_stft  spectral_centroid  spectral_bandwidth  \\\n",
       "0  reggae.00009.wav     0.421017        1679.434736         2024.534270   \n",
       "1  reggae.00009.wav     0.398483        1875.148780         2227.413557   \n",
       "2  reggae.00009.wav     0.339041        1833.160181         2189.649126   \n",
       "3  reggae.00009.wav     0.344620        1592.273248         2028.807317   \n",
       "4  reggae.00009.wav     0.378558        1501.627471         1940.269736   \n",
       "\n",
       "       rolloff  zero_crossing_rate       mfcc1       mfcc2      mfcc3  \\\n",
       "0  3466.256905            0.064117 -262.811999  126.180913  11.227370   \n",
       "1  4031.587601            0.069351 -220.923940  117.441621   4.900961   \n",
       "2  3916.098976            0.067055 -206.509028  117.687803   3.399634   \n",
       "3  3360.189056            0.054104 -232.590603  127.788885   7.052849   \n",
       "4  3026.676750            0.051956 -243.499728  132.915085   4.320031   \n",
       "\n",
       "       mfcc4  ...     blues     classical   country     disco    hiphop  \\\n",
       "0  21.112270  ...  0.007860  9.522888e-08  0.006322  0.002053  0.031482   \n",
       "1  20.067881  ...  0.010861  4.979003e-08  0.003688  0.000187  0.026418   \n",
       "2  28.708057  ...  0.068167  3.036692e-05  0.033795  0.002462  0.011202   \n",
       "3  31.868343  ...  0.041583  5.319529e-06  0.020122  0.005269  0.010508   \n",
       "4  20.461475  ...  0.007871  8.119686e-08  0.004065  0.003663  0.019545   \n",
       "\n",
       "       jazz     metal       pop    reggae      rock  \n",
       "0  0.000387  0.000067  0.007997  0.942741  0.001092  \n",
       "1  0.000958  0.000008  0.003163  0.954332  0.000385  \n",
       "2  0.018917  0.000151  0.005191  0.853980  0.006105  \n",
       "3  0.001775  0.000155  0.008868  0.906942  0.004772  \n",
       "4  0.000149  0.000071  0.009919  0.953424  0.001293  \n",
       "\n",
       "[5 rows x 36 columns]"
      ]
     },
     "execution_count": 4,
     "metadata": {},
     "output_type": "execute_result"
    }
   ],
   "source": [
    "data = data.drop(['offset', 'duration'],axis=1)\n",
    "data.head()"
   ]
  },
  {
   "cell_type": "code",
   "execution_count": 5,
   "metadata": {
    "scrolled": false
   },
   "outputs": [],
   "source": [
    "for i in range(len(data.filename)):\n",
    "    res = data.iat[i,0]\n",
    "    res = res.split('.')[0]\n",
    "    data.iat[i,0] = res"
   ]
  },
  {
   "cell_type": "code",
   "execution_count": 6,
   "metadata": {},
   "outputs": [],
   "source": [
    "genre_list = data.iloc[:, 0]\n",
    "encoder = preprocessing.LabelEncoder()\n",
    "y = encoder.fit_transform(genre_list)"
   ]
  },
  {
   "cell_type": "code",
   "execution_count": 7,
   "metadata": {},
   "outputs": [
    {
     "data": {
      "text/plain": [
       "array([[4.21017349e-01, 1.67943474e+03, 2.02453427e+03, ...,\n",
       "        7.99694100e-03, 9.42740980e-01, 1.09187390e-03],\n",
       "       [3.98482721e-01, 1.87514878e+03, 2.22741356e+03, ...,\n",
       "        3.16288320e-03, 9.54331930e-01, 3.85428870e-04],\n",
       "       [3.39040828e-01, 1.83316018e+03, 2.18964913e+03, ...,\n",
       "        5.19050100e-03, 8.53980240e-01, 6.10466390e-03],\n",
       "       ...,\n",
       "       [5.82671040e-01, 2.81592156e+03, 2.20142615e+03, ...,\n",
       "        3.23582070e-03, 1.03490170e-04, 2.04184890e-01],\n",
       "       [5.84403050e-01, 2.82644200e+03, 2.19657691e+03, ...,\n",
       "        3.43380590e-03, 1.91280710e-04, 1.78307820e-01],\n",
       "       [5.70103128e-01, 2.86434960e+03, 2.20523546e+03, ...,\n",
       "        4.54706840e-03, 3.20502000e-04, 1.87299640e-01]])"
      ]
     },
     "execution_count": 7,
     "metadata": {},
     "output_type": "execute_result"
    }
   ],
   "source": [
    "scaler = preprocessing.StandardScaler()\n",
    "X = scaler.fit_transform(np.array(data.iloc[:, 1:], dtype = float))\n",
    "np.array(data.iloc[:, 1:])"
   ]
  },
  {
   "cell_type": "code",
   "execution_count": 8,
   "metadata": {},
   "outputs": [],
   "source": [
    "X_test = X[:num_test_songs]\n",
    "X_train = X[num_test_songs:]\n",
    "y_test = y[:num_test_songs]\n",
    "y_train = y[num_test_songs:]"
   ]
  },
  {
   "cell_type": "code",
   "execution_count": 9,
   "metadata": {},
   "outputs": [
    {
     "name": "stderr",
     "output_type": "stream",
     "text": [
      "Using TensorFlow backend.\n"
     ]
    }
   ],
   "source": [
    "from keras import models\n",
    "from keras import layers\n",
    "\n",
    "from keras.callbacks import EarlyStopping, ModelCheckpoint"
   ]
  },
  {
   "cell_type": "code",
   "execution_count": 10,
   "metadata": {
    "scrolled": true
   },
   "outputs": [],
   "source": [
    "val_split = int(19000*0.2)\n",
    "x_val = X_train[:val_split]\n",
    "partial_x_train = X_train[val_split:]\n",
    "\n",
    "y_val = y_train[:val_split]\n",
    "partial_y_train = y_train[val_split:]\n",
    "x_norm = preprocessing.scale(x_val)"
   ]
  },
  {
   "cell_type": "code",
   "execution_count": 11,
   "metadata": {},
   "outputs": [
    {
     "name": "stdout",
     "output_type": "stream",
     "text": [
      "WARNING:tensorflow:From /home/carsten/.local/share/virtualenvs/is_music-genre-recognition-7WxnqNEu/lib/python3.7/site-packages/tensorflow/python/framework/op_def_library.py:263: colocate_with (from tensorflow.python.framework.ops) is deprecated and will be removed in a future version.\n",
      "Instructions for updating:\n",
      "Colocations handled automatically by placer.\n",
      "WARNING:tensorflow:From /home/carsten/.local/share/virtualenvs/is_music-genre-recognition-7WxnqNEu/lib/python3.7/site-packages/tensorflow/python/ops/math_ops.py:3066: to_int32 (from tensorflow.python.ops.math_ops) is deprecated and will be removed in a future version.\n",
      "Instructions for updating:\n",
      "Use tf.cast instead.\n",
      "Train on 9500 samples, validate on 3800 samples\n",
      "Epoch 1/200\n",
      "9500/9500 [==============================] - 1s 88us/step - loss: 1.1746 - acc: 0.6980 - val_loss: 0.5185 - val_acc: 0.8434\n",
      "Epoch 2/200\n",
      "9500/9500 [==============================] - 0s 48us/step - loss: 0.3648 - acc: 0.8861 - val_loss: 0.5289 - val_acc: 0.8411\n",
      "Epoch 3/200\n",
      "9500/9500 [==============================] - 0s 45us/step - loss: 0.2566 - acc: 0.9173 - val_loss: 0.4982 - val_acc: 0.8368\n",
      "Epoch 4/200\n",
      "9500/9500 [==============================] - 0s 44us/step - loss: 0.2036 - acc: 0.9339 - val_loss: 0.4955 - val_acc: 0.8363\n",
      "Epoch 5/200\n",
      "9500/9500 [==============================] - 0s 48us/step - loss: 0.1674 - acc: 0.9443 - val_loss: 0.5261 - val_acc: 0.8411\n",
      "Epoch 6/200\n",
      "9500/9500 [==============================] - 0s 47us/step - loss: 0.1487 - acc: 0.9522 - val_loss: 0.5988 - val_acc: 0.8274\n",
      "Epoch 7/200\n",
      "9500/9500 [==============================] - 0s 49us/step - loss: 0.1373 - acc: 0.9535 - val_loss: 0.5654 - val_acc: 0.8289\n",
      "Epoch 8/200\n",
      "9500/9500 [==============================] - 0s 50us/step - loss: 0.1122 - acc: 0.9642 - val_loss: 0.5857 - val_acc: 0.8405\n",
      "Epoch 9/200\n",
      "9500/9500 [==============================] - 1s 68us/step - loss: 0.0951 - acc: 0.9701 - val_loss: 0.6066 - val_acc: 0.8355\n",
      "Epoch 10/200\n",
      "9500/9500 [==============================] - 1s 70us/step - loss: 0.0907 - acc: 0.9689 - val_loss: 0.5811 - val_acc: 0.8382\n",
      "Epoch 11/200\n",
      "9500/9500 [==============================] - 0s 44us/step - loss: 0.0769 - acc: 0.9763 - val_loss: 0.5614 - val_acc: 0.8482\n",
      "Epoch 12/200\n",
      "9500/9500 [==============================] - 1s 67us/step - loss: 0.0691 - acc: 0.9768 - val_loss: 0.6102 - val_acc: 0.8392\n",
      "Epoch 13/200\n",
      "9500/9500 [==============================] - 0s 41us/step - loss: 0.0533 - acc: 0.9844 - val_loss: 0.6091 - val_acc: 0.8403\n",
      "Epoch 14/200\n",
      "9500/9500 [==============================] - 0s 48us/step - loss: 0.0445 - acc: 0.9862 - val_loss: 0.6912 - val_acc: 0.8350\n",
      "5700/5700 [==============================] - 0s 59us/step\n"
     ]
    }
   ],
   "source": [
    "model = models.Sequential()\n",
    "model.add(layers.Dense(512, activation='relu', input_shape=(X_train.shape[1],)))\n",
    "model.add(layers.Dense(256, activation='relu'))\n",
    "model.add(layers.Dense(128, activation='relu'))\n",
    "model.add(layers.Dense(64, activation='relu'))\n",
    "model.add(layers.Dense(10, activation='softmax'))\n",
    "\n",
    "model.compile(optimizer='adam',\n",
    "              loss='sparse_categorical_crossentropy',\n",
    "              metrics=['accuracy'])\n",
    "\n",
    "callbacks = [EarlyStopping(monitor='val_loss', patience=10),\n",
    "                 ModelCheckpoint(filepath='./../../../models/ann-model-best.h5', monitor='val_loss', save_best_only=True)]\n",
    "\n",
    "model.fit(partial_x_train,\n",
    "          partial_y_train,\n",
    "          epochs=200,\n",
    "          batch_size=512,\n",
    "          callbacks=callbacks,\n",
    "          validation_data=(x_val, y_val))\n",
    "results = model.evaluate(X_test, y_test)"
   ]
  },
  {
   "cell_type": "code",
   "execution_count": 12,
   "metadata": {
    "scrolled": true
   },
   "outputs": [
    {
     "data": {
      "text/plain": [
       "[1.6380022586208949, 0.6950877192982456]"
      ]
     },
     "execution_count": 12,
     "metadata": {},
     "output_type": "execute_result"
    }
   ],
   "source": [
    "results"
   ]
  },
  {
   "cell_type": "code",
   "execution_count": null,
   "metadata": {},
   "outputs": [],
   "source": []
  },
  {
   "cell_type": "code",
   "execution_count": null,
   "metadata": {},
   "outputs": [],
   "source": []
  },
  {
   "cell_type": "code",
   "execution_count": 16,
   "metadata": {},
   "outputs": [],
   "source": [
    "p = model.predict(X_test)"
   ]
  },
  {
   "cell_type": "code",
   "execution_count": 17,
   "metadata": {},
   "outputs": [
    {
     "name": "stdout",
     "output_type": "stream",
     "text": [
      "0.6950877192982456\n"
     ]
    }
   ],
   "source": [
    "a = 0\n",
    "for i in range(len(p)):\n",
    "    if int(np.argmax(p[i])) == int(y_test[i]):\n",
    "        a = a + 1\n",
    "print(a/num_test_songs)"
   ]
  },
  {
   "cell_type": "code",
   "execution_count": null,
   "metadata": {},
   "outputs": [],
   "source": []
  }
 ],
 "metadata": {
  "kernelspec": {
   "display_name": "musicrec2",
   "language": "python",
   "name": "musicrec2"
  },
  "language_info": {
   "codemirror_mode": {
    "name": "ipython",
    "version": 3
   },
   "file_extension": ".py",
   "mimetype": "text/x-python",
   "name": "python",
   "nbconvert_exporter": "python",
   "pygments_lexer": "ipython3",
   "version": "3.7.2"
  }
 },
 "nbformat": 4,
 "nbformat_minor": 2
}
