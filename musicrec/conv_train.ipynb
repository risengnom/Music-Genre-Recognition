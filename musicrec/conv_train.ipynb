{
 "cells": [
  {
   "cell_type": "code",
   "execution_count": 17,
   "metadata": {
    "scrolled": true
   },
   "outputs": [],
   "source": [
    "# set the matplotlib backend so figures can be saved in the background\n",
    "import matplotlib\n",
    "matplotlib.use(\"Agg\")\n",
    " \n",
    "import pathlib\n",
    "from pathlib import Path\n",
    "import matplotlib.pyplot as plot\n",
    "import librosa\n",
    "    \n",
    "# import the necessary packages\n",
    "from musicrec.vgg import VGGNet\n",
    "from sklearn.preprocessing import LabelBinarizer\n",
    "from sklearn.model_selection import train_test_split\n",
    "from sklearn.metrics import classification_report\n",
    "from keras.preprocessing.image import ImageDataGenerator\n",
    "from keras.optimizers import SGD\n",
    "from imutils import paths\n",
    "import matplotlib.pyplot as plt\n",
    "import numpy as np\n",
    "import argparse\n",
    "import random\n",
    "from datetime import datetime\n",
    "import pickle\n",
    "import cv2\n",
    "import os\n",
    "import sys\n",
    "\n",
    "from keras.models import Sequential"
   ]
  },
  {
   "cell_type": "code",
   "execution_count": null,
   "metadata": {},
   "outputs": [],
   "source": []
  },
  {
   "cell_type": "code",
   "execution_count": 18,
   "metadata": {},
   "outputs": [],
   "source": [
    "\n",
    "data_folder = Path(\"../../../audio/testfiles/GTZAN_test/genres/\")\n",
    "output_folder = Path(\"./output/cvnn.model\")\n",
    "spectogram_folder = Path(\"./img_data/\")\n",
    "# Duration of songsnippet in seconds\n",
    "duration = 3\n",
    "# Matplotlib colormap for spectogram\n",
    "spectogram_cmap = 'binary' \n",
    "# Predefined list of genres\n",
    "pred_genres = 'blues classical country disco hiphop jazz metal pop reggae rock'.split() \n",
    "#imagePaths = sorted(list(spectogram_folder.list_images(args[\"dataset\"])))\n",
    "#imagePaths\n",
    "\n",
    "imagesize_x = 32\n",
    "imagesize_y = 32"
   ]
  },
  {
   "cell_type": "code",
   "execution_count": 19,
   "metadata": {},
   "outputs": [],
   "source": [
    "#Get directories of all songs\n",
    "songs = []\n",
    "genres = []\n",
    "\n",
    "spectograms = []\n",
    "\n",
    "for g in data_folder.iterdir():\n",
    "    genres.append(g.name)\n",
    "    for i in g.iterdir():\n",
    "        songs.append(i)"
   ]
  },
  {
   "cell_type": "code",
   "execution_count": 20,
   "metadata": {},
   "outputs": [],
   "source": [
    "# Calculate all spectograms\n",
    "cmap = plot.get_cmap(spectogram_cmap)\n",
    "plot.figure(figsize=(10,10))\n",
    "spectograms = []\n",
    "\n",
    "# Iterate through all songs and generate their spactograms. Save them all as images.\n",
    "for genre in genres:\n",
    "    pathlib.Path(f'img_data/{genre}').mkdir(parents=True, exist_ok=True)     \n",
    "for song in songs:\n",
    "    y, sr = librosa.load(song, mono=True, duration=duration)\n",
    "    plot.specgram(y, NFFT=2048, Fs=2, Fc=0, noverlap=128, cmap=cmap, sides='default', mode='default', scale='dB');\n",
    "    plot.axis('off');\n",
    "    spec_path = pathlib.Path(f'img_data/{song.parts[-2]}/{\".\".join(str(song.parts[-1]).split(\".\")[:2])}.png')\n",
    "    spectograms.append(spec_path)\n",
    "    plot.savefig(spec_path, bbox_inches='tight', pad_inches = 0)\n",
    "    plot.clf()"
   ]
  },
  {
   "cell_type": "code",
   "execution_count": null,
   "metadata": {},
   "outputs": [],
   "source": []
  },
  {
   "cell_type": "code",
   "execution_count": null,
   "metadata": {},
   "outputs": [],
   "source": []
  },
  {
   "cell_type": "code",
   "execution_count": null,
   "metadata": {},
   "outputs": [],
   "source": []
  },
  {
   "cell_type": "code",
   "execution_count": 21,
   "metadata": {},
   "outputs": [],
   "source": [
    "# Seed for RNG\n",
    "random.seed(datetime.now())"
   ]
  },
  {
   "cell_type": "code",
   "execution_count": 22,
   "metadata": {},
   "outputs": [
    {
     "data": {
      "text/plain": [
       "[PosixPath('img_data/pop/pop.00005.png'),\n",
       " PosixPath('img_data/country/country.00002.png'),\n",
       " PosixPath('img_data/classical/classical.00000.png'),\n",
       " PosixPath('img_data/rock/rock.00000.png'),\n",
       " PosixPath('img_data/pop/pop.00001.png'),\n",
       " PosixPath('img_data/pop/pop.00002.png'),\n",
       " PosixPath('img_data/hiphop/hiphop.00000.png'),\n",
       " PosixPath('img_data/blues/blues.00000.png'),\n",
       " PosixPath('img_data/metal/metal.00003.png'),\n",
       " PosixPath('img_data/reggae/reggae.00003.png'),\n",
       " PosixPath('img_data/jazz/jazz.00004.png'),\n",
       " PosixPath('img_data/rock/rock.00001.png'),\n",
       " PosixPath('img_data/rock/rock.00003.png'),\n",
       " PosixPath('img_data/disco/disco.00004.png'),\n",
       " PosixPath('img_data/reggae/reggae.00000.png'),\n",
       " PosixPath('img_data/jazz/jazz.00005.png'),\n",
       " PosixPath('img_data/hiphop/hiphop.00004.png'),\n",
       " PosixPath('img_data/metal/metal.00005.png'),\n",
       " PosixPath('img_data/country/country.00001.png'),\n",
       " PosixPath('img_data/country/country.00003.png'),\n",
       " PosixPath('img_data/disco/disco.00002.png'),\n",
       " PosixPath('img_data/hiphop/hiphop.00003.png'),\n",
       " PosixPath('img_data/disco/disco.00005.png'),\n",
       " PosixPath('img_data/pop/pop.00000.png'),\n",
       " PosixPath('img_data/metal/metal.00002.png'),\n",
       " PosixPath('img_data/disco/disco.00003.png'),\n",
       " PosixPath('img_data/classical/classical.00004.png'),\n",
       " PosixPath('img_data/hiphop/hiphop.00005.png'),\n",
       " PosixPath('img_data/classical/classical.00005.png'),\n",
       " PosixPath('img_data/classical/classical.00002.png'),\n",
       " PosixPath('img_data/pop/pop.00004.png'),\n",
       " PosixPath('img_data/rock/rock.00005.png'),\n",
       " PosixPath('img_data/metal/metal.00001.png'),\n",
       " PosixPath('img_data/classical/classical.00003.png'),\n",
       " PosixPath('img_data/jazz/jazz.00000.png'),\n",
       " PosixPath('img_data/disco/disco.00001.png'),\n",
       " PosixPath('img_data/jazz/jazz.00002.png'),\n",
       " PosixPath('img_data/blues/blues.00005.png'),\n",
       " PosixPath('img_data/metal/metal.00000.png'),\n",
       " PosixPath('img_data/classical/classical.00001.png'),\n",
       " PosixPath('img_data/blues/blues.00001.png'),\n",
       " PosixPath('img_data/blues/blues.00004.png'),\n",
       " PosixPath('img_data/country/country.00000.png'),\n",
       " PosixPath('img_data/blues/blues.00002.png'),\n",
       " PosixPath('img_data/rock/rock.00002.png'),\n",
       " PosixPath('img_data/jazz/jazz.00003.png'),\n",
       " PosixPath('img_data/reggae/reggae.00002.png'),\n",
       " PosixPath('img_data/reggae/reggae.00004.png'),\n",
       " PosixPath('img_data/reggae/reggae.00005.png'),\n",
       " PosixPath('img_data/pop/pop.00003.png'),\n",
       " PosixPath('img_data/blues/blues.00003.png'),\n",
       " PosixPath('img_data/metal/metal.00004.png'),\n",
       " PosixPath('img_data/disco/disco.00000.png'),\n",
       " PosixPath('img_data/jazz/jazz.00001.png'),\n",
       " PosixPath('img_data/country/country.00005.png'),\n",
       " PosixPath('img_data/reggae/reggae.00001.png'),\n",
       " PosixPath('img_data/country/country.00004.png'),\n",
       " PosixPath('img_data/hiphop/hiphop.00001.png'),\n",
       " PosixPath('img_data/rock/rock.00004.png'),\n",
       " PosixPath('img_data/hiphop/hiphop.00002.png')]"
      ]
     },
     "execution_count": 22,
     "metadata": {},
     "output_type": "execute_result"
    }
   ],
   "source": [
    "# Shuffle the spectograms\n",
    "random.shuffle(spectograms)\n",
    "spectograms"
   ]
  },
  {
   "cell_type": "code",
   "execution_count": 23,
   "metadata": {},
   "outputs": [],
   "source": [
    "# Import images, convert them to grayscale (one uint8 per pixel) and load them into an array\n",
    "images = []\n",
    "for spec_path in spectograms:\n",
    "    image = cv2.imread(str(spec_path))\n",
    "    col_pixels = np.array(np.where(image != 255))\n",
    "    first_col_pixel = col_pixels[:,0]\n",
    "    last_col_pixel = col_pixels[:,-1]\n",
    "    image = image[first_col_pixel[0]:last_col_pixel[0], first_col_pixel[1]:last_col_pixel[1]]\n",
    "    image = cv2.resize(image, (imagesize_x, imagesize_y))\n",
    "    image_name = str(spec_path) + \"-crop.png\"\n",
    "    cv2.imwrite(image_name, image)\n",
    "    #image = cv2.cvtColor(image, cv2.COLOR_BGR2GRAY)\n",
    "    images.append(image)\n",
    "images = np.array(images, dtype=\"float\") / 255.0 \n",
    "data = images"
   ]
  },
  {
   "cell_type": "code",
   "execution_count": 24,
   "metadata": {},
   "outputs": [
    {
     "data": {
      "text/plain": [
       "['pop',\n",
       " 'country',\n",
       " 'classical',\n",
       " 'rock',\n",
       " 'pop',\n",
       " 'pop',\n",
       " 'hiphop',\n",
       " 'blues',\n",
       " 'metal',\n",
       " 'reggae',\n",
       " 'jazz',\n",
       " 'rock',\n",
       " 'rock',\n",
       " 'disco',\n",
       " 'reggae',\n",
       " 'jazz',\n",
       " 'hiphop',\n",
       " 'metal',\n",
       " 'country',\n",
       " 'country',\n",
       " 'disco',\n",
       " 'hiphop',\n",
       " 'disco',\n",
       " 'pop',\n",
       " 'metal',\n",
       " 'disco',\n",
       " 'classical',\n",
       " 'hiphop',\n",
       " 'classical',\n",
       " 'classical',\n",
       " 'pop',\n",
       " 'rock',\n",
       " 'metal',\n",
       " 'classical',\n",
       " 'jazz',\n",
       " 'disco',\n",
       " 'jazz',\n",
       " 'blues',\n",
       " 'metal',\n",
       " 'classical',\n",
       " 'blues',\n",
       " 'blues',\n",
       " 'country',\n",
       " 'blues',\n",
       " 'rock',\n",
       " 'jazz',\n",
       " 'reggae',\n",
       " 'reggae',\n",
       " 'reggae',\n",
       " 'pop',\n",
       " 'blues',\n",
       " 'metal',\n",
       " 'disco',\n",
       " 'jazz',\n",
       " 'country',\n",
       " 'reggae',\n",
       " 'country',\n",
       " 'hiphop',\n",
       " 'rock',\n",
       " 'hiphop']"
      ]
     },
     "execution_count": 24,
     "metadata": {},
     "output_type": "execute_result"
    }
   ],
   "source": [
    "# Create array with correct labels for each spectogram\n",
    "labels = []\n",
    "for spec in spectograms:\n",
    "    labels.append(spec.parts[-2])  \n",
    "labels"
   ]
  },
  {
   "cell_type": "code",
   "execution_count": 25,
   "metadata": {},
   "outputs": [
    {
     "data": {
      "text/plain": [
       "(60, 32, 32, 3)"
      ]
     },
     "execution_count": 25,
     "metadata": {},
     "output_type": "execute_result"
    }
   ],
   "source": [
    "np.shape(data)"
   ]
  },
  {
   "cell_type": "code",
   "execution_count": null,
   "metadata": {},
   "outputs": [],
   "source": [
    "# partition the data into training and testing splits using 75% of\n",
    "# the data for training and the remaining 25% for testing\n",
    "(trainX, testX, trainY, testY) = train_test_split(data, labels, test_size=0.25, random_state=42)\n",
    " \n",
    "# convert the labels from integers to vectors (for 2-class, binary\n",
    "# classification you should use Keras' to_categorical function\n",
    "# instead as the scikit-learn's LabelBinarizer will not return a\n",
    "# vector)\n",
    "lb = LabelBinarizer()\n",
    "trainY = lb.fit_transform(trainY)\n",
    "testY = lb.transform(testY)\n",
    "np.size(trainY)"
   ]
  },
  {
   "cell_type": "code",
   "execution_count": null,
   "metadata": {},
   "outputs": [],
   "source": [
    "lb.classes_"
   ]
  },
  {
   "cell_type": "code",
   "execution_count": null,
   "metadata": {},
   "outputs": [],
   "source": [
    "# construct the image generator for data augmentation\n",
    "aug = ImageDataGenerator(rotation_range=30, width_shift_range=0.1, \n",
    "                         height_shift_range=0.1, shear_range=0.2, \n",
    "                         zoom_range=0.2,horizontal_flip=True, \n",
    "                         fill_mode=\"nearest\")\n",
    " \n",
    "# initialize our VGG-like Convolutional Neural Network\n",
    "model = VGGNet.build(width=imagesize_x, height=imagesize_y, depth=3, \n",
    "                          classes=len(lb.classes_))"
   ]
  },
  {
   "cell_type": "code",
   "execution_count": null,
   "metadata": {},
   "outputs": [],
   "source": [
    "# initialize our initial learning rate, # of epochs to train for,\n",
    "# and batch size\n",
    "INIT_LR = 0.01\n",
    "EPOCHS = 75\n",
    "BS = 32\n",
    " \n",
    "# initialize the model and optimizer (you'll want to use\n",
    "# binary_crossentropy for 2-class classification)\n",
    "print(\"[INFO] training network...\")\n",
    "opt = SGD(lr=INIT_LR, decay=INIT_LR / EPOCHS)\n",
    "model.compile(loss=\"categorical_crossentropy\", optimizer=opt, metrics=[\"accuracy\"])\n",
    " \n",
    "# train the network\n",
    "H = model.fit_generator(aug.flow(trainX, trainY, batch_size=BS), \n",
    "                        validation_data=(testX, testY), \n",
    "                        steps_per_epoch=len(trainX) // BS,\n",
    "                        epochs=EPOCHS)"
   ]
  },
  {
   "cell_type": "code",
   "execution_count": null,
   "metadata": {},
   "outputs": [],
   "source": [
    "# evaluate the network\n",
    "print(\"[INFO] evaluating network...\")\n",
    "predictions = model.predict(testX, batch_size=32)\n",
    "print(classification_report(testY.argmax(axis=1),\n",
    "                            predictions.argmax(axis=1), \n",
    "                            target_names=lb.classes_))\n",
    " \n",
    "# plot the training loss and accuracy\n",
    "N = np.arange(0, EPOCHS)\n",
    "plt.style.use(\"ggplot\")\n",
    "plt.figure()\n",
    "plt.plot(N, H.history[\"loss\"], label=\"train_loss\")\n",
    "plt.plot(N, H.history[\"val_loss\"], label=\"val_loss\")\n",
    "plt.plot(N, H.history[\"acc\"], label=\"train_acc\")\n",
    "plt.plot(N, H.history[\"val_acc\"], label=\"val_acc\")\n",
    "plt.title(\"Training Loss and Accuracy (SmallVGGNet)\")\n",
    "plt.xlabel(\"Epoch #\")\n",
    "plt.ylabel(\"Loss/Accuracy\")\n",
    "plt.legend()\n",
    "plt.savefig(args[\"plot\"])\n",
    " \n",
    "# save the model and label binarizer to disk\n",
    "#print(\"[INFO] serializing network and label binarizer...\")\n",
    "#model.save(args[\"model\"])\n",
    "#f = open(args[\"label_bin\"], \"wb\")\n",
    "#f.write(pickle.dumps(lb))\n",
    "#f.close()"
   ]
  },
  {
   "cell_type": "code",
   "execution_count": null,
   "metadata": {},
   "outputs": [],
   "source": []
  }
 ],
 "metadata": {
  "kernelspec": {
   "display_name": "musicrec2",
   "language": "python",
   "name": "musicrec2"
  },
  "language_info": {
   "codemirror_mode": {
    "name": "ipython",
    "version": 3
   },
   "file_extension": ".py",
   "mimetype": "text/x-python",
   "name": "python",
   "nbconvert_exporter": "python",
   "pygments_lexer": "ipython3",
   "version": "3.7.2"
  }
 },
 "nbformat": 4,
 "nbformat_minor": 2
}
