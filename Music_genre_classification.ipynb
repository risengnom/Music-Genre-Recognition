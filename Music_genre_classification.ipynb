{
 "cells": [
  {
   "cell_type": "markdown",
   "metadata": {
    "colab_type": "text",
    "id": "view-in-github"
   },
   "source": []
  },
  {
   "cell_type": "markdown",
   "metadata": {
    "colab_type": "text",
    "id": "cNnM2w-HCeb1"
   },
   "source": [
    "# Music genre classification notebook"
   ]
  },
  {
   "cell_type": "markdown",
   "metadata": {
    "colab_type": "text",
    "id": "2l3sppZMCydR"
   },
   "source": [
    "## Importing Libraries"
   ]
  },
  {
   "cell_type": "code",
   "execution_count": 102,
   "metadata": {
    "colab": {},
    "colab_type": "code",
    "id": "Gt3fyg6dCNvX"
   },
   "outputs": [],
   "source": [
    "# feature extractoring and preprocessing data\n",
    "import librosa\n",
    "import pandas as pd\n",
    "import numpy as np\n",
    "import matplotlib.pyplot as plt\n",
    "%matplotlib inline\n",
    "import os\n",
    "from PIL import Image\n",
    "import pathlib\n",
    "import csv\n",
    "\n",
    "# Preprocessing\n",
    "from sklearn.model_selection import train_test_split\n",
    "from sklearn.preprocessing import LabelEncoder, StandardScaler\n",
    "\n",
    "#Keras\n",
    "import keras\n",
    "\n",
    "import warnings\n",
    "warnings.filterwarnings('ignore')"
   ]
  },
  {
   "cell_type": "markdown",
   "metadata": {
    "colab_type": "text",
    "id": "DPe_ebYuDqr5"
   },
   "source": [
    "## Extracting music and features\n",
    "\n",
    "### Dataset\n",
    "\n",
    "We use [GTZAN genre collection](http://marsyasweb.appspot.com/download/data_sets/) dataset for classification. \n",
    "<br>\n",
    "<br>\n",
    "The dataset consists of 10 genres i.e\n",
    " * Blues\n",
    " * Classical\n",
    " * Country\n",
    " * Disco\n",
    " * Hiphop\n",
    " * Jazz\n",
    " * Metal\n",
    " * Pop\n",
    " * Reggae\n",
    " * Rock\n",
    " \n",
    "Each genre contains 100 songs. Total dataset: 1000 songs"
   ]
  },
  {
   "cell_type": "markdown",
   "metadata": {
    "colab_type": "text",
    "id": "neqMS0VoDpN5"
   },
   "source": []
  },
  {
   "cell_type": "markdown",
   "metadata": {
    "colab_type": "text",
    "id": "AfBSVfRCD3PE"
   },
   "source": [
    "## Extracting the Spectrogram for every Audio"
   ]
  },
  {
   "cell_type": "code",
   "execution_count": 103,
   "metadata": {
    "colab": {},
    "colab_type": "code",
    "id": "BHh3pTEVDdrT"
   },
   "outputs": [
    {
     "ename": "SystemError",
     "evalue": "<built-in method write of _io.BufferedWriter object at 0x7efd9801ee08> returned a result with an error set",
     "output_type": "error",
     "traceback": [
      "\u001b[0;31m---------------------------------------------------------------------------\u001b[0m",
      "\u001b[0;31mKeyboardInterrupt\u001b[0m                         Traceback (most recent call last)",
      "\u001b[0;31mKeyboardInterrupt\u001b[0m: ",
      "\nThe above exception was the direct cause of the following exception:\n",
      "\u001b[0;31mSystemError\u001b[0m                               Traceback (most recent call last)",
      "\u001b[0;31mSystemError\u001b[0m: <built-in method write of _io.BufferedWriter object at 0x7efd9801ee08> returned a result with an error set",
      "\nThe above exception was the direct cause of the following exception:\n",
      "\u001b[0;31mSystemError\u001b[0m                               Traceback (most recent call last)",
      "\u001b[0;31mSystemError\u001b[0m: <built-in method write of _io.BufferedWriter object at 0x7efd9801ee08> returned a result with an error set",
      "\nThe above exception was the direct cause of the following exception:\n",
      "\u001b[0;31mSystemError\u001b[0m                               Traceback (most recent call last)",
      "\u001b[0;31mSystemError\u001b[0m: <built-in method write of _io.FileIO object at 0x7efd5c251120> returned a result with an error set",
      "\nThe above exception was the direct cause of the following exception:\n",
      "\u001b[0;31mSystemError\u001b[0m                               Traceback (most recent call last)",
      "\u001b[0;31mSystemError\u001b[0m: <built-in method write of _io.BufferedWriter object at 0x7efd9801ee08> returned a result with an error set",
      "\nThe above exception was the direct cause of the following exception:\n",
      "\u001b[0;31mSystemError\u001b[0m                               Traceback (most recent call last)",
      "\u001b[0;31mSystemError\u001b[0m: <built-in method write of _io.BufferedWriter object at 0x7efd9801ee08> returned a result with an error set",
      "\nThe above exception was the direct cause of the following exception:\n",
      "\u001b[0;31mSystemError\u001b[0m                               Traceback (most recent call last)",
      "\u001b[0;31mSystemError\u001b[0m: <built-in method write of _io.FileIO object at 0x7efd5c251120> returned a result with an error set",
      "\nThe above exception was the direct cause of the following exception:\n",
      "\u001b[0;31mSystemError\u001b[0m                               Traceback (most recent call last)",
      "\u001b[0;31mSystemError\u001b[0m: <built-in method write of _io.BufferedWriter object at 0x7efd9801ee08> returned a result with an error set",
      "\nThe above exception was the direct cause of the following exception:\n",
      "\u001b[0;31mSystemError\u001b[0m                               Traceback (most recent call last)",
      "\u001b[0;31mSystemError\u001b[0m: <built-in method write of _io.BufferedWriter object at 0x7efd9801ee08> returned a result with an error set",
      "\nThe above exception was the direct cause of the following exception:\n",
      "\u001b[0;31mSystemError\u001b[0m                               Traceback (most recent call last)",
      "\u001b[0;31mSystemError\u001b[0m: <built-in method write of _io.FileIO object at 0x7efd5c251120> returned a result with an error set",
      "\nThe above exception was the direct cause of the following exception:\n",
      "\u001b[0;31mSystemError\u001b[0m                               Traceback (most recent call last)",
      "\u001b[0;31mSystemError\u001b[0m: <built-in method write of _io.BufferedWriter object at 0x7efd9801ee08> returned a result with an error set",
      "\nThe above exception was the direct cause of the following exception:\n",
      "\u001b[0;31mSystemError\u001b[0m                               Traceback (most recent call last)",
      "\u001b[0;31mSystemError\u001b[0m: <built-in method write of _io.BufferedWriter object at 0x7efd9801ee08> returned a result with an error set",
      "\nThe above exception was the direct cause of the following exception:\n",
      "\u001b[0;31mSystemError\u001b[0m                               Traceback (most recent call last)",
      "\u001b[0;31mSystemError\u001b[0m: <built-in method write of _io.FileIO object at 0x7efd5c251120> returned a result with an error set",
      "\nThe above exception was the direct cause of the following exception:\n",
      "\u001b[0;31mSystemError\u001b[0m                               Traceback (most recent call last)",
      "\u001b[0;31mSystemError\u001b[0m: <built-in method write of _io.BufferedWriter object at 0x7efd9801ee08> returned a result with an error set",
      "\nThe above exception was the direct cause of the following exception:\n",
      "\u001b[0;31mSystemError\u001b[0m                               Traceback (most recent call last)",
      "\u001b[0;31mSystemError\u001b[0m: <built-in method write of _io.BufferedWriter object at 0x7efd9801ee08> returned a result with an error set",
      "\nThe above exception was the direct cause of the following exception:\n",
      "\u001b[0;31mSystemError\u001b[0m                               Traceback (most recent call last)",
      "\u001b[0;31mSystemError\u001b[0m: <built-in method write of _io.FileIO object at 0x7efd5c251120> returned a result with an error set",
      "\nThe above exception was the direct cause of the following exception:\n",
      "\u001b[0;31mSystemError\u001b[0m                               Traceback (most recent call last)",
      "\u001b[0;31mSystemError\u001b[0m: <built-in method write of _io.BufferedWriter object at 0x7efd9801ee08> returned a result with an error set",
      "\nThe above exception was the direct cause of the following exception:\n",
      "\u001b[0;31mSystemError\u001b[0m                               Traceback (most recent call last)",
      "\u001b[0;31mSystemError\u001b[0m: <built-in method write of _io.BufferedWriter object at 0x7efd9801ee08> returned a result with an error set",
      "\nThe above exception was the direct cause of the following exception:\n",
      "\u001b[0;31mSystemError\u001b[0m                               Traceback (most recent call last)",
      "\u001b[0;31mSystemError\u001b[0m: <built-in method write of _io.FileIO object at 0x7efd5c251120> returned a result with an error set",
      "\nThe above exception was the direct cause of the following exception:\n",
      "\u001b[0;31mSystemError\u001b[0m                               Traceback (most recent call last)",
      "\u001b[0;31mSystemError\u001b[0m: <built-in method write of _io.BufferedWriter object at 0x7efd9801ee08> returned a result with an error set",
      "\nThe above exception was the direct cause of the following exception:\n",
      "\u001b[0;31mSystemError\u001b[0m                               Traceback (most recent call last)",
      "\u001b[0;31mSystemError\u001b[0m: <built-in method write of _io.BufferedWriter object at 0x7efd9801ee08> returned a result with an error set",
      "\nThe above exception was the direct cause of the following exception:\n",
      "\u001b[0;31mSystemError\u001b[0m                               Traceback (most recent call last)",
      "\u001b[0;31mSystemError\u001b[0m: <built-in method write of _io.FileIO object at 0x7efd5c251120> returned a result with an error set",
      "\nThe above exception was the direct cause of the following exception:\n",
      "\u001b[0;31mSystemError\u001b[0m                               Traceback (most recent call last)",
      "\u001b[0;31mSystemError\u001b[0m: <built-in method write of _io.BufferedWriter object at 0x7efd9801ee08> returned a result with an error set",
      "\nThe above exception was the direct cause of the following exception:\n",
      "\u001b[0;31mSystemError\u001b[0m                               Traceback (most recent call last)",
      "\u001b[0;31mSystemError\u001b[0m: <built-in method write of _io.BufferedWriter object at 0x7efd9801ee08> returned a result with an error set",
      "\nThe above exception was the direct cause of the following exception:\n",
      "\u001b[0;31mSystemError\u001b[0m                               Traceback (most recent call last)",
      "\u001b[0;31mSystemError\u001b[0m: <built-in method write of _io.FileIO object at 0x7efd5c251120> returned a result with an error set",
      "\nThe above exception was the direct cause of the following exception:\n",
      "\u001b[0;31mSystemError\u001b[0m                               Traceback (most recent call last)",
      "\u001b[0;31mSystemError\u001b[0m: <built-in method write of _io.BufferedWriter object at 0x7efd9801ee08> returned a result with an error set",
      "\nThe above exception was the direct cause of the following exception:\n",
      "\u001b[0;31mSystemError\u001b[0m                               Traceback (most recent call last)",
      "\u001b[0;31mSystemError\u001b[0m: <built-in method write of _io.BufferedWriter object at 0x7efd9801ee08> returned a result with an error set",
      "\nThe above exception was the direct cause of the following exception:\n",
      "\u001b[0;31mSystemError\u001b[0m                               Traceback (most recent call last)",
      "\u001b[0;31mSystemError\u001b[0m: <built-in method write of _io.FileIO object at 0x7efd5c251120> returned a result with an error set",
      "\nThe above exception was the direct cause of the following exception:\n",
      "\u001b[0;31mSystemError\u001b[0m                               Traceback (most recent call last)",
      "\u001b[0;31mSystemError\u001b[0m: <built-in method write of _io.BufferedWriter object at 0x7efd9801ee08> returned a result with an error set",
      "\nThe above exception was the direct cause of the following exception:\n",
      "\u001b[0;31mSystemError\u001b[0m                               Traceback (most recent call last)",
      "\u001b[0;31mSystemError\u001b[0m: <built-in method write of _io.BufferedWriter object at 0x7efd9801ee08> returned a result with an error set",
      "\nThe above exception was the direct cause of the following exception:\n",
      "\u001b[0;31mSystemError\u001b[0m                               Traceback (most recent call last)",
      "\u001b[0;31mSystemError\u001b[0m: <built-in method write of _io.BufferedWriter object at 0x7efd9801ee08> returned a result with an error set",
      "\nThe above exception was the direct cause of the following exception:\n",
      "\u001b[0;31mSystemError\u001b[0m                               Traceback (most recent call last)",
      "\u001b[0;31mSystemError\u001b[0m: <built-in method write of _io.BufferedWriter object at 0x7efd9801ee08> returned a result with an error set",
      "\nThe above exception was the direct cause of the following exception:\n",
      "\u001b[0;31mSystemError\u001b[0m                               Traceback (most recent call last)",
      "\u001b[0;31mSystemError\u001b[0m: <built-in method write of _io.BufferedWriter object at 0x7efd9801ee08> returned a result with an error set",
      "\nThe above exception was the direct cause of the following exception:\n",
      "\u001b[0;31mSystemError\u001b[0m                               Traceback (most recent call last)",
      "\u001b[0;32m<ipython-input-103-544730ede97d>\u001b[0m in \u001b[0;36m<module>\u001b[0;34m\u001b[0m\n\u001b[1;32m     10\u001b[0m         \u001b[0mplt\u001b[0m\u001b[0;34m.\u001b[0m\u001b[0mspecgram\u001b[0m\u001b[0;34m(\u001b[0m\u001b[0my\u001b[0m\u001b[0;34m,\u001b[0m \u001b[0mNFFT\u001b[0m\u001b[0;34m=\u001b[0m\u001b[0;36m2048\u001b[0m\u001b[0;34m,\u001b[0m \u001b[0mFs\u001b[0m\u001b[0;34m=\u001b[0m\u001b[0;36m2\u001b[0m\u001b[0;34m,\u001b[0m \u001b[0mFc\u001b[0m\u001b[0;34m=\u001b[0m\u001b[0;36m0\u001b[0m\u001b[0;34m,\u001b[0m \u001b[0mnoverlap\u001b[0m\u001b[0;34m=\u001b[0m\u001b[0;36m128\u001b[0m\u001b[0;34m,\u001b[0m \u001b[0mcmap\u001b[0m\u001b[0;34m=\u001b[0m\u001b[0mcmap\u001b[0m\u001b[0;34m,\u001b[0m \u001b[0msides\u001b[0m\u001b[0;34m=\u001b[0m\u001b[0;34m'default'\u001b[0m\u001b[0;34m,\u001b[0m \u001b[0mmode\u001b[0m\u001b[0;34m=\u001b[0m\u001b[0;34m'default'\u001b[0m\u001b[0;34m,\u001b[0m \u001b[0mscale\u001b[0m\u001b[0;34m=\u001b[0m\u001b[0;34m'dB'\u001b[0m\u001b[0;34m)\u001b[0m\u001b[0;34m;\u001b[0m\u001b[0;34m\u001b[0m\u001b[0;34m\u001b[0m\u001b[0m\n\u001b[1;32m     11\u001b[0m         \u001b[0mplt\u001b[0m\u001b[0;34m.\u001b[0m\u001b[0maxis\u001b[0m\u001b[0;34m(\u001b[0m\u001b[0;34m'off'\u001b[0m\u001b[0;34m)\u001b[0m\u001b[0;34m;\u001b[0m\u001b[0;34m\u001b[0m\u001b[0;34m\u001b[0m\u001b[0m\n\u001b[0;32m---> 12\u001b[0;31m         \u001b[0mplt\u001b[0m\u001b[0;34m.\u001b[0m\u001b[0msavefig\u001b[0m\u001b[0;34m(\u001b[0m\u001b[0;34mf'img_data/{g}/{filename[:-3].replace(\".\", \"\")}.png'\u001b[0m\u001b[0;34m)\u001b[0m\u001b[0;34m\u001b[0m\u001b[0;34m\u001b[0m\u001b[0m\n\u001b[0m\u001b[1;32m     13\u001b[0m         \u001b[0mplt\u001b[0m\u001b[0;34m.\u001b[0m\u001b[0mclf\u001b[0m\u001b[0;34m(\u001b[0m\u001b[0;34m)\u001b[0m\u001b[0;34m\u001b[0m\u001b[0;34m\u001b[0m\u001b[0m\n\u001b[1;32m     14\u001b[0m \u001b[0;34m\u001b[0m\u001b[0m\n",
      "\u001b[0;32m~/.local/share/virtualenvs/notebook-am4AQewu/lib/python3.7/site-packages/matplotlib/pyplot.py\u001b[0m in \u001b[0;36msavefig\u001b[0;34m(*args, **kwargs)\u001b[0m\n\u001b[1;32m    687\u001b[0m \u001b[0;32mdef\u001b[0m \u001b[0msavefig\u001b[0m\u001b[0;34m(\u001b[0m\u001b[0;34m*\u001b[0m\u001b[0margs\u001b[0m\u001b[0;34m,\u001b[0m \u001b[0;34m**\u001b[0m\u001b[0mkwargs\u001b[0m\u001b[0;34m)\u001b[0m\u001b[0;34m:\u001b[0m\u001b[0;34m\u001b[0m\u001b[0;34m\u001b[0m\u001b[0m\n\u001b[1;32m    688\u001b[0m     \u001b[0mfig\u001b[0m \u001b[0;34m=\u001b[0m \u001b[0mgcf\u001b[0m\u001b[0;34m(\u001b[0m\u001b[0;34m)\u001b[0m\u001b[0;34m\u001b[0m\u001b[0;34m\u001b[0m\u001b[0m\n\u001b[0;32m--> 689\u001b[0;31m     \u001b[0mres\u001b[0m \u001b[0;34m=\u001b[0m \u001b[0mfig\u001b[0m\u001b[0;34m.\u001b[0m\u001b[0msavefig\u001b[0m\u001b[0;34m(\u001b[0m\u001b[0;34m*\u001b[0m\u001b[0margs\u001b[0m\u001b[0;34m,\u001b[0m \u001b[0;34m**\u001b[0m\u001b[0mkwargs\u001b[0m\u001b[0;34m)\u001b[0m\u001b[0;34m\u001b[0m\u001b[0;34m\u001b[0m\u001b[0m\n\u001b[0m\u001b[1;32m    690\u001b[0m     \u001b[0mfig\u001b[0m\u001b[0;34m.\u001b[0m\u001b[0mcanvas\u001b[0m\u001b[0;34m.\u001b[0m\u001b[0mdraw_idle\u001b[0m\u001b[0;34m(\u001b[0m\u001b[0;34m)\u001b[0m   \u001b[0;31m# need this if 'transparent=True' to reset colors\u001b[0m\u001b[0;34m\u001b[0m\u001b[0;34m\u001b[0m\u001b[0m\n\u001b[1;32m    691\u001b[0m     \u001b[0;32mreturn\u001b[0m \u001b[0mres\u001b[0m\u001b[0;34m\u001b[0m\u001b[0;34m\u001b[0m\u001b[0m\n",
      "\u001b[0;32m~/.local/share/virtualenvs/notebook-am4AQewu/lib/python3.7/site-packages/matplotlib/figure.py\u001b[0m in \u001b[0;36msavefig\u001b[0;34m(self, fname, frameon, transparent, **kwargs)\u001b[0m\n\u001b[1;32m   2092\u001b[0m             \u001b[0mself\u001b[0m\u001b[0;34m.\u001b[0m\u001b[0mset_frameon\u001b[0m\u001b[0;34m(\u001b[0m\u001b[0mframeon\u001b[0m\u001b[0;34m)\u001b[0m\u001b[0;34m\u001b[0m\u001b[0;34m\u001b[0m\u001b[0m\n\u001b[1;32m   2093\u001b[0m \u001b[0;34m\u001b[0m\u001b[0m\n\u001b[0;32m-> 2094\u001b[0;31m         \u001b[0mself\u001b[0m\u001b[0;34m.\u001b[0m\u001b[0mcanvas\u001b[0m\u001b[0;34m.\u001b[0m\u001b[0mprint_figure\u001b[0m\u001b[0;34m(\u001b[0m\u001b[0mfname\u001b[0m\u001b[0;34m,\u001b[0m \u001b[0;34m**\u001b[0m\u001b[0mkwargs\u001b[0m\u001b[0;34m)\u001b[0m\u001b[0;34m\u001b[0m\u001b[0;34m\u001b[0m\u001b[0m\n\u001b[0m\u001b[1;32m   2095\u001b[0m \u001b[0;34m\u001b[0m\u001b[0m\n\u001b[1;32m   2096\u001b[0m         \u001b[0;32mif\u001b[0m \u001b[0mframeon\u001b[0m\u001b[0;34m:\u001b[0m\u001b[0;34m\u001b[0m\u001b[0;34m\u001b[0m\u001b[0m\n",
      "\u001b[0;32m~/.local/share/virtualenvs/notebook-am4AQewu/lib/python3.7/site-packages/matplotlib/backend_bases.py\u001b[0m in \u001b[0;36mprint_figure\u001b[0;34m(self, filename, dpi, facecolor, edgecolor, orientation, format, bbox_inches, **kwargs)\u001b[0m\n\u001b[1;32m   2073\u001b[0m                     \u001b[0morientation\u001b[0m\u001b[0;34m=\u001b[0m\u001b[0morientation\u001b[0m\u001b[0;34m,\u001b[0m\u001b[0;34m\u001b[0m\u001b[0;34m\u001b[0m\u001b[0m\n\u001b[1;32m   2074\u001b[0m                     \u001b[0mbbox_inches_restore\u001b[0m\u001b[0;34m=\u001b[0m\u001b[0m_bbox_inches_restore\u001b[0m\u001b[0;34m,\u001b[0m\u001b[0;34m\u001b[0m\u001b[0;34m\u001b[0m\u001b[0m\n\u001b[0;32m-> 2075\u001b[0;31m                     **kwargs)\n\u001b[0m\u001b[1;32m   2076\u001b[0m             \u001b[0;32mfinally\u001b[0m\u001b[0;34m:\u001b[0m\u001b[0;34m\u001b[0m\u001b[0;34m\u001b[0m\u001b[0m\n\u001b[1;32m   2077\u001b[0m                 \u001b[0;32mif\u001b[0m \u001b[0mbbox_inches\u001b[0m \u001b[0;32mand\u001b[0m \u001b[0mrestore_bbox\u001b[0m\u001b[0;34m:\u001b[0m\u001b[0;34m\u001b[0m\u001b[0;34m\u001b[0m\u001b[0m\n",
      "\u001b[0;32m~/.local/share/virtualenvs/notebook-am4AQewu/lib/python3.7/site-packages/matplotlib/backends/backend_agg.py\u001b[0m in \u001b[0;36mprint_png\u001b[0;34m(self, filename_or_obj, *args, **kwargs)\u001b[0m\n\u001b[1;32m    521\u001b[0m                 \u001b[0mcbook\u001b[0m\u001b[0;34m.\u001b[0m\u001b[0mopen_file_cm\u001b[0m\u001b[0;34m(\u001b[0m\u001b[0mfilename_or_obj\u001b[0m\u001b[0;34m,\u001b[0m \u001b[0;34m\"wb\"\u001b[0m\u001b[0;34m)\u001b[0m \u001b[0;32mas\u001b[0m \u001b[0mfh\u001b[0m\u001b[0;34m:\u001b[0m\u001b[0;34m\u001b[0m\u001b[0;34m\u001b[0m\u001b[0m\n\u001b[1;32m    522\u001b[0m             _png.write_png(renderer._renderer, fh,\n\u001b[0;32m--> 523\u001b[0;31m                             self.figure.dpi, metadata=metadata)\n\u001b[0m\u001b[1;32m    524\u001b[0m \u001b[0;34m\u001b[0m\u001b[0m\n\u001b[1;32m    525\u001b[0m     \u001b[0;32mdef\u001b[0m \u001b[0mprint_to_buffer\u001b[0m\u001b[0;34m(\u001b[0m\u001b[0mself\u001b[0m\u001b[0;34m)\u001b[0m\u001b[0;34m:\u001b[0m\u001b[0;34m\u001b[0m\u001b[0;34m\u001b[0m\u001b[0m\n",
      "\u001b[0;31mSystemError\u001b[0m: <built-in method write of _io.BufferedWriter object at 0x7efd9801ee08> returned a result with an error set"
     ]
    },
    {
     "data": {
      "image/png": "[encoded data removed]",
      "text/plain": [
       "<Figure size 720x720 with 1 Axes>"
      ]
     },
     "metadata": {
      "needs_background": "light"
     },
     "output_type": "display_data"
    }
   ],
   "source": [
    "cmap = plt.get_cmap('inferno')\n",
    "\n",
    "plt.figure(figsize=(10,10))\n",
    "genres = 'blues classical country disco hiphop jazz metal pop reggae rock'.split()\n",
    "for g in genres:\n",
    "    pathlib.Path(f'img_data/{g}').mkdir(parents=True, exist_ok=True)     \n",
    "    for filename in os.listdir(f'../../audio/testfiles/GTZAN/genres/{g}'):\n",
    "        songname = f'../../audio/testfiles/GTZAN/genres/{g}/{filename}'\n",
    "        y, sr = librosa.load(songname, mono=True, duration=5)\n",
    "        plt.specgram(y, NFFT=2048, Fs=2, Fc=0, noverlap=128, cmap=cmap, sides='default', mode='default', scale='dB');\n",
    "        plt.axis('off');\n",
    "        plt.savefig(f'img_data/{g}/{filename[:-3].replace(\".\", \"\")}.png')\n",
    "        plt.clf()\n",
    " "
   ]
  },
  {
   "cell_type": "markdown",
   "metadata": {
    "colab_type": "text",
    "id": "SszVgjYnFNX9"
   },
   "source": [
    "All the audio files get converted into their respective spectrograms .WE can noe easily extract features from them."
   ]
  },
  {
   "cell_type": "markdown",
   "metadata": {
    "colab_type": "text",
    "id": "3Nw9HpSdFRsW"
   },
   "source": []
  },
  {
   "cell_type": "markdown",
   "metadata": {
    "colab_type": "text",
    "id": "piwUwgP5Eef9"
   },
   "source": [
    "## Extracting features from Spectrogram\n",
    "\n",
    "\n",
    "We will extract\n",
    "\n",
    "* Mel-frequency cepstral coefficients (MFCC)(20 in number)\n",
    "* Spectral Centroid,\n",
    "* Zero Crossing Rate\n",
    "* Chroma Frequencies\n",
    "* Spectral Roll-off."
   ]
  },
  {
   "cell_type": "code",
   "execution_count": null,
   "metadata": {
    "colab": {},
    "colab_type": "code",
    "id": "__g8tX8pDeIL"
   },
   "outputs": [],
   "source": [
    "header = 'filename chroma_stft spectral_centroid spectral_bandwidth rolloff zero_crossing_rate'\n",
    "for i in range(1, 21):\n",
    "    header += f' mfcc{i}'\n",
    "header += ' label'\n",
    "header = header.split()"
   ]
  },
  {
   "cell_type": "markdown",
   "metadata": {
    "colab_type": "text",
    "id": "TBlT448pEqR9"
   },
   "source": [
    "## Writing data to csv file\n",
    "\n",
    "We write the data to a csv file "
   ]
  },
  {
   "cell_type": "code",
   "execution_count": null,
   "metadata": {
    "colab": {},
    "colab_type": "code",
    "id": "ZsSQmB0PE3Iu"
   },
   "outputs": [],
   "source": [
    "file = open('data.csv', 'w', newline='')\n",
    "with file:\n",
    "    writer = csv.writer(file)\n",
    "    writer.writerow(header)\n",
    "genres = 'blues classical country disco hiphop jazz metal pop reggae rock'.split()\n",
    "filepath = '../../audio/testfiles/GTZAN/genres/'\n",
    "for g in genres:\n",
    "    for filename in os.listdir(f'{filepath}/{g}'):\n",
    "        songname = f'{filepath}/{g}/{filename}'\n",
    "        y, sr = librosa.load(songname, mono=True, duration=30)\n",
    "        chroma_stft = librosa.feature.chroma_stft(y=y, sr=sr)\n",
    "        #rmse = librosa.feature.rmse(y=y, S=None, frame_length=2048, hop_length=512, center=True, pad_mode='reflect')\n",
    "        spec_cent = librosa.feature.spectral_centroid(y=y, sr=sr)\n",
    "        spec_bw = librosa.feature.spectral_bandwidth(y=y, sr=sr)\n",
    "        rolloff = librosa.feature.spectral_rolloff(y=y, sr=sr)\n",
    "        zcr = librosa.feature.zero_crossing_rate(y)\n",
    "        mfcc = librosa.feature.mfcc(y=y, sr=sr)\n",
    "        #to_append = f'{filename} {np.mean(chroma_stft)} {np.mean(rmse)} {np.mean(spec_cent)} {np.mean(spec_bw)} {np.mean(rolloff)} {np.mean(zcr)}'    \n",
    "        to_append = f'{filename} {np.mean(chroma_stft)} {np.mean(spec_cent)} {np.mean(spec_bw)} {np.mean(rolloff)} {np.mean(zcr)}'    \n",
    "        for e in mfcc:\n",
    "            to_append += f' {np.mean(e)}'\n",
    "        to_append += f' {g}'\n",
    "        file = open('data.csv', 'a', newline='')\n",
    "        with file:\n",
    "            writer = csv.writer(file)\n",
    "            writer.writerow(to_append.split())"
   ]
  },
  {
   "cell_type": "markdown",
   "metadata": {
    "colab_type": "text",
    "id": "0yfdo1cj6V7d"
   },
   "source": []
  },
  {
   "cell_type": "markdown",
   "metadata": {
    "colab_type": "text",
    "id": "fgeCZSKQEp1A"
   },
   "source": [
    "# Analysing the Data in Pandas"
   ]
  },
  {
   "cell_type": "code",
   "execution_count": null,
   "metadata": {
    "colab": {
     "base_uri": "https://localhost:8080/",
     "height": 253
    },
    "colab_type": "code",
    "id": "Kr5_EdpD9dyh",
    "outputId": "81fd4a29-93fa-44f8-bf90-2f99981f761a"
   },
   "outputs": [],
   "source": [
    "data = pd.read_csv('data.csv')\n",
    "data.head()"
   ]
  },
  {
   "cell_type": "code",
   "execution_count": null,
   "metadata": {
    "colab": {
     "base_uri": "https://localhost:8080/",
     "height": 34
    },
    "colab_type": "code",
    "id": "iHrDHCaR9gKR",
    "outputId": "7d32943a-1ad5-4a59-c13a-beebeb36e4c2"
   },
   "outputs": [],
   "source": [
    "data.shape"
   ]
  },
  {
   "cell_type": "code",
   "execution_count": null,
   "metadata": {
    "colab": {},
    "colab_type": "code",
    "id": "veD5BgX49hZa"
   },
   "outputs": [],
   "source": [
    "# Dropping unneccesary columns\n",
    "data = data.drop(['filename'],axis=1)"
   ]
  },
  {
   "cell_type": "markdown",
   "metadata": {
    "colab_type": "text",
    "id": "Nyr0aAAsGXjZ"
   },
   "source": [
    "## Encoding the Labels"
   ]
  },
  {
   "cell_type": "code",
   "execution_count": null,
   "metadata": {
    "colab": {},
    "colab_type": "code",
    "id": "frI5HH4q-1HS"
   },
   "outputs": [],
   "source": [
    "genre_list = data.iloc[:, -1]\n",
    "encoder = LabelEncoder()\n",
    "y = encoder.fit_transform(genre_list)"
   ]
  },
  {
   "cell_type": "markdown",
   "metadata": {
    "colab_type": "text",
    "id": "Slm8W0-iGVhI"
   },
   "source": []
  },
  {
   "cell_type": "markdown",
   "metadata": {
    "colab_type": "text",
    "id": "_2n8a02zGfvP"
   },
   "source": [
    "## Scaling the Feature columns"
   ]
  },
  {
   "cell_type": "code",
   "execution_count": null,
   "metadata": {
    "colab": {},
    "colab_type": "code",
    "id": "uqcqn-nyAofk"
   },
   "outputs": [],
   "source": [
    "scaler = StandardScaler()\n",
    "X = scaler.fit_transform(np.array(data.iloc[:, :-1], dtype = float))"
   ]
  },
  {
   "cell_type": "markdown",
   "metadata": {
    "colab_type": "text",
    "id": "e3VZvbwpGo9R"
   },
   "source": [
    "## Dividing data into training and Testing set"
   ]
  },
  {
   "cell_type": "code",
   "execution_count": null,
   "metadata": {
    "colab": {},
    "colab_type": "code",
    "id": "F1GW3VvQA7Rj"
   },
   "outputs": [],
   "source": [
    "X_train, X_test, y_train, y_test = train_test_split(X, y, test_size=0.2)"
   ]
  },
  {
   "cell_type": "code",
   "execution_count": null,
   "metadata": {
    "colab": {
     "base_uri": "https://localhost:8080/",
     "height": 34
    },
    "colab_type": "code",
    "id": "upuczQ-KBHJ5",
    "outputId": "1431a28b-e8b6-4db2-e505-7e149e37c0d7"
   },
   "outputs": [],
   "source": [
    "len(y_train)"
   ]
  },
  {
   "cell_type": "code",
   "execution_count": null,
   "metadata": {
    "colab": {
     "base_uri": "https://localhost:8080/",
     "height": 34
    },
    "colab_type": "code",
    "id": "LtoE_FqqBzM8",
    "outputId": "76555a2b-2030-48e1-b52d-d71b4ebae38e"
   },
   "outputs": [],
   "source": [
    "len(y_test)"
   ]
  },
  {
   "cell_type": "code",
   "execution_count": null,
   "metadata": {
    "colab": {
     "base_uri": "https://localhost:8080/",
     "height": 119
    },
    "colab_type": "code",
    "id": "ir9XaWgQB0lq",
    "outputId": "2ec90814-19d8-4f27-934a-1ce54406d4ea"
   },
   "outputs": [],
   "source": [
    "X_train[10]"
   ]
  },
  {
   "cell_type": "markdown",
   "metadata": {
    "colab_type": "text",
    "id": "Vp2yc5FWG04e"
   },
   "source": [
    "# Classification with Keras\n",
    "\n",
    "## Building our Network"
   ]
  },
  {
   "cell_type": "code",
   "execution_count": 104,
   "metadata": {
    "colab": {},
    "colab_type": "code",
    "id": "Qj3sc2uFEUMt"
   },
   "outputs": [],
   "source": [
    "from keras import models\n",
    "from keras import layers\n",
    "\n",
    "model = models.Sequential()\n",
    "model.add(layers.Dense(256, activation='relu', input_shape=(X_train.shape[1],)))\n",
    "\n",
    "model.add(layers.Dense(128, activation='relu'))\n",
    "\n",
    "model.add(layers.Dense(64, activation='relu'))\n",
    "\n",
    "model.add(layers.Dense(10, activation='softmax'))"
   ]
  },
  {
   "cell_type": "code",
   "execution_count": 105,
   "metadata": {
    "colab": {},
    "colab_type": "code",
    "id": "7yrsmpI6EjJ2"
   },
   "outputs": [],
   "source": [
    "model.compile(optimizer='adam',\n",
    "              loss='sparse_categorical_crossentropy',\n",
    "              metrics=['accuracy'])"
   ]
  },
  {
   "cell_type": "code",
   "execution_count": 106,
   "metadata": {
    "colab": {
     "base_uri": "https://localhost:8080/",
     "height": 697
    },
    "colab_type": "code",
    "id": "bP0hVm4aElS7",
    "outputId": "aacf234d-d0a9-4de4-91be-5fd45a33b279"
   },
   "outputs": [
    {
     "name": "stdout",
     "output_type": "stream",
     "text": [
      "Epoch 1/200\n",
      "800/800 [==============================] - 1s 976us/step - loss: 2.2211 - acc: 0.2038\n",
      "Epoch 2/200\n",
      "800/800 [==============================] - 0s 42us/step - loss: 1.9329 - acc: 0.3788\n",
      "Epoch 3/200\n",
      "800/800 [==============================] - 0s 48us/step - loss: 1.7124 - acc: 0.4250\n",
      "Epoch 4/200\n",
      "800/800 [==============================] - 0s 49us/step - loss: 1.5134 - acc: 0.4612\n",
      "Epoch 5/200\n",
      "800/800 [==============================] - 0s 39us/step - loss: 1.3565 - acc: 0.5288\n",
      "Epoch 6/200\n",
      "800/800 [==============================] - 0s 39us/step - loss: 1.2445 - acc: 0.5650\n",
      "Epoch 7/200\n",
      "800/800 [==============================] - 0s 51us/step - loss: 1.1424 - acc: 0.6050\n",
      "Epoch 8/200\n",
      "800/800 [==============================] - 0s 36us/step - loss: 1.0616 - acc: 0.6350\n",
      "Epoch 9/200\n",
      "800/800 [==============================] - 0s 48us/step - loss: 1.0050 - acc: 0.6687\n",
      "Epoch 10/200\n",
      "800/800 [==============================] - 0s 55us/step - loss: 0.9461 - acc: 0.6788\n",
      "Epoch 11/200\n",
      "800/800 [==============================] - 0s 42us/step - loss: 0.8940 - acc: 0.7000\n",
      "Epoch 12/200\n",
      "800/800 [==============================] - 0s 51us/step - loss: 0.8503 - acc: 0.7125\n",
      "Epoch 13/200\n",
      "800/800 [==============================] - 0s 43us/step - loss: 0.8050 - acc: 0.7238\n",
      "Epoch 14/200\n",
      "800/800 [==============================] - 0s 40us/step - loss: 0.7683 - acc: 0.7475\n",
      "Epoch 15/200\n",
      "800/800 [==============================] - 0s 49us/step - loss: 0.7383 - acc: 0.7538\n",
      "Epoch 16/200\n",
      "800/800 [==============================] - 0s 42us/step - loss: 0.7027 - acc: 0.7650\n",
      "Epoch 17/200\n",
      "800/800 [==============================] - 0s 61us/step - loss: 0.6745 - acc: 0.7650\n",
      "Epoch 18/200\n",
      "800/800 [==============================] - 0s 39us/step - loss: 0.6403 - acc: 0.7913\n",
      "Epoch 19/200\n",
      "800/800 [==============================] - 0s 53us/step - loss: 0.6109 - acc: 0.8050\n",
      "Epoch 20/200\n",
      "800/800 [==============================] - 0s 66us/step - loss: 0.5919 - acc: 0.8100\n",
      "Epoch 21/200\n",
      "800/800 [==============================] - 0s 69us/step - loss: 0.5688 - acc: 0.8250\n",
      "Epoch 22/200\n",
      "800/800 [==============================] - 0s 48us/step - loss: 0.5469 - acc: 0.8325\n",
      "Epoch 23/200\n",
      "800/800 [==============================] - 0s 51us/step - loss: 0.5214 - acc: 0.8350\n",
      "Epoch 24/200\n",
      "800/800 [==============================] - 0s 65us/step - loss: 0.5006 - acc: 0.8450\n",
      "Epoch 25/200\n",
      "800/800 [==============================] - 0s 56us/step - loss: 0.4844 - acc: 0.8513\n",
      "Epoch 26/200\n",
      "800/800 [==============================] - 0s 61us/step - loss: 0.4632 - acc: 0.8588\n",
      "Epoch 27/200\n",
      "800/800 [==============================] - 0s 54us/step - loss: 0.4420 - acc: 0.8712\n",
      "Epoch 28/200\n",
      "800/800 [==============================] - 0s 59us/step - loss: 0.4343 - acc: 0.8687\n",
      "Epoch 29/200\n",
      "800/800 [==============================] - 0s 39us/step - loss: 0.4262 - acc: 0.8663\n",
      "Epoch 30/200\n",
      "800/800 [==============================] - 0s 48us/step - loss: 0.4045 - acc: 0.8962\n",
      "Epoch 31/200\n",
      "800/800 [==============================] - 0s 51us/step - loss: 0.3745 - acc: 0.8962\n",
      "Epoch 32/200\n",
      "800/800 [==============================] - 0s 54us/step - loss: 0.3503 - acc: 0.8962\n",
      "Epoch 33/200\n",
      "800/800 [==============================] - 0s 57us/step - loss: 0.3350 - acc: 0.9125\n",
      "Epoch 34/200\n",
      "800/800 [==============================] - 0s 55us/step - loss: 0.3275 - acc: 0.9100\n",
      "Epoch 35/200\n",
      "800/800 [==============================] - 0s 40us/step - loss: 0.3159 - acc: 0.9237\n",
      "Epoch 36/200\n",
      "800/800 [==============================] - 0s 57us/step - loss: 0.3061 - acc: 0.9113\n",
      "Epoch 37/200\n",
      "800/800 [==============================] - 0s 49us/step - loss: 0.2889 - acc: 0.9337\n",
      "Epoch 38/200\n",
      "800/800 [==============================] - 0s 55us/step - loss: 0.2808 - acc: 0.9375\n",
      "Epoch 39/200\n",
      "800/800 [==============================] - 0s 44us/step - loss: 0.2633 - acc: 0.9400\n",
      "Epoch 40/200\n",
      "800/800 [==============================] - 0s 52us/step - loss: 0.2536 - acc: 0.9487\n",
      "Epoch 41/200\n",
      "800/800 [==============================] - 0s 65us/step - loss: 0.2353 - acc: 0.9500\n",
      "Epoch 42/200\n",
      "800/800 [==============================] - 0s 41us/step - loss: 0.2224 - acc: 0.9513\n",
      "Epoch 43/200\n",
      "800/800 [==============================] - 0s 48us/step - loss: 0.2101 - acc: 0.9600\n",
      "Epoch 44/200\n",
      "800/800 [==============================] - 0s 56us/step - loss: 0.2143 - acc: 0.9537\n",
      "Epoch 45/200\n",
      "800/800 [==============================] - 0s 48us/step - loss: 0.1922 - acc: 0.9650\n",
      "Epoch 46/200\n",
      "800/800 [==============================] - 0s 60us/step - loss: 0.1860 - acc: 0.9662\n",
      "Epoch 47/200\n",
      "800/800 [==============================] - 0s 44us/step - loss: 0.1790 - acc: 0.9637\n",
      "Epoch 48/200\n",
      "800/800 [==============================] - 0s 57us/step - loss: 0.1713 - acc: 0.9763\n",
      "Epoch 49/200\n",
      "800/800 [==============================] - 0s 46us/step - loss: 0.1586 - acc: 0.9738\n",
      "Epoch 50/200\n",
      "800/800 [==============================] - 0s 46us/step - loss: 0.1550 - acc: 0.9725\n",
      "Epoch 51/200\n",
      "800/800 [==============================] - 0s 45us/step - loss: 0.1373 - acc: 0.9862\n",
      "Epoch 52/200\n",
      "800/800 [==============================] - 0s 47us/step - loss: 0.1359 - acc: 0.9825\n",
      "Epoch 53/200\n",
      "800/800 [==============================] - 0s 45us/step - loss: 0.1316 - acc: 0.9812\n",
      "Epoch 54/200\n",
      "800/800 [==============================] - 0s 48us/step - loss: 0.1154 - acc: 0.9862\n",
      "Epoch 55/200\n",
      "800/800 [==============================] - 0s 37us/step - loss: 0.1126 - acc: 0.9862\n",
      "Epoch 56/200\n",
      "800/800 [==============================] - 0s 41us/step - loss: 0.1110 - acc: 0.9812\n",
      "Epoch 57/200\n",
      "800/800 [==============================] - 0s 39us/step - loss: 0.1047 - acc: 0.9913\n",
      "Epoch 58/200\n",
      "800/800 [==============================] - 0s 38us/step - loss: 0.1013 - acc: 0.9900\n",
      "Epoch 59/200\n",
      "800/800 [==============================] - 0s 38us/step - loss: 0.0921 - acc: 0.9913\n",
      "Epoch 60/200\n",
      "800/800 [==============================] - 0s 40us/step - loss: 0.0890 - acc: 0.9900\n",
      "Epoch 61/200\n",
      "800/800 [==============================] - 0s 42us/step - loss: 0.0840 - acc: 0.9937\n",
      "Epoch 62/200\n",
      "800/800 [==============================] - 0s 41us/step - loss: 0.0777 - acc: 0.9950\n",
      "Epoch 63/200\n",
      "800/800 [==============================] - 0s 46us/step - loss: 0.0747 - acc: 0.9937\n",
      "Epoch 64/200\n",
      "800/800 [==============================] - 0s 38us/step - loss: 0.0735 - acc: 0.9962\n",
      "Epoch 65/200\n",
      "800/800 [==============================] - ETA: 0s - loss: 0.0666 - acc: 0.992 - 0s 36us/step - loss: 0.0687 - acc: 0.9975\n",
      "Epoch 66/200\n",
      "800/800 [==============================] - 0s 45us/step - loss: 0.0667 - acc: 0.9975\n",
      "Epoch 67/200\n",
      "800/800 [==============================] - 0s 42us/step - loss: 0.0656 - acc: 0.9975\n",
      "Epoch 68/200\n",
      "800/800 [==============================] - 0s 37us/step - loss: 0.0629 - acc: 0.9962\n",
      "Epoch 69/200\n",
      "800/800 [==============================] - 0s 38us/step - loss: 0.0589 - acc: 0.9950\n",
      "Epoch 70/200\n",
      "800/800 [==============================] - 0s 39us/step - loss: 0.0548 - acc: 0.9962\n",
      "Epoch 71/200\n",
      "800/800 [==============================] - 0s 39us/step - loss: 0.0534 - acc: 0.9975\n",
      "Epoch 72/200\n",
      "800/800 [==============================] - 0s 41us/step - loss: 0.0482 - acc: 0.9975\n",
      "Epoch 73/200\n",
      "800/800 [==============================] - 0s 40us/step - loss: 0.0439 - acc: 0.9988\n",
      "Epoch 74/200\n",
      "800/800 [==============================] - 0s 39us/step - loss: 0.0432 - acc: 0.9988\n",
      "Epoch 75/200\n",
      "800/800 [==============================] - 0s 42us/step - loss: 0.0416 - acc: 0.9988\n",
      "Epoch 76/200\n",
      "800/800 [==============================] - 0s 33us/step - loss: 0.0422 - acc: 0.9975\n",
      "Epoch 77/200\n",
      "800/800 [==============================] - 0s 39us/step - loss: 0.0415 - acc: 0.9975\n",
      "Epoch 78/200\n",
      "800/800 [==============================] - 0s 40us/step - loss: 0.0410 - acc: 0.9975\n",
      "Epoch 79/200\n",
      "800/800 [==============================] - 0s 39us/step - loss: 0.0378 - acc: 0.9988\n",
      "Epoch 80/200\n",
      "800/800 [==============================] - 0s 41us/step - loss: 0.0386 - acc: 0.9975\n",
      "Epoch 81/200\n",
      "800/800 [==============================] - 0s 60us/step - loss: 0.0375 - acc: 0.9988\n",
      "Epoch 82/200\n",
      "800/800 [==============================] - 0s 58us/step - loss: 0.0310 - acc: 0.9988\n",
      "Epoch 83/200\n",
      "800/800 [==============================] - 0s 57us/step - loss: 0.0315 - acc: 0.9975\n",
      "Epoch 84/200\n",
      "800/800 [==============================] - 0s 48us/step - loss: 0.0302 - acc: 0.9975\n",
      "Epoch 85/200\n",
      "800/800 [==============================] - 0s 46us/step - loss: 0.0274 - acc: 0.9988\n",
      "Epoch 86/200\n",
      "800/800 [==============================] - 0s 49us/step - loss: 0.0266 - acc: 0.9988\n",
      "Epoch 87/200\n",
      "800/800 [==============================] - 0s 35us/step - loss: 0.0251 - acc: 0.9975\n",
      "Epoch 88/200\n",
      "800/800 [==============================] - 0s 43us/step - loss: 0.0251 - acc: 0.9975\n",
      "Epoch 89/200\n",
      "800/800 [==============================] - 0s 45us/step - loss: 0.0253 - acc: 0.9988\n",
      "Epoch 90/200\n",
      "800/800 [==============================] - 0s 38us/step - loss: 0.0344 - acc: 0.9975\n",
      "Epoch 91/200\n",
      "800/800 [==============================] - 0s 42us/step - loss: 0.0281 - acc: 0.9988\n",
      "Epoch 92/200\n",
      "800/800 [==============================] - 0s 38us/step - loss: 0.0267 - acc: 0.9975\n",
      "Epoch 93/200\n",
      "800/800 [==============================] - 0s 39us/step - loss: 0.0236 - acc: 0.9975\n",
      "Epoch 94/200\n",
      "800/800 [==============================] - 0s 35us/step - loss: 0.0203 - acc: 0.9988\n",
      "Epoch 95/200\n",
      "800/800 [==============================] - 0s 58us/step - loss: 0.0196 - acc: 0.9988\n",
      "Epoch 96/200\n",
      "800/800 [==============================] - 0s 36us/step - loss: 0.0189 - acc: 0.9988\n",
      "Epoch 97/200\n",
      "800/800 [==============================] - 0s 43us/step - loss: 0.0283 - acc: 0.9975\n",
      "Epoch 98/200\n",
      "800/800 [==============================] - 0s 52us/step - loss: 0.0231 - acc: 0.9962\n",
      "Epoch 99/200\n",
      "800/800 [==============================] - 0s 42us/step - loss: 0.0191 - acc: 0.9988\n",
      "Epoch 100/200\n",
      "800/800 [==============================] - 0s 36us/step - loss: 0.0195 - acc: 0.9988\n",
      "Epoch 101/200\n",
      "800/800 [==============================] - 0s 44us/step - loss: 0.0446 - acc: 0.9913\n",
      "Epoch 102/200\n",
      "800/800 [==============================] - 0s 43us/step - loss: 0.0337 - acc: 0.9925\n",
      "Epoch 103/200\n",
      "800/800 [==============================] - 0s 45us/step - loss: 0.0271 - acc: 0.9950\n",
      "Epoch 104/200\n",
      "800/800 [==============================] - 0s 38us/step - loss: 0.0184 - acc: 0.9988\n",
      "Epoch 105/200\n",
      "800/800 [==============================] - 0s 39us/step - loss: 0.0172 - acc: 0.9988\n",
      "Epoch 106/200\n",
      "800/800 [==============================] - 0s 37us/step - loss: 0.0164 - acc: 0.9988\n",
      "Epoch 107/200\n",
      "800/800 [==============================] - 0s 33us/step - loss: 0.0143 - acc: 0.9988\n",
      "Epoch 108/200\n",
      "800/800 [==============================] - 0s 41us/step - loss: 0.0139 - acc: 0.9988\n",
      "Epoch 109/200\n",
      "800/800 [==============================] - 0s 42us/step - loss: 0.0139 - acc: 0.9975\n",
      "Epoch 110/200\n",
      "800/800 [==============================] - 0s 43us/step - loss: 0.0132 - acc: 0.9988\n",
      "Epoch 111/200\n",
      "800/800 [==============================] - 0s 39us/step - loss: 0.0124 - acc: 0.9988\n",
      "Epoch 112/200\n",
      "800/800 [==============================] - 0s 39us/step - loss: 0.0124 - acc: 0.9988\n",
      "Epoch 113/200\n",
      "800/800 [==============================] - 0s 44us/step - loss: 0.0119 - acc: 0.9975\n",
      "Epoch 114/200\n",
      "800/800 [==============================] - 0s 34us/step - loss: 0.0118 - acc: 0.9988\n",
      "Epoch 115/200\n",
      "800/800 [==============================] - 0s 41us/step - loss: 0.0123 - acc: 0.9975\n",
      "Epoch 116/200\n",
      "800/800 [==============================] - 0s 40us/step - loss: 0.0118 - acc: 0.9975\n",
      "Epoch 117/200\n",
      "800/800 [==============================] - 0s 43us/step - loss: 0.0110 - acc: 0.9988\n",
      "Epoch 118/200\n",
      "800/800 [==============================] - 0s 47us/step - loss: 0.0202 - acc: 0.9975\n",
      "Epoch 119/200\n",
      "800/800 [==============================] - 0s 43us/step - loss: 0.0154 - acc: 0.9988\n",
      "Epoch 120/200\n",
      "800/800 [==============================] - 0s 39us/step - loss: 0.0140 - acc: 0.9988\n",
      "Epoch 121/200\n",
      "800/800 [==============================] - 0s 36us/step - loss: 0.0124 - acc: 0.9988\n",
      "Epoch 122/200\n",
      "800/800 [==============================] - 0s 42us/step - loss: 0.0111 - acc: 0.9975\n",
      "Epoch 123/200\n",
      "800/800 [==============================] - 0s 44us/step - loss: 0.0113 - acc: 0.9988\n",
      "Epoch 124/200\n",
      "800/800 [==============================] - 0s 35us/step - loss: 0.0104 - acc: 0.9988\n",
      "Epoch 125/200\n",
      "800/800 [==============================] - 0s 43us/step - loss: 0.0098 - acc: 0.9975\n",
      "Epoch 126/200\n",
      "800/800 [==============================] - 0s 41us/step - loss: 0.0098 - acc: 0.9988\n",
      "Epoch 127/200\n",
      "800/800 [==============================] - 0s 48us/step - loss: 0.0090 - acc: 0.9988\n",
      "Epoch 128/200\n",
      "800/800 [==============================] - 0s 35us/step - loss: 0.0097 - acc: 0.9975\n",
      "Epoch 129/200\n",
      "800/800 [==============================] - 0s 40us/step - loss: 0.0093 - acc: 0.9988\n",
      "Epoch 130/200\n",
      "800/800 [==============================] - 0s 35us/step - loss: 0.0087 - acc: 0.9975\n",
      "Epoch 131/200\n",
      "800/800 [==============================] - 0s 41us/step - loss: 0.0088 - acc: 0.9975\n",
      "Epoch 132/200\n",
      "800/800 [==============================] - 0s 48us/step - loss: 0.0080 - acc: 0.9988\n",
      "Epoch 133/200\n",
      "800/800 [==============================] - 0s 37us/step - loss: 0.0082 - acc: 0.9988\n",
      "Epoch 134/200\n",
      "800/800 [==============================] - 0s 53us/step - loss: 0.0081 - acc: 0.9975\n",
      "Epoch 135/200\n",
      "800/800 [==============================] - 0s 50us/step - loss: 0.0079 - acc: 0.9988\n",
      "Epoch 136/200\n",
      "800/800 [==============================] - 0s 48us/step - loss: 0.0085 - acc: 0.9975\n",
      "Epoch 137/200\n",
      "800/800 [==============================] - 0s 44us/step - loss: 0.0079 - acc: 0.9988\n",
      "Epoch 138/200\n",
      "800/800 [==============================] - 0s 43us/step - loss: 0.0083 - acc: 0.9988\n",
      "Epoch 139/200\n",
      "800/800 [==============================] - 0s 48us/step - loss: 0.0075 - acc: 0.9988\n",
      "Epoch 140/200\n",
      "800/800 [==============================] - ETA: 0s - loss: 0.0179 - acc: 0.992 - 0s 48us/step - loss: 0.0087 - acc: 0.9975\n",
      "Epoch 141/200\n",
      "800/800 [==============================] - 0s 39us/step - loss: 0.0077 - acc: 0.9988\n",
      "Epoch 142/200\n",
      "800/800 [==============================] - 0s 38us/step - loss: 0.0076 - acc: 0.9988\n",
      "Epoch 143/200\n",
      "800/800 [==============================] - 0s 37us/step - loss: 0.0172 - acc: 0.9988\n",
      "Epoch 144/200\n",
      "800/800 [==============================] - 0s 38us/step - loss: 0.0123 - acc: 0.9988\n",
      "Epoch 145/200\n",
      "800/800 [==============================] - 0s 39us/step - loss: 0.0105 - acc: 0.9988\n",
      "Epoch 146/200\n",
      "800/800 [==============================] - 0s 44us/step - loss: 0.0103 - acc: 0.9988\n",
      "Epoch 147/200\n",
      "800/800 [==============================] - 0s 35us/step - loss: 0.0067 - acc: 0.9988\n",
      "Epoch 148/200\n",
      "800/800 [==============================] - 0s 38us/step - loss: 0.0077 - acc: 0.9988\n",
      "Epoch 149/200\n",
      "800/800 [==============================] - 0s 40us/step - loss: 0.0065 - acc: 0.9988\n",
      "Epoch 150/200\n",
      "800/800 [==============================] - 0s 51us/step - loss: 0.0070 - acc: 0.9988\n",
      "Epoch 151/200\n",
      "800/800 [==============================] - 0s 37us/step - loss: 0.0062 - acc: 0.9988\n",
      "Epoch 152/200\n",
      "800/800 [==============================] - 0s 46us/step - loss: 0.0081 - acc: 0.9988\n",
      "Epoch 153/200\n",
      "800/800 [==============================] - 0s 59us/step - loss: 0.0070 - acc: 0.9988\n",
      "Epoch 154/200\n",
      "800/800 [==============================] - 0s 47us/step - loss: 0.0063 - acc: 0.9988\n",
      "Epoch 155/200\n",
      "800/800 [==============================] - 0s 46us/step - loss: 0.0076 - acc: 0.9988\n",
      "Epoch 156/200\n",
      "800/800 [==============================] - 0s 45us/step - loss: 0.0171 - acc: 0.9975\n",
      "Epoch 157/200\n",
      "800/800 [==============================] - 0s 52us/step - loss: 0.0112 - acc: 0.9988\n",
      "Epoch 158/200\n",
      "800/800 [==============================] - 0s 48us/step - loss: 0.0087 - acc: 0.9975\n",
      "Epoch 159/200\n",
      "800/800 [==============================] - 0s 63us/step - loss: 0.0125 - acc: 0.9988\n",
      "Epoch 160/200\n",
      "800/800 [==============================] - 0s 52us/step - loss: 0.0079 - acc: 0.9988\n",
      "Epoch 161/200\n",
      "800/800 [==============================] - 0s 47us/step - loss: 0.0095 - acc: 0.9988\n",
      "Epoch 162/200\n",
      "800/800 [==============================] - 0s 50us/step - loss: 0.0051 - acc: 1.0000\n",
      "Epoch 163/200\n",
      "800/800 [==============================] - 0s 45us/step - loss: 0.0079 - acc: 0.9988\n",
      "Epoch 164/200\n",
      "800/800 [==============================] - 0s 43us/step - loss: 0.0069 - acc: 0.9975\n",
      "Epoch 165/200\n",
      "800/800 [==============================] - 0s 58us/step - loss: 0.0060 - acc: 0.9988\n",
      "Epoch 166/200\n"
     ]
    },
    {
     "name": "stdout",
     "output_type": "stream",
     "text": [
      "800/800 [==============================] - 0s 39us/step - loss: 0.0053 - acc: 0.9988\n",
      "Epoch 167/200\n",
      "800/800 [==============================] - 0s 59us/step - loss: 0.0060 - acc: 0.9988\n",
      "Epoch 168/200\n",
      "800/800 [==============================] - 0s 41us/step - loss: 0.0054 - acc: 0.9988\n",
      "Epoch 169/200\n",
      "800/800 [==============================] - 0s 54us/step - loss: 0.0052 - acc: 0.9988\n",
      "Epoch 170/200\n",
      "800/800 [==============================] - 0s 46us/step - loss: 0.0052 - acc: 0.9988\n",
      "Epoch 171/200\n",
      "800/800 [==============================] - 0s 47us/step - loss: 0.0059 - acc: 0.9988\n",
      "Epoch 172/200\n",
      "800/800 [==============================] - 0s 52us/step - loss: 0.0071 - acc: 0.9975\n",
      "Epoch 173/200\n",
      "800/800 [==============================] - 0s 47us/step - loss: 0.0072 - acc: 0.9975\n",
      "Epoch 174/200\n",
      "800/800 [==============================] - 0s 45us/step - loss: 0.0054 - acc: 0.9988\n",
      "Epoch 175/200\n",
      "800/800 [==============================] - 0s 49us/step - loss: 0.0054 - acc: 0.9975\n",
      "Epoch 176/200\n",
      "800/800 [==============================] - 0s 51us/step - loss: 0.0052 - acc: 0.9975\n",
      "Epoch 177/200\n",
      "800/800 [==============================] - 0s 49us/step - loss: 0.0051 - acc: 0.9975\n",
      "Epoch 178/200\n",
      "800/800 [==============================] - 0s 45us/step - loss: 0.0048 - acc: 0.9975\n",
      "Epoch 179/200\n",
      "800/800 [==============================] - 0s 39us/step - loss: 0.0057 - acc: 0.9988\n",
      "Epoch 180/200\n",
      "800/800 [==============================] - 0s 52us/step - loss: 0.0060 - acc: 0.9988\n",
      "Epoch 181/200\n",
      "800/800 [==============================] - 0s 42us/step - loss: 0.0045 - acc: 0.9988\n",
      "Epoch 182/200\n",
      "800/800 [==============================] - 0s 45us/step - loss: 0.0045 - acc: 0.9988\n",
      "Epoch 183/200\n",
      "800/800 [==============================] - 0s 40us/step - loss: 0.0049 - acc: 0.9988\n",
      "Epoch 184/200\n",
      "800/800 [==============================] - 0s 43us/step - loss: 0.0049 - acc: 0.9988\n",
      "Epoch 185/200\n",
      "800/800 [==============================] - 0s 48us/step - loss: 0.0046 - acc: 0.9988\n",
      "Epoch 186/200\n",
      "800/800 [==============================] - 0s 46us/step - loss: 0.0045 - acc: 0.9988\n",
      "Epoch 187/200\n",
      "800/800 [==============================] - 0s 45us/step - loss: 0.0047 - acc: 0.9988\n",
      "Epoch 188/200\n",
      "800/800 [==============================] - 0s 35us/step - loss: 0.0042 - acc: 0.9988\n",
      "Epoch 189/200\n",
      "800/800 [==============================] - 0s 35us/step - loss: 0.0044 - acc: 0.9988\n",
      "Epoch 190/200\n",
      "800/800 [==============================] - 0s 52us/step - loss: 0.0052 - acc: 0.9975\n",
      "Epoch 191/200\n",
      "800/800 [==============================] - 0s 43us/step - loss: 0.0043 - acc: 0.9988\n",
      "Epoch 192/200\n",
      "800/800 [==============================] - 0s 42us/step - loss: 0.0061 - acc: 0.9975\n",
      "Epoch 193/200\n",
      "800/800 [==============================] - 0s 34us/step - loss: 0.0041 - acc: 0.9988\n",
      "Epoch 194/200\n",
      "800/800 [==============================] - 0s 45us/step - loss: 0.0051 - acc: 0.9988\n",
      "Epoch 195/200\n",
      "800/800 [==============================] - 0s 47us/step - loss: 0.0059 - acc: 0.9975\n",
      "Epoch 196/200\n",
      "800/800 [==============================] - 0s 41us/step - loss: 0.0050 - acc: 0.9975\n",
      "Epoch 197/200\n",
      "800/800 [==============================] - 0s 39us/step - loss: 0.0040 - acc: 0.9988\n",
      "Epoch 198/200\n",
      "800/800 [==============================] - 0s 44us/step - loss: 0.0039 - acc: 0.9988\n",
      "Epoch 199/200\n",
      "800/800 [==============================] - 0s 38us/step - loss: 0.0041 - acc: 0.9988\n",
      "Epoch 200/200\n",
      "800/800 [==============================] - 0s 36us/step - loss: 0.0049 - acc: 0.9988\n"
     ]
    }
   ],
   "source": [
    "history = model.fit(X_train,\n",
    "                    y_train,\n",
    "                    epochs=200,\n",
    "                    batch_size=128)\n",
    "                   "
   ]
  },
  {
   "cell_type": "code",
   "execution_count": 107,
   "metadata": {
    "colab": {
     "base_uri": "https://localhost:8080/",
     "height": 34
    },
    "colab_type": "code",
    "id": "0m1J0_wUFK4C",
    "outputId": "ffd3bf36-29ea-437a-987c-9aa600b9dae6"
   },
   "outputs": [
    {
     "name": "stdout",
     "output_type": "stream",
     "text": [
      "200/200 [==============================] - 0s 1ms/step\n"
     ]
    }
   ],
   "source": [
    "test_loss, test_acc = model.evaluate(X_test,y_test)"
   ]
  },
  {
   "cell_type": "code",
   "execution_count": 108,
   "metadata": {
    "colab": {
     "base_uri": "https://localhost:8080/",
     "height": 34
    },
    "colab_type": "code",
    "id": "f6HrjXeUF0Ko",
    "outputId": "ea282dbd-6f9e-48c7-de2d-dc9afde8949e"
   },
   "outputs": [
    {
     "name": "stdout",
     "output_type": "stream",
     "text": [
      "test_acc:  0.69\n"
     ]
    }
   ],
   "source": [
    "print('test_acc: ',test_acc)"
   ]
  },
  {
   "cell_type": "markdown",
   "metadata": {
    "colab_type": "text",
    "id": "3yQmP_f5Kq0w"
   },
   "source": [
    "Tes accuracy is less than training dataa accuracy. This hints at Overfitting"
   ]
  },
  {
   "cell_type": "markdown",
   "metadata": {
    "colab_type": "text",
    "id": "-U2qzRJoHV9O"
   },
   "source": [
    "## Validating our approach\n",
    "Let's set apart 200 samples in our training data to use as a validation set:"
   ]
  },
  {
   "cell_type": "code",
   "execution_count": 109,
   "metadata": {
    "colab": {},
    "colab_type": "code",
    "id": "xJNbvYZoF7ZT"
   },
   "outputs": [],
   "source": [
    "x_val = X_train[:200]\n",
    "partial_x_train = X_train[200:]\n",
    "\n",
    "y_val = y_train[:200]\n",
    "partial_y_train = y_train[200:]"
   ]
  },
  {
   "cell_type": "markdown",
   "metadata": {
    "colab_type": "text",
    "id": "L1EkG59EHeEV"
   },
   "source": [
    "Now let's train our network for 20 epochs:"
   ]
  },
  {
   "cell_type": "code",
   "execution_count": 110,
   "metadata": {
    "colab": {
     "base_uri": "https://localhost:8080/",
     "height": 1071
    },
    "colab_type": "code",
    "id": "Dp3G4P3aP4k2",
    "outputId": "25e1a389-1ac2-425b-bd5f-05736b6e9b96",
    "scrolled": true
   },
   "outputs": [
    {
     "name": "stdout",
     "output_type": "stream",
     "text": [
      "Train on 600 samples, validate on 200 samples\n",
      "Epoch 1/200\n",
      "600/600 [==============================] - 1s 2ms/step - loss: 2.2915 - acc: 0.1050 - val_loss: 2.1707 - val_acc: 0.3900\n",
      "Epoch 2/200\n",
      "600/600 [==============================] - 0s 78us/step - loss: 2.1480 - acc: 0.4150 - val_loss: 2.0414 - val_acc: 0.4100\n",
      "Epoch 3/200\n",
      "600/600 [==============================] - 0s 62us/step - loss: 2.0109 - acc: 0.4233 - val_loss: 1.9110 - val_acc: 0.3950\n",
      "Epoch 4/200\n",
      "600/600 [==============================] - 0s 105us/step - loss: 1.8651 - acc: 0.4267 - val_loss: 1.7823 - val_acc: 0.4000\n",
      "Epoch 5/200\n",
      "600/600 [==============================] - 0s 75us/step - loss: 1.7271 - acc: 0.4300 - val_loss: 1.6616 - val_acc: 0.4250\n",
      "Epoch 6/200\n",
      "600/600 [==============================] - 0s 92us/step - loss: 1.5869 - acc: 0.4533 - val_loss: 1.5710 - val_acc: 0.4350\n",
      "Epoch 7/200\n",
      "600/600 [==============================] - 0s 93us/step - loss: 1.4683 - acc: 0.5133 - val_loss: 1.5001 - val_acc: 0.4750\n",
      "Epoch 8/200\n",
      "600/600 [==============================] - ETA: 0s - loss: 1.3775 - acc: 0.544 - 0s 59us/step - loss: 1.3656 - acc: 0.5417 - val_loss: 1.4347 - val_acc: 0.5000\n",
      "Epoch 9/200\n",
      "600/600 [==============================] - 0s 53us/step - loss: 1.2754 - acc: 0.5783 - val_loss: 1.3830 - val_acc: 0.5100\n",
      "Epoch 10/200\n",
      "600/600 [==============================] - 0s 57us/step - loss: 1.1936 - acc: 0.5983 - val_loss: 1.3700 - val_acc: 0.5200\n",
      "Epoch 11/200\n",
      "600/600 [==============================] - 0s 51us/step - loss: 1.1349 - acc: 0.6100 - val_loss: 1.3510 - val_acc: 0.5400\n",
      "Epoch 12/200\n",
      "600/600 [==============================] - 0s 53us/step - loss: 1.0816 - acc: 0.6317 - val_loss: 1.3045 - val_acc: 0.5500\n",
      "Epoch 13/200\n",
      "600/600 [==============================] - 0s 56us/step - loss: 1.0446 - acc: 0.6567 - val_loss: 1.2689 - val_acc: 0.5850\n",
      "Epoch 14/200\n",
      "600/600 [==============================] - 0s 55us/step - loss: 0.9923 - acc: 0.6700 - val_loss: 1.2925 - val_acc: 0.5600\n",
      "Epoch 15/200\n",
      "600/600 [==============================] - 0s 58us/step - loss: 0.9646 - acc: 0.6633 - val_loss: 1.2823 - val_acc: 0.5750\n",
      "Epoch 16/200\n",
      "600/600 [==============================] - 0s 58us/step - loss: 0.9255 - acc: 0.6933 - val_loss: 1.2482 - val_acc: 0.5650\n",
      "Epoch 17/200\n",
      "600/600 [==============================] - 0s 60us/step - loss: 0.9179 - acc: 0.6850 - val_loss: 1.1856 - val_acc: 0.6050\n",
      "Epoch 18/200\n",
      "600/600 [==============================] - 0s 54us/step - loss: 0.8588 - acc: 0.7067 - val_loss: 1.2174 - val_acc: 0.6000\n",
      "Epoch 19/200\n",
      "600/600 [==============================] - 0s 55us/step - loss: 0.8650 - acc: 0.7033 - val_loss: 1.2202 - val_acc: 0.5950\n",
      "Epoch 20/200\n",
      "600/600 [==============================] - 0s 51us/step - loss: 0.8066 - acc: 0.7283 - val_loss: 1.2486 - val_acc: 0.6000\n",
      "Epoch 21/200\n",
      "600/600 [==============================] - 0s 56us/step - loss: 0.8030 - acc: 0.7300 - val_loss: 1.2314 - val_acc: 0.6050\n",
      "Epoch 22/200\n",
      "600/600 [==============================] - 0s 55us/step - loss: 0.7667 - acc: 0.7517 - val_loss: 1.2107 - val_acc: 0.6100\n",
      "Epoch 23/200\n",
      "600/600 [==============================] - 0s 57us/step - loss: 0.7276 - acc: 0.7517 - val_loss: 1.2088 - val_acc: 0.6100\n",
      "Epoch 24/200\n",
      "600/600 [==============================] - 0s 55us/step - loss: 0.7133 - acc: 0.7600 - val_loss: 1.1797 - val_acc: 0.6300\n",
      "Epoch 25/200\n",
      "600/600 [==============================] - 0s 56us/step - loss: 0.6768 - acc: 0.7800 - val_loss: 1.2113 - val_acc: 0.6400\n",
      "Epoch 26/200\n",
      "600/600 [==============================] - 0s 52us/step - loss: 0.6739 - acc: 0.7917 - val_loss: 1.2013 - val_acc: 0.6250\n",
      "Epoch 27/200\n",
      "600/600 [==============================] - 0s 56us/step - loss: 0.6292 - acc: 0.8033 - val_loss: 1.2364 - val_acc: 0.6150\n",
      "Epoch 28/200\n",
      "600/600 [==============================] - 0s 58us/step - loss: 0.6174 - acc: 0.7933 - val_loss: 1.2298 - val_acc: 0.6400\n",
      "Epoch 29/200\n",
      "600/600 [==============================] - 0s 57us/step - loss: 0.5943 - acc: 0.7917 - val_loss: 1.2018 - val_acc: 0.6350\n",
      "Epoch 30/200\n",
      "600/600 [==============================] - 0s 58us/step - loss: 0.5821 - acc: 0.8050 - val_loss: 1.1652 - val_acc: 0.6450\n",
      "Epoch 31/200\n",
      "600/600 [==============================] - 0s 61us/step - loss: 0.5570 - acc: 0.8317 - val_loss: 1.1535 - val_acc: 0.6300\n",
      "Epoch 32/200\n",
      "600/600 [==============================] - 0s 58us/step - loss: 0.5533 - acc: 0.8250 - val_loss: 1.1284 - val_acc: 0.6450\n",
      "Epoch 33/200\n",
      "600/600 [==============================] - 0s 58us/step - loss: 0.5231 - acc: 0.8500 - val_loss: 1.1537 - val_acc: 0.6350\n",
      "Epoch 34/200\n",
      "600/600 [==============================] - 0s 57us/step - loss: 0.5186 - acc: 0.8333 - val_loss: 1.2075 - val_acc: 0.6200\n",
      "Epoch 35/200\n",
      "600/600 [==============================] - 0s 63us/step - loss: 0.5010 - acc: 0.8417 - val_loss: 1.2568 - val_acc: 0.5900\n",
      "Epoch 36/200\n",
      "600/600 [==============================] - 0s 57us/step - loss: 0.5114 - acc: 0.8183 - val_loss: 1.2394 - val_acc: 0.5900\n",
      "Epoch 37/200\n",
      "600/600 [==============================] - 0s 56us/step - loss: 0.4808 - acc: 0.8517 - val_loss: 1.1999 - val_acc: 0.6450\n",
      "Epoch 38/200\n",
      "600/600 [==============================] - 0s 57us/step - loss: 0.4460 - acc: 0.8850 - val_loss: 1.2151 - val_acc: 0.6400\n",
      "Epoch 39/200\n",
      "600/600 [==============================] - 0s 59us/step - loss: 0.4557 - acc: 0.8733 - val_loss: 1.1970 - val_acc: 0.6400\n",
      "Epoch 40/200\n",
      "600/600 [==============================] - 0s 58us/step - loss: 0.4227 - acc: 0.8933 - val_loss: 1.2423 - val_acc: 0.6200\n",
      "Epoch 41/200\n",
      "600/600 [==============================] - 0s 58us/step - loss: 0.4125 - acc: 0.8867 - val_loss: 1.2815 - val_acc: 0.6350\n",
      "Epoch 42/200\n",
      "600/600 [==============================] - 0s 56us/step - loss: 0.3997 - acc: 0.8817 - val_loss: 1.2247 - val_acc: 0.6550\n",
      "Epoch 43/200\n",
      "600/600 [==============================] - 0s 53us/step - loss: 0.3764 - acc: 0.9050 - val_loss: 1.1924 - val_acc: 0.6400\n",
      "Epoch 44/200\n",
      "600/600 [==============================] - 0s 58us/step - loss: 0.3825 - acc: 0.9050 - val_loss: 1.2187 - val_acc: 0.6400\n",
      "Epoch 45/200\n",
      "600/600 [==============================] - 0s 62us/step - loss: 0.3461 - acc: 0.9133 - val_loss: 1.3115 - val_acc: 0.6050\n",
      "Epoch 46/200\n",
      "600/600 [==============================] - 0s 60us/step - loss: 0.3569 - acc: 0.9017 - val_loss: 1.2435 - val_acc: 0.6400\n",
      "Epoch 47/200\n",
      "600/600 [==============================] - 0s 55us/step - loss: 0.3390 - acc: 0.9150 - val_loss: 1.1593 - val_acc: 0.6450\n",
      "Epoch 48/200\n",
      "600/600 [==============================] - 0s 58us/step - loss: 0.3297 - acc: 0.9133 - val_loss: 1.2034 - val_acc: 0.6600\n",
      "Epoch 49/200\n",
      "600/600 [==============================] - 0s 59us/step - loss: 0.3250 - acc: 0.9083 - val_loss: 1.2841 - val_acc: 0.6400\n",
      "Epoch 50/200\n",
      "600/600 [==============================] - 0s 57us/step - loss: 0.3055 - acc: 0.9283 - val_loss: 1.3221 - val_acc: 0.6500\n",
      "Epoch 51/200\n",
      "600/600 [==============================] - 0s 56us/step - loss: 0.2968 - acc: 0.9300 - val_loss: 1.3128 - val_acc: 0.6350\n",
      "Epoch 52/200\n",
      "600/600 [==============================] - 0s 56us/step - loss: 0.2799 - acc: 0.9350 - val_loss: 1.2738 - val_acc: 0.6550\n",
      "Epoch 53/200\n",
      "600/600 [==============================] - 0s 50us/step - loss: 0.2642 - acc: 0.9383 - val_loss: 1.2621 - val_acc: 0.6400\n",
      "Epoch 54/200\n",
      "600/600 [==============================] - 0s 55us/step - loss: 0.2507 - acc: 0.9417 - val_loss: 1.2756 - val_acc: 0.6400\n",
      "Epoch 55/200\n",
      "600/600 [==============================] - 0s 59us/step - loss: 0.2435 - acc: 0.9500 - val_loss: 1.2555 - val_acc: 0.6350\n",
      "Epoch 56/200\n",
      "600/600 [==============================] - 0s 59us/step - loss: 0.2355 - acc: 0.9533 - val_loss: 1.2548 - val_acc: 0.6500\n",
      "Epoch 57/200\n",
      "600/600 [==============================] - 0s 53us/step - loss: 0.2349 - acc: 0.9417 - val_loss: 1.2702 - val_acc: 0.6350\n",
      "Epoch 58/200\n",
      "600/600 [==============================] - 0s 56us/step - loss: 0.2149 - acc: 0.9517 - val_loss: 1.3271 - val_acc: 0.6350\n",
      "Epoch 59/200\n",
      "600/600 [==============================] - 0s 54us/step - loss: 0.2091 - acc: 0.9583 - val_loss: 1.3431 - val_acc: 0.6300\n",
      "Epoch 60/200\n",
      "600/600 [==============================] - 0s 58us/step - loss: 0.2012 - acc: 0.9633 - val_loss: 1.3327 - val_acc: 0.6650\n",
      "Epoch 61/200\n",
      "600/600 [==============================] - 0s 54us/step - loss: 0.2002 - acc: 0.9617 - val_loss: 1.3328 - val_acc: 0.6400\n",
      "Epoch 62/200\n",
      "600/600 [==============================] - 0s 56us/step - loss: 0.1896 - acc: 0.9667 - val_loss: 1.3686 - val_acc: 0.6350\n",
      "Epoch 63/200\n",
      "600/600 [==============================] - 0s 56us/step - loss: 0.1822 - acc: 0.9667 - val_loss: 1.3903 - val_acc: 0.6200\n",
      "Epoch 64/200\n",
      "600/600 [==============================] - 0s 54us/step - loss: 0.1900 - acc: 0.9617 - val_loss: 1.3607 - val_acc: 0.6350\n",
      "Epoch 65/200\n",
      "600/600 [==============================] - 0s 55us/step - loss: 0.1700 - acc: 0.9650 - val_loss: 1.3379 - val_acc: 0.6300\n",
      "Epoch 66/200\n",
      "600/600 [==============================] - 0s 54us/step - loss: 0.1595 - acc: 0.9733 - val_loss: 1.3519 - val_acc: 0.6500\n",
      "Epoch 67/200\n",
      "600/600 [==============================] - 0s 62us/step - loss: 0.1575 - acc: 0.9767 - val_loss: 1.3777 - val_acc: 0.6350\n",
      "Epoch 68/200\n",
      "600/600 [==============================] - 0s 57us/step - loss: 0.1427 - acc: 0.9767 - val_loss: 1.4284 - val_acc: 0.6200\n",
      "Epoch 69/200\n",
      "600/600 [==============================] - 0s 57us/step - loss: 0.1405 - acc: 0.9750 - val_loss: 1.4214 - val_acc: 0.6400\n",
      "Epoch 70/200\n",
      "600/600 [==============================] - 0s 61us/step - loss: 0.1284 - acc: 0.9783 - val_loss: 1.4246 - val_acc: 0.6300\n",
      "Epoch 71/200\n",
      "600/600 [==============================] - 0s 56us/step - loss: 0.1227 - acc: 0.9817 - val_loss: 1.4468 - val_acc: 0.6400\n",
      "Epoch 72/200\n",
      "600/600 [==============================] - 0s 60us/step - loss: 0.1134 - acc: 0.9867 - val_loss: 1.4774 - val_acc: 0.6450\n",
      "Epoch 73/200\n",
      "600/600 [==============================] - 0s 56us/step - loss: 0.1140 - acc: 0.9817 - val_loss: 1.4640 - val_acc: 0.6350\n",
      "Epoch 74/200\n",
      "600/600 [==============================] - 0s 55us/step - loss: 0.1082 - acc: 0.9817 - val_loss: 1.4754 - val_acc: 0.6250\n",
      "Epoch 75/200\n",
      "600/600 [==============================] - 0s 53us/step - loss: 0.1073 - acc: 0.9850 - val_loss: 1.5145 - val_acc: 0.6100\n",
      "Epoch 76/200\n",
      "600/600 [==============================] - 0s 59us/step - loss: 0.1039 - acc: 0.9850 - val_loss: 1.5091 - val_acc: 0.6200\n",
      "Epoch 77/200\n",
      "600/600 [==============================] - 0s 62us/step - loss: 0.0926 - acc: 0.9917 - val_loss: 1.4961 - val_acc: 0.6450\n",
      "Epoch 78/200\n",
      "600/600 [==============================] - 0s 56us/step - loss: 0.0970 - acc: 0.9850 - val_loss: 1.4680 - val_acc: 0.6450\n",
      "Epoch 79/200\n",
      "600/600 [==============================] - 0s 58us/step - loss: 0.0809 - acc: 0.9933 - val_loss: 1.5003 - val_acc: 0.6350\n",
      "Epoch 80/200\n",
      "600/600 [==============================] - 0s 58us/step - loss: 0.0829 - acc: 0.9900 - val_loss: 1.5574 - val_acc: 0.6400\n",
      "Epoch 81/200\n",
      "600/600 [==============================] - 0s 57us/step - loss: 0.0857 - acc: 0.9883 - val_loss: 1.5437 - val_acc: 0.6400\n",
      "Epoch 82/200\n",
      "600/600 [==============================] - 0s 55us/step - loss: 0.0721 - acc: 0.9967 - val_loss: 1.5360 - val_acc: 0.6350\n",
      "Epoch 83/200\n",
      "600/600 [==============================] - 0s 56us/step - loss: 0.0790 - acc: 0.9883 - val_loss: 1.5442 - val_acc: 0.6300\n",
      "Epoch 84/200\n",
      "600/600 [==============================] - 0s 54us/step - loss: 0.0690 - acc: 0.9950 - val_loss: 1.5526 - val_acc: 0.6250\n",
      "Epoch 85/200\n",
      "600/600 [==============================] - 0s 63us/step - loss: 0.0639 - acc: 0.9983 - val_loss: 1.5073 - val_acc: 0.6250\n",
      "Epoch 86/200\n",
      "600/600 [==============================] - 0s 60us/step - loss: 0.0611 - acc: 0.9983 - val_loss: 1.5207 - val_acc: 0.6400\n",
      "Epoch 87/200\n",
      "600/600 [==============================] - 0s 55us/step - loss: 0.0664 - acc: 0.9917 - val_loss: 1.5767 - val_acc: 0.6200\n",
      "Epoch 88/200\n",
      "600/600 [==============================] - 0s 58us/step - loss: 0.0515 - acc: 0.9967 - val_loss: 1.6617 - val_acc: 0.6250\n",
      "Epoch 89/200\n",
      "600/600 [==============================] - 0s 58us/step - loss: 0.0613 - acc: 0.9917 - val_loss: 1.6300 - val_acc: 0.6350\n",
      "Epoch 90/200\n",
      "600/600 [==============================] - 0s 59us/step - loss: 0.0506 - acc: 0.9950 - val_loss: 1.5838 - val_acc: 0.6400\n",
      "Epoch 91/200\n",
      "600/600 [==============================] - 0s 60us/step - loss: 0.0555 - acc: 0.9900 - val_loss: 1.5759 - val_acc: 0.6200\n",
      "Epoch 92/200\n",
      "600/600 [==============================] - 0s 56us/step - loss: 0.0493 - acc: 0.9917 - val_loss: 1.6256 - val_acc: 0.6400\n",
      "Epoch 93/200\n",
      "600/600 [==============================] - 0s 53us/step - loss: 0.0446 - acc: 0.9983 - val_loss: 1.6529 - val_acc: 0.6300\n",
      "Epoch 94/200\n",
      "600/600 [==============================] - 0s 53us/step - loss: 0.0435 - acc: 0.9983 - val_loss: 1.6249 - val_acc: 0.6300\n",
      "Epoch 95/200\n",
      "600/600 [==============================] - 0s 56us/step - loss: 0.0387 - acc: 0.9983 - val_loss: 1.6181 - val_acc: 0.6200\n",
      "Epoch 96/200\n",
      "600/600 [==============================] - 0s 55us/step - loss: 0.0395 - acc: 0.9983 - val_loss: 1.6325 - val_acc: 0.6350\n",
      "Epoch 97/200\n",
      "600/600 [==============================] - 0s 60us/step - loss: 0.0371 - acc: 0.9983 - val_loss: 1.6695 - val_acc: 0.6500\n",
      "Epoch 98/200\n",
      "600/600 [==============================] - 0s 55us/step - loss: 0.0358 - acc: 0.9967 - val_loss: 1.6941 - val_acc: 0.6400\n",
      "Epoch 99/200\n",
      "600/600 [==============================] - 0s 63us/step - loss: 0.0338 - acc: 0.9983 - val_loss: 1.7124 - val_acc: 0.6300\n",
      "Epoch 100/200\n",
      "600/600 [==============================] - 0s 55us/step - loss: 0.0336 - acc: 0.9983 - val_loss: 1.7051 - val_acc: 0.6250\n",
      "Epoch 101/200\n",
      "600/600 [==============================] - 0s 55us/step - loss: 0.0315 - acc: 0.9967 - val_loss: 1.6754 - val_acc: 0.6400\n",
      "Epoch 102/200\n",
      "600/600 [==============================] - 0s 56us/step - loss: 0.0286 - acc: 0.9983 - val_loss: 1.6751 - val_acc: 0.6450\n",
      "Epoch 103/200\n",
      "600/600 [==============================] - 0s 57us/step - loss: 0.0286 - acc: 0.9983 - val_loss: 1.7021 - val_acc: 0.6450\n",
      "Epoch 104/200\n",
      "600/600 [==============================] - 0s 51us/step - loss: 0.0272 - acc: 0.9983 - val_loss: 1.7309 - val_acc: 0.6400\n",
      "Epoch 105/200\n",
      "600/600 [==============================] - 0s 53us/step - loss: 0.0268 - acc: 0.9983 - val_loss: 1.7197 - val_acc: 0.6400\n",
      "Epoch 106/200\n",
      "600/600 [==============================] - 0s 57us/step - loss: 0.0254 - acc: 0.9983 - val_loss: 1.7012 - val_acc: 0.6450\n",
      "Epoch 107/200\n",
      "600/600 [==============================] - 0s 67us/step - loss: 0.0245 - acc: 0.9983 - val_loss: 1.7053 - val_acc: 0.6400\n",
      "Epoch 108/200\n",
      "600/600 [==============================] - 0s 82us/step - loss: 0.0245 - acc: 0.9983 - val_loss: 1.7383 - val_acc: 0.6400\n",
      "Epoch 109/200\n",
      "600/600 [==============================] - 0s 48us/step - loss: 0.0276 - acc: 0.9983 - val_loss: 1.7568 - val_acc: 0.6400\n",
      "Epoch 110/200\n",
      "600/600 [==============================] - 0s 48us/step - loss: 0.0247 - acc: 0.9983 - val_loss: 1.7523 - val_acc: 0.6550\n",
      "Epoch 111/200\n",
      "600/600 [==============================] - 0s 72us/step - loss: 0.0301 - acc: 0.9983 - val_loss: 1.7424 - val_acc: 0.6400\n",
      "Epoch 112/200\n",
      "600/600 [==============================] - 0s 62us/step - loss: 0.0251 - acc: 0.9983 - val_loss: 1.7822 - val_acc: 0.6200\n",
      "Epoch 113/200\n",
      "600/600 [==============================] - 0s 60us/step - loss: 0.0250 - acc: 0.9983 - val_loss: 1.8309 - val_acc: 0.6100\n",
      "Epoch 114/200\n",
      "600/600 [==============================] - 0s 59us/step - loss: 0.0312 - acc: 0.9983 - val_loss: 1.7743 - val_acc: 0.6400\n",
      "Epoch 115/200\n",
      "600/600 [==============================] - 0s 53us/step - loss: 0.0190 - acc: 0.9983 - val_loss: 1.7793 - val_acc: 0.6500\n",
      "Epoch 116/200\n",
      "600/600 [==============================] - 0s 53us/step - loss: 0.0472 - acc: 0.9883 - val_loss: 1.7893 - val_acc: 0.6400\n",
      "Epoch 117/200\n",
      "600/600 [==============================] - 0s 55us/step - loss: 0.0206 - acc: 0.9983 - val_loss: 1.9184 - val_acc: 0.6300\n",
      "Epoch 118/200\n",
      "600/600 [==============================] - 0s 60us/step - loss: 0.0367 - acc: 0.9933 - val_loss: 1.9084 - val_acc: 0.6250\n",
      "Epoch 119/200\n",
      "600/600 [==============================] - 0s 53us/step - loss: 0.0330 - acc: 0.9933 - val_loss: 1.8090 - val_acc: 0.6400\n",
      "Epoch 120/200\n",
      "600/600 [==============================] - 0s 52us/step - loss: 0.0200 - acc: 0.9983 - val_loss: 1.7891 - val_acc: 0.6400\n",
      "Epoch 121/200\n"
     ]
    },
    {
     "name": "stdout",
     "output_type": "stream",
     "text": [
      "600/600 [==============================] - 0s 70us/step - loss: 0.0223 - acc: 0.9983 - val_loss: 1.7777 - val_acc: 0.6450\n",
      "Epoch 122/200\n",
      "600/600 [==============================] - 0s 56us/step - loss: 0.0186 - acc: 0.9983 - val_loss: 1.7862 - val_acc: 0.6400\n",
      "Epoch 123/200\n",
      "600/600 [==============================] - 0s 54us/step - loss: 0.0184 - acc: 0.9983 - val_loss: 1.8006 - val_acc: 0.6450\n",
      "Epoch 124/200\n",
      "600/600 [==============================] - 0s 54us/step - loss: 0.0197 - acc: 0.9983 - val_loss: 1.8044 - val_acc: 0.6450\n",
      "Epoch 125/200\n",
      "600/600 [==============================] - 0s 55us/step - loss: 0.0177 - acc: 0.9983 - val_loss: 1.8062 - val_acc: 0.6450\n",
      "Epoch 126/200\n",
      "600/600 [==============================] - 0s 54us/step - loss: 0.0155 - acc: 0.9983 - val_loss: 1.8138 - val_acc: 0.6500\n",
      "Epoch 127/200\n",
      "600/600 [==============================] - 0s 49us/step - loss: 0.0154 - acc: 0.9983 - val_loss: 1.8242 - val_acc: 0.6500\n",
      "Epoch 128/200\n",
      "600/600 [==============================] - 0s 66us/step - loss: 0.0151 - acc: 0.9983 - val_loss: 1.8370 - val_acc: 0.6400\n",
      "Epoch 129/200\n",
      "600/600 [==============================] - 0s 53us/step - loss: 0.0140 - acc: 0.9983 - val_loss: 1.8584 - val_acc: 0.6400\n",
      "Epoch 130/200\n",
      "600/600 [==============================] - 0s 46us/step - loss: 0.0146 - acc: 0.9983 - val_loss: 1.8838 - val_acc: 0.6250\n",
      "Epoch 131/200\n",
      "600/600 [==============================] - 0s 54us/step - loss: 0.0172 - acc: 0.9983 - val_loss: 1.8761 - val_acc: 0.6350\n",
      "Epoch 132/200\n",
      "600/600 [==============================] - 0s 53us/step - loss: 0.0155 - acc: 0.9983 - val_loss: 1.8592 - val_acc: 0.6400\n",
      "Epoch 133/200\n",
      "600/600 [==============================] - 0s 59us/step - loss: 0.0132 - acc: 0.9983 - val_loss: 1.8670 - val_acc: 0.6500\n",
      "Epoch 134/200\n",
      "600/600 [==============================] - 0s 53us/step - loss: 0.0128 - acc: 0.9983 - val_loss: 1.8854 - val_acc: 0.6500\n",
      "Epoch 135/200\n",
      "600/600 [==============================] - 0s 56us/step - loss: 0.0130 - acc: 0.9983 - val_loss: 1.8993 - val_acc: 0.6450\n",
      "Epoch 136/200\n",
      "600/600 [==============================] - 0s 72us/step - loss: 0.0126 - acc: 0.9983 - val_loss: 1.9090 - val_acc: 0.6400\n",
      "Epoch 137/200\n",
      "600/600 [==============================] - 0s 76us/step - loss: 0.0124 - acc: 0.9983 - val_loss: 1.9155 - val_acc: 0.6300\n",
      "Epoch 138/200\n",
      "600/600 [==============================] - 0s 79us/step - loss: 0.0128 - acc: 0.9983 - val_loss: 1.9127 - val_acc: 0.6300\n",
      "Epoch 139/200\n",
      "600/600 [==============================] - 0s 104us/step - loss: 0.0123 - acc: 0.9983 - val_loss: 1.9045 - val_acc: 0.6350\n",
      "Epoch 140/200\n",
      "600/600 [==============================] - 0s 94us/step - loss: 0.0112 - acc: 0.9983 - val_loss: 1.8908 - val_acc: 0.6450\n",
      "Epoch 141/200\n",
      "600/600 [==============================] - 0s 76us/step - loss: 0.0123 - acc: 0.9983 - val_loss: 1.8951 - val_acc: 0.6400\n",
      "Epoch 142/200\n",
      "600/600 [==============================] - 0s 80us/step - loss: 0.0104 - acc: 0.9983 - val_loss: 1.9233 - val_acc: 0.6350\n",
      "Epoch 143/200\n",
      "600/600 [==============================] - 0s 84us/step - loss: 0.0113 - acc: 0.9983 - val_loss: 1.9437 - val_acc: 0.6350\n",
      "Epoch 144/200\n",
      "600/600 [==============================] - 0s 76us/step - loss: 0.0134 - acc: 0.9983 - val_loss: 1.9435 - val_acc: 0.6400\n",
      "Epoch 145/200\n",
      "600/600 [==============================] - 0s 71us/step - loss: 0.0129 - acc: 0.9983 - val_loss: 1.9325 - val_acc: 0.6450\n",
      "Epoch 146/200\n",
      "600/600 [==============================] - 0s 68us/step - loss: 0.0111 - acc: 0.9983 - val_loss: 1.9301 - val_acc: 0.6400\n",
      "Epoch 147/200\n",
      "600/600 [==============================] - 0s 62us/step - loss: 0.0097 - acc: 0.9983 - val_loss: 1.9303 - val_acc: 0.6400\n",
      "Epoch 148/200\n",
      "600/600 [==============================] - 0s 70us/step - loss: 0.0094 - acc: 0.9983 - val_loss: 1.9268 - val_acc: 0.6400\n",
      "Epoch 149/200\n",
      "600/600 [==============================] - 0s 60us/step - loss: 0.0095 - acc: 0.9967 - val_loss: 1.9338 - val_acc: 0.6350\n",
      "Epoch 150/200\n",
      "600/600 [==============================] - 0s 57us/step - loss: 0.0094 - acc: 0.9983 - val_loss: 1.9540 - val_acc: 0.6300\n",
      "Epoch 151/200\n",
      "600/600 [==============================] - 0s 58us/step - loss: 0.0112 - acc: 0.9983 - val_loss: 1.9634 - val_acc: 0.6350\n",
      "Epoch 152/200\n",
      "600/600 [==============================] - 0s 72us/step - loss: 0.0112 - acc: 0.9983 - val_loss: 1.9638 - val_acc: 0.6400\n",
      "Epoch 153/200\n",
      "600/600 [==============================] - 0s 58us/step - loss: 0.0097 - acc: 0.9983 - val_loss: 1.9632 - val_acc: 0.6400\n",
      "Epoch 154/200\n",
      "600/600 [==============================] - 0s 57us/step - loss: 0.0087 - acc: 0.9983 - val_loss: 1.9627 - val_acc: 0.6450\n",
      "Epoch 155/200\n",
      "600/600 [==============================] - 0s 62us/step - loss: 0.0093 - acc: 0.9983 - val_loss: 1.9589 - val_acc: 0.6450\n",
      "Epoch 156/200\n",
      "600/600 [==============================] - 0s 60us/step - loss: 0.0101 - acc: 0.9983 - val_loss: 1.9575 - val_acc: 0.6450\n",
      "Epoch 157/200\n",
      "600/600 [==============================] - 0s 55us/step - loss: 0.0101 - acc: 0.9983 - val_loss: 1.9665 - val_acc: 0.6400\n",
      "Epoch 158/200\n",
      "600/600 [==============================] - 0s 54us/step - loss: 0.0086 - acc: 0.9983 - val_loss: 1.9847 - val_acc: 0.6300\n",
      "Epoch 159/200\n",
      "600/600 [==============================] - 0s 64us/step - loss: 0.0081 - acc: 0.9983 - val_loss: 2.0031 - val_acc: 0.6300\n",
      "Epoch 160/200\n",
      "600/600 [==============================] - 0s 61us/step - loss: 0.0085 - acc: 0.9983 - val_loss: 2.0143 - val_acc: 0.6350\n",
      "Epoch 161/200\n",
      "600/600 [==============================] - 0s 60us/step - loss: 0.0083 - acc: 0.9983 - val_loss: 2.0144 - val_acc: 0.6350\n",
      "Epoch 162/200\n",
      "600/600 [==============================] - 0s 71us/step - loss: 0.0078 - acc: 0.9983 - val_loss: 2.0054 - val_acc: 0.6350\n",
      "Epoch 163/200\n",
      "600/600 [==============================] - 0s 68us/step - loss: 0.0076 - acc: 0.9983 - val_loss: 1.9925 - val_acc: 0.6450\n",
      "Epoch 164/200\n",
      "600/600 [==============================] - 0s 62us/step - loss: 0.0078 - acc: 0.9983 - val_loss: 1.9861 - val_acc: 0.6450\n",
      "Epoch 165/200\n",
      "600/600 [==============================] - 0s 64us/step - loss: 0.0076 - acc: 0.9983 - val_loss: 1.9868 - val_acc: 0.6350\n",
      "Epoch 166/200\n",
      "600/600 [==============================] - 0s 65us/step - loss: 0.0074 - acc: 0.9983 - val_loss: 1.9971 - val_acc: 0.6250\n",
      "Epoch 167/200\n",
      "600/600 [==============================] - 0s 67us/step - loss: 0.0076 - acc: 0.9983 - val_loss: 1.9973 - val_acc: 0.6350\n",
      "Epoch 168/200\n",
      "600/600 [==============================] - 0s 76us/step - loss: 0.0092 - acc: 0.9983 - val_loss: 2.0034 - val_acc: 0.6350\n",
      "Epoch 169/200\n",
      "600/600 [==============================] - 0s 68us/step - loss: 0.0075 - acc: 0.9983 - val_loss: 2.0362 - val_acc: 0.6300\n",
      "Epoch 170/200\n",
      "600/600 [==============================] - 0s 69us/step - loss: 0.0086 - acc: 0.9983 - val_loss: 2.0533 - val_acc: 0.6350\n",
      "Epoch 171/200\n",
      "600/600 [==============================] - 0s 64us/step - loss: 0.0099 - acc: 0.9983 - val_loss: 2.0342 - val_acc: 0.6400\n",
      "Epoch 172/200\n",
      "600/600 [==============================] - 0s 73us/step - loss: 0.0072 - acc: 0.9983 - val_loss: 2.0119 - val_acc: 0.6450\n",
      "Epoch 173/200\n",
      "600/600 [==============================] - 0s 83us/step - loss: 0.0086 - acc: 0.9983 - val_loss: 2.0128 - val_acc: 0.6500\n",
      "Epoch 174/200\n",
      "600/600 [==============================] - 0s 71us/step - loss: 0.0208 - acc: 0.9967 - val_loss: 2.0150 - val_acc: 0.6450\n",
      "Epoch 175/200\n",
      "600/600 [==============================] - 0s 85us/step - loss: 0.0113 - acc: 0.9983 - val_loss: 2.0522 - val_acc: 0.6350\n",
      "Epoch 176/200\n",
      "600/600 [==============================] - 0s 69us/step - loss: 0.0071 - acc: 0.9983 - val_loss: 2.1201 - val_acc: 0.6350\n",
      "Epoch 177/200\n",
      "600/600 [==============================] - 0s 78us/step - loss: 0.0112 - acc: 0.9983 - val_loss: 2.1046 - val_acc: 0.6300\n",
      "Epoch 178/200\n",
      "600/600 [==============================] - 0s 69us/step - loss: 0.0092 - acc: 0.9967 - val_loss: 2.0609 - val_acc: 0.6400\n",
      "Epoch 179/200\n",
      "600/600 [==============================] - 0s 74us/step - loss: 0.0070 - acc: 0.9983 - val_loss: 2.0341 - val_acc: 0.6450\n",
      "Epoch 180/200\n",
      "600/600 [==============================] - 0s 76us/step - loss: 0.0074 - acc: 0.9983 - val_loss: 2.0208 - val_acc: 0.6550\n",
      "Epoch 181/200\n",
      "600/600 [==============================] - 0s 82us/step - loss: 0.0112 - acc: 0.9983 - val_loss: 2.0185 - val_acc: 0.6500\n",
      "Epoch 182/200\n",
      "600/600 [==============================] - 0s 69us/step - loss: 0.0106 - acc: 0.9983 - val_loss: 2.0361 - val_acc: 0.6400\n",
      "Epoch 183/200\n",
      "600/600 [==============================] - 0s 82us/step - loss: 0.0064 - acc: 0.9983 - val_loss: 2.1276 - val_acc: 0.6300\n",
      "Epoch 184/200\n",
      "600/600 [==============================] - 0s 69us/step - loss: 0.0172 - acc: 0.9983 - val_loss: 2.1163 - val_acc: 0.6250\n",
      "Epoch 185/200\n",
      "600/600 [==============================] - 0s 86us/step - loss: 0.0156 - acc: 0.9983 - val_loss: 2.0494 - val_acc: 0.6400\n",
      "Epoch 186/200\n",
      "600/600 [==============================] - 0s 70us/step - loss: 0.0090 - acc: 0.9983 - val_loss: 2.0462 - val_acc: 0.6550\n",
      "Epoch 187/200\n",
      "600/600 [==============================] - 0s 70us/step - loss: 0.0093 - acc: 0.9983 - val_loss: 2.0616 - val_acc: 0.6500\n",
      "Epoch 188/200\n",
      "600/600 [==============================] - 0s 78us/step - loss: 0.0085 - acc: 0.9983 - val_loss: 2.0774 - val_acc: 0.6450\n",
      "Epoch 189/200\n",
      "600/600 [==============================] - 0s 61us/step - loss: 0.0054 - acc: 1.0000 - val_loss: 2.0703 - val_acc: 0.6450\n",
      "Epoch 190/200\n",
      "600/600 [==============================] - 0s 65us/step - loss: 0.0087 - acc: 0.9983 - val_loss: 2.0618 - val_acc: 0.6450\n",
      "Epoch 191/200\n",
      "600/600 [==============================] - 0s 71us/step - loss: 0.0124 - acc: 0.9983 - val_loss: 2.0658 - val_acc: 0.6500\n",
      "Epoch 192/200\n",
      "600/600 [==============================] - 0s 79us/step - loss: 0.0110 - acc: 0.9983 - val_loss: 2.0941 - val_acc: 0.6450\n",
      "Epoch 193/200\n",
      "600/600 [==============================] - 0s 84us/step - loss: 0.0087 - acc: 0.9983 - val_loss: 2.1442 - val_acc: 0.6450\n",
      "Epoch 194/200\n",
      "600/600 [==============================] - 0s 78us/step - loss: 0.0073 - acc: 0.9983 - val_loss: 2.1889 - val_acc: 0.6350\n",
      "Epoch 195/200\n",
      "600/600 [==============================] - 0s 72us/step - loss: 0.0090 - acc: 0.9983 - val_loss: 2.1776 - val_acc: 0.6400\n",
      "Epoch 196/200\n",
      "600/600 [==============================] - 0s 70us/step - loss: 0.0073 - acc: 0.9983 - val_loss: 2.1405 - val_acc: 0.6400\n",
      "Epoch 197/200\n",
      "600/600 [==============================] - 0s 75us/step - loss: 0.0069 - acc: 0.9983 - val_loss: 2.1088 - val_acc: 0.6400\n",
      "Epoch 198/200\n",
      "600/600 [==============================] - 0s 78us/step - loss: 0.0077 - acc: 0.9983 - val_loss: 2.0922 - val_acc: 0.6400\n",
      "Epoch 199/200\n",
      "600/600 [==============================] - 0s 81us/step - loss: 0.0076 - acc: 0.9983 - val_loss: 2.0878 - val_acc: 0.6400\n",
      "Epoch 200/200\n",
      "600/600 [==============================] - 0s 86us/step - loss: 0.0069 - acc: 0.9983 - val_loss: 2.0851 - val_acc: 0.6350\n",
      "200/200 [==============================] - 0s 126us/step\n"
     ]
    }
   ],
   "source": [
    "model = models.Sequential()\n",
    "model.add(layers.Dense(512, activation='relu', input_shape=(X_train.shape[1],)))\n",
    "model.add(layers.Dense(256, activation='relu'))\n",
    "model.add(layers.Dense(128, activation='relu'))\n",
    "model.add(layers.Dense(64, activation='relu'))\n",
    "model.add(layers.Dense(10, activation='softmax'))\n",
    "\n",
    "model.compile(optimizer='adam',\n",
    "              loss='sparse_categorical_crossentropy',\n",
    "              metrics=['accuracy'])\n",
    "\n",
    "model.fit(partial_x_train,\n",
    "          partial_y_train,\n",
    "          epochs=200,\n",
    "          batch_size=512,\n",
    "          validation_data=(x_val, y_val))\n",
    "results = model.evaluate(X_test, y_test)"
   ]
  },
  {
   "cell_type": "markdown",
   "metadata": {
    "colab_type": "text",
    "id": "dljqHfDPI6lH"
   },
   "source": []
  },
  {
   "cell_type": "code",
   "execution_count": 111,
   "metadata": {
    "colab": {
     "base_uri": "https://localhost:8080/",
     "height": 34
    },
    "colab_type": "code",
    "id": "Mvi9it1SI4aR",
    "outputId": "98b01ef2-3935-442b-82d6-45f56e036d39"
   },
   "outputs": [
    {
     "data": {
      "text/plain": [
       "[1.9170585727691651, 0.655]"
      ]
     },
     "execution_count": 111,
     "metadata": {},
     "output_type": "execute_result"
    }
   ],
   "source": [
    "results"
   ]
  },
  {
   "cell_type": "markdown",
   "metadata": {
    "colab_type": "text",
    "id": "r3hb8s1l4rBA"
   },
   "source": [
    "## Predictions on Test Data"
   ]
  },
  {
   "cell_type": "code",
   "execution_count": 112,
   "metadata": {
    "colab": {},
    "colab_type": "code",
    "id": "gudBAhIXJIi2"
   },
   "outputs": [],
   "source": [
    "predictions = model.predict(X_test)"
   ]
  },
  {
   "cell_type": "code",
   "execution_count": 113,
   "metadata": {
    "colab": {
     "base_uri": "https://localhost:8080/",
     "height": 34
    },
    "colab_type": "code",
    "id": "Xb7bVPSwJQF0",
    "outputId": "aca09c75-1d21-4847-bdd9-a0521dc8d948"
   },
   "outputs": [
    {
     "data": {
      "text/plain": [
       "(10,)"
      ]
     },
     "execution_count": 113,
     "metadata": {},
     "output_type": "execute_result"
    }
   ],
   "source": [
    "predictions[0].shape"
   ]
  },
  {
   "cell_type": "code",
   "execution_count": 114,
   "metadata": {
    "colab": {
     "base_uri": "https://localhost:8080/",
     "height": 34
    },
    "colab_type": "code",
    "id": "llusRQV0JRy9",
    "outputId": "a856289d-883a-47cb-c0fb-ec148330a60a"
   },
   "outputs": [
    {
     "data": {
      "text/plain": [
       "1.0"
      ]
     },
     "execution_count": 114,
     "metadata": {},
     "output_type": "execute_result"
    }
   ],
   "source": [
    "np.sum(predictions[0])"
   ]
  },
  {
   "cell_type": "code",
   "execution_count": 115,
   "metadata": {
    "colab": {
     "base_uri": "https://localhost:8080/",
     "height": 34
    },
    "colab_type": "code",
    "id": "0eoEuSZqJTdU",
    "outputId": "94c17d00-dd7f-40a1-84d2-78d1ebde6103"
   },
   "outputs": [
    {
     "data": {
      "text/plain": [
       "2"
      ]
     },
     "execution_count": 115,
     "metadata": {},
     "output_type": "execute_result"
    }
   ],
   "source": [
    "np.argmax(predictions[0])"
   ]
  },
  {
   "cell_type": "code",
   "execution_count": null,
   "metadata": {
    "colab": {},
    "colab_type": "code",
    "id": "Utgt1bXfJVRN"
   },
   "outputs": [],
   "source": []
  },
  {
   "cell_type": "code",
   "execution_count": null,
   "metadata": {},
   "outputs": [],
   "source": []
  }
 ],
 "metadata": {
  "accelerator": "TPU",
  "colab": {
   "include_colab_link": true,
   "name": "Untitled9.ipynb",
   "provenance": [],
   "version": "0.3.2"
  },
  "kernelspec": {
   "display_name": "notebook",
   "language": "python",
   "name": "notebook"
  },
  "language_info": {
   "codemirror_mode": {
    "name": "ipython",
    "version": 3
   },
   "file_extension": ".py",
   "mimetype": "text/x-python",
   "name": "python",
   "nbconvert_exporter": "python",
   "pygments_lexer": "ipython3",
   "version": "3.7.2"
  }
 },
 "nbformat": 4,
 "nbformat_minor": 1
}
